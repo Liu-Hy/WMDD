{
 "cells": [
  {
   "cell_type": "code",
   "execution_count": 2,
   "outputs": [],
   "source": [
    "import torchvision"
   ],
   "metadata": {
    "collapsed": false,
    "ExecuteTime": {
     "end_time": "2023-09-12T22:13:52.028651714Z",
     "start_time": "2023-09-12T22:13:51.190593479Z"
    }
   }
  },
  {
   "cell_type": "code",
   "execution_count": 5,
   "outputs": [],
   "source": [
    "model = torchvision.models.get_model(\"resnet18\", weights=None, num_classes=200)"
   ],
   "metadata": {
    "collapsed": false,
    "ExecuteTime": {
     "end_time": "2023-09-12T22:14:25.090714216Z",
     "start_time": "2023-09-12T22:14:24.996792059Z"
    }
   }
  },
  {
   "cell_type": "code",
   "execution_count": 1,
   "outputs": [
    {
     "data": {
      "text/plain": "4.62368"
     },
     "execution_count": 1,
     "metadata": {},
     "output_type": "execute_result"
    }
   ],
   "source": [
    "round(4.62367573, 5)"
   ],
   "metadata": {
    "collapsed": false,
    "ExecuteTime": {
     "end_time": "2023-09-16T03:38:16.898152917Z",
     "start_time": "2023-09-16T03:38:16.886393243Z"
    }
   }
  },
  {
   "cell_type": "code",
   "execution_count": 1,
   "outputs": [],
   "source": [
    "import ot"
   ],
   "metadata": {
    "collapsed": false,
    "ExecuteTime": {
     "end_time": "2023-09-25T00:53:20.246148185Z",
     "start_time": "2023-09-25T00:53:18.491670436Z"
    }
   }
  },
  {
   "cell_type": "code",
   "execution_count": 6,
   "outputs": [],
   "source": [
    "ot.unif(5)"
   ],
   "metadata": {
    "collapsed": false,
    "ExecuteTime": {
     "end_time": "2023-11-16T20:27:16.535900019Z",
     "start_time": "2023-11-16T20:27:16.492424534Z"
    }
   }
  },
  {
   "cell_type": "code",
   "execution_count": 7,
   "outputs": [
    {
     "ename": "AssertionError",
     "evalue": "",
     "output_type": "error",
     "traceback": [
      "\u001B[0;31m---------------------------------------------------------------------------\u001B[0m",
      "\u001B[0;31mAssertionError\u001B[0m                            Traceback (most recent call last)",
      "Cell \u001B[0;32mIn[7], line 19\u001B[0m\n\u001B[1;32m     16\u001B[0m weights \u001B[38;5;241m=\u001B[39m np\u001B[38;5;241m.\u001B[39mones((n,)) \u001B[38;5;241m/\u001B[39m n\n\u001B[1;32m     18\u001B[0m \u001B[38;5;66;03m# Compute Wasserstein barycenter\u001B[39;00m\n\u001B[0;32m---> 19\u001B[0m barycenter_wass \u001B[38;5;241m=\u001B[39m \u001B[43mot\u001B[49m\u001B[38;5;241;43m.\u001B[39;49m\u001B[43mbarycenter\u001B[49m\u001B[43m(\u001B[49m\u001B[43m[\u001B[49m\u001B[43mcircle\u001B[49m\u001B[43m,\u001B[49m\u001B[43m \u001B[49m\u001B[43msquare\u001B[49m\u001B[43m,\u001B[49m\u001B[43m \u001B[49m\u001B[43mtriangle\u001B[49m\u001B[43m]\u001B[49m\u001B[43m,\u001B[49m\u001B[43m \u001B[49m\u001B[43mM\u001B[49m\u001B[43m,\u001B[49m\u001B[43m \u001B[49m\u001B[43mreg\u001B[49m\u001B[38;5;241;43m=\u001B[39;49m\u001B[38;5;241;43m1e-2\u001B[39;49m\u001B[43m,\u001B[49m\u001B[43m \u001B[49m\u001B[43mweights\u001B[49m\u001B[38;5;241;43m=\u001B[39;49m\u001B[43m[\u001B[49m\u001B[43mweights\u001B[49m\u001B[43m,\u001B[49m\u001B[43m \u001B[49m\u001B[43mweights\u001B[49m\u001B[43m,\u001B[49m\u001B[43m \u001B[49m\u001B[43mweights\u001B[49m\u001B[43m]\u001B[49m\u001B[43m)\u001B[49m\n\u001B[1;32m     21\u001B[0m \u001B[38;5;66;03m# Compute Euclidean barycenter\u001B[39;00m\n\u001B[1;32m     22\u001B[0m barycenter_eucl \u001B[38;5;241m=\u001B[39m np\u001B[38;5;241m.\u001B[39mmean([circle, square, triangle], axis\u001B[38;5;241m=\u001B[39m\u001B[38;5;241m0\u001B[39m)\n",
      "File \u001B[0;32m~/anaconda3/envs/hl/lib/python3.8/site-packages/ot/bregman.py:1452\u001B[0m, in \u001B[0;36mbarycenter\u001B[0;34m(A, M, reg, weights, method, numItermax, stopThr, verbose, log, warn, **kwargs)\u001B[0m\n\u001B[1;32m   1389\u001B[0m \u001B[38;5;250m\u001B[39m\u001B[38;5;124mr\u001B[39m\u001B[38;5;124;03m\"\"\"Compute the entropic regularized wasserstein barycenter of distributions :math:`\\mathbf{A}`\u001B[39;00m\n\u001B[1;32m   1390\u001B[0m \n\u001B[1;32m   1391\u001B[0m \u001B[38;5;124;03m The function solves the following optimization problem:\u001B[39;00m\n\u001B[0;32m   (...)\u001B[0m\n\u001B[1;32m   1448\u001B[0m \n\u001B[1;32m   1449\u001B[0m \u001B[38;5;124;03m\"\"\"\u001B[39;00m\n\u001B[1;32m   1451\u001B[0m \u001B[38;5;28;01mif\u001B[39;00m method\u001B[38;5;241m.\u001B[39mlower() \u001B[38;5;241m==\u001B[39m \u001B[38;5;124m'\u001B[39m\u001B[38;5;124msinkhorn\u001B[39m\u001B[38;5;124m'\u001B[39m:\n\u001B[0;32m-> 1452\u001B[0m     \u001B[38;5;28;01mreturn\u001B[39;00m \u001B[43mbarycenter_sinkhorn\u001B[49m\u001B[43m(\u001B[49m\u001B[43mA\u001B[49m\u001B[43m,\u001B[49m\u001B[43m \u001B[49m\u001B[43mM\u001B[49m\u001B[43m,\u001B[49m\u001B[43m \u001B[49m\u001B[43mreg\u001B[49m\u001B[43m,\u001B[49m\u001B[43m \u001B[49m\u001B[43mweights\u001B[49m\u001B[38;5;241;43m=\u001B[39;49m\u001B[43mweights\u001B[49m\u001B[43m,\u001B[49m\n\u001B[1;32m   1453\u001B[0m \u001B[43m                               \u001B[49m\u001B[43mnumItermax\u001B[49m\u001B[38;5;241;43m=\u001B[39;49m\u001B[43mnumItermax\u001B[49m\u001B[43m,\u001B[49m\n\u001B[1;32m   1454\u001B[0m \u001B[43m                               \u001B[49m\u001B[43mstopThr\u001B[49m\u001B[38;5;241;43m=\u001B[39;49m\u001B[43mstopThr\u001B[49m\u001B[43m,\u001B[49m\u001B[43m \u001B[49m\u001B[43mverbose\u001B[49m\u001B[38;5;241;43m=\u001B[39;49m\u001B[43mverbose\u001B[49m\u001B[43m,\u001B[49m\u001B[43m \u001B[49m\u001B[43mlog\u001B[49m\u001B[38;5;241;43m=\u001B[39;49m\u001B[43mlog\u001B[49m\u001B[43m,\u001B[49m\n\u001B[1;32m   1455\u001B[0m \u001B[43m                               \u001B[49m\u001B[43mwarn\u001B[49m\u001B[38;5;241;43m=\u001B[39;49m\u001B[43mwarn\u001B[49m\u001B[43m,\u001B[49m\n\u001B[1;32m   1456\u001B[0m \u001B[43m                               \u001B[49m\u001B[38;5;241;43m*\u001B[39;49m\u001B[38;5;241;43m*\u001B[39;49m\u001B[43mkwargs\u001B[49m\u001B[43m)\u001B[49m\n\u001B[1;32m   1457\u001B[0m \u001B[38;5;28;01melif\u001B[39;00m method\u001B[38;5;241m.\u001B[39mlower() \u001B[38;5;241m==\u001B[39m \u001B[38;5;124m'\u001B[39m\u001B[38;5;124msinkhorn_stabilized\u001B[39m\u001B[38;5;124m'\u001B[39m:\n\u001B[1;32m   1458\u001B[0m     \u001B[38;5;28;01mreturn\u001B[39;00m barycenter_stabilized(A, M, reg, weights\u001B[38;5;241m=\u001B[39mweights,\n\u001B[1;32m   1459\u001B[0m                                  numItermax\u001B[38;5;241m=\u001B[39mnumItermax,\n\u001B[1;32m   1460\u001B[0m                                  stopThr\u001B[38;5;241m=\u001B[39mstopThr, verbose\u001B[38;5;241m=\u001B[39mverbose,\n\u001B[1;32m   1461\u001B[0m                                  log\u001B[38;5;241m=\u001B[39mlog, warn\u001B[38;5;241m=\u001B[39mwarn, \u001B[38;5;241m*\u001B[39m\u001B[38;5;241m*\u001B[39mkwargs)\n",
      "File \u001B[0;32m~/anaconda3/envs/hl/lib/python3.8/site-packages/ot/bregman.py:1539\u001B[0m, in \u001B[0;36mbarycenter_sinkhorn\u001B[0;34m(A, M, reg, weights, numItermax, stopThr, verbose, log, warn)\u001B[0m\n\u001B[1;32m   1537\u001B[0m     weights \u001B[38;5;241m=\u001B[39m nx\u001B[38;5;241m.\u001B[39mones((A\u001B[38;5;241m.\u001B[39mshape[\u001B[38;5;241m1\u001B[39m],), type_as\u001B[38;5;241m=\u001B[39mA) \u001B[38;5;241m/\u001B[39m A\u001B[38;5;241m.\u001B[39mshape[\u001B[38;5;241m1\u001B[39m]\n\u001B[1;32m   1538\u001B[0m \u001B[38;5;28;01melse\u001B[39;00m:\n\u001B[0;32m-> 1539\u001B[0m     \u001B[38;5;28;01massert\u001B[39;00m (\u001B[38;5;28mlen\u001B[39m(weights) \u001B[38;5;241m==\u001B[39m A\u001B[38;5;241m.\u001B[39mshape[\u001B[38;5;241m1\u001B[39m])\n\u001B[1;32m   1541\u001B[0m \u001B[38;5;28;01mif\u001B[39;00m log:\n\u001B[1;32m   1542\u001B[0m     log \u001B[38;5;241m=\u001B[39m {\u001B[38;5;124m'\u001B[39m\u001B[38;5;124merr\u001B[39m\u001B[38;5;124m'\u001B[39m: []}\n",
      "\u001B[0;31mAssertionError\u001B[0m: "
     ]
    }
   ],
   "source": [
    "import numpy as np\n",
    "a = np.ones(5) / 5\n",
    "a"
   ],
   "metadata": {
    "collapsed": false,
    "ExecuteTime": {
     "end_time": "2023-11-16T20:27:17.085478692Z",
     "start_time": "2023-11-16T20:27:17.032367720Z"
    }
   }
  },
  {
   "cell_type": "code",
   "execution_count": 4,
   "outputs": [
    {
     "ename": "AssertionError",
     "evalue": "",
     "output_type": "error",
     "traceback": [
      "\u001B[0;31m---------------------------------------------------------------------------\u001B[0m",
      "\u001B[0;31mAssertionError\u001B[0m                            Traceback (most recent call last)",
      "Cell \u001B[0;32mIn[4], line 19\u001B[0m\n\u001B[1;32m     16\u001B[0m weights \u001B[38;5;241m=\u001B[39m np\u001B[38;5;241m.\u001B[39mones((n,)) \u001B[38;5;241m/\u001B[39m n\n\u001B[1;32m     18\u001B[0m \u001B[38;5;66;03m# Compute Wasserstein barycenter\u001B[39;00m\n\u001B[0;32m---> 19\u001B[0m barycenter_wass \u001B[38;5;241m=\u001B[39m \u001B[43mot\u001B[49m\u001B[38;5;241;43m.\u001B[39;49m\u001B[43mbarycenter\u001B[49m\u001B[43m(\u001B[49m\u001B[43m[\u001B[49m\u001B[43mcircle\u001B[49m\u001B[43m,\u001B[49m\u001B[43m \u001B[49m\u001B[43msquare\u001B[49m\u001B[43m,\u001B[49m\u001B[43m \u001B[49m\u001B[43mtriangle\u001B[49m\u001B[43m]\u001B[49m\u001B[43m,\u001B[49m\u001B[43m \u001B[49m\u001B[43mM\u001B[49m\u001B[43m,\u001B[49m\u001B[43m \u001B[49m\u001B[43mreg\u001B[49m\u001B[38;5;241;43m=\u001B[39;49m\u001B[38;5;241;43m1e-2\u001B[39;49m\u001B[43m,\u001B[49m\u001B[43m \u001B[49m\u001B[43mweights\u001B[49m\u001B[38;5;241;43m=\u001B[39;49m\u001B[43m[\u001B[49m\u001B[43mweights\u001B[49m\u001B[43m,\u001B[49m\u001B[43m \u001B[49m\u001B[43mweights\u001B[49m\u001B[43m,\u001B[49m\u001B[43m \u001B[49m\u001B[43mweights\u001B[49m\u001B[43m]\u001B[49m\u001B[43m)\u001B[49m\n\u001B[1;32m     21\u001B[0m \u001B[38;5;66;03m# Compute Euclidean barycenter\u001B[39;00m\n\u001B[1;32m     22\u001B[0m barycenter_eucl \u001B[38;5;241m=\u001B[39m np\u001B[38;5;241m.\u001B[39mmean([circle, square, triangle], axis\u001B[38;5;241m=\u001B[39m\u001B[38;5;241m0\u001B[39m)\n",
      "File \u001B[0;32m~/anaconda3/envs/hl/lib/python3.8/site-packages/ot/bregman.py:1452\u001B[0m, in \u001B[0;36mbarycenter\u001B[0;34m(A, M, reg, weights, method, numItermax, stopThr, verbose, log, warn, **kwargs)\u001B[0m\n\u001B[1;32m   1389\u001B[0m \u001B[38;5;250m\u001B[39m\u001B[38;5;124mr\u001B[39m\u001B[38;5;124;03m\"\"\"Compute the entropic regularized wasserstein barycenter of distributions :math:`\\mathbf{A}`\u001B[39;00m\n\u001B[1;32m   1390\u001B[0m \n\u001B[1;32m   1391\u001B[0m \u001B[38;5;124;03m The function solves the following optimization problem:\u001B[39;00m\n\u001B[0;32m   (...)\u001B[0m\n\u001B[1;32m   1448\u001B[0m \n\u001B[1;32m   1449\u001B[0m \u001B[38;5;124;03m\"\"\"\u001B[39;00m\n\u001B[1;32m   1451\u001B[0m \u001B[38;5;28;01mif\u001B[39;00m method\u001B[38;5;241m.\u001B[39mlower() \u001B[38;5;241m==\u001B[39m \u001B[38;5;124m'\u001B[39m\u001B[38;5;124msinkhorn\u001B[39m\u001B[38;5;124m'\u001B[39m:\n\u001B[0;32m-> 1452\u001B[0m     \u001B[38;5;28;01mreturn\u001B[39;00m \u001B[43mbarycenter_sinkhorn\u001B[49m\u001B[43m(\u001B[49m\u001B[43mA\u001B[49m\u001B[43m,\u001B[49m\u001B[43m \u001B[49m\u001B[43mM\u001B[49m\u001B[43m,\u001B[49m\u001B[43m \u001B[49m\u001B[43mreg\u001B[49m\u001B[43m,\u001B[49m\u001B[43m \u001B[49m\u001B[43mweights\u001B[49m\u001B[38;5;241;43m=\u001B[39;49m\u001B[43mweights\u001B[49m\u001B[43m,\u001B[49m\n\u001B[1;32m   1453\u001B[0m \u001B[43m                               \u001B[49m\u001B[43mnumItermax\u001B[49m\u001B[38;5;241;43m=\u001B[39;49m\u001B[43mnumItermax\u001B[49m\u001B[43m,\u001B[49m\n\u001B[1;32m   1454\u001B[0m \u001B[43m                               \u001B[49m\u001B[43mstopThr\u001B[49m\u001B[38;5;241;43m=\u001B[39;49m\u001B[43mstopThr\u001B[49m\u001B[43m,\u001B[49m\u001B[43m \u001B[49m\u001B[43mverbose\u001B[49m\u001B[38;5;241;43m=\u001B[39;49m\u001B[43mverbose\u001B[49m\u001B[43m,\u001B[49m\u001B[43m \u001B[49m\u001B[43mlog\u001B[49m\u001B[38;5;241;43m=\u001B[39;49m\u001B[43mlog\u001B[49m\u001B[43m,\u001B[49m\n\u001B[1;32m   1455\u001B[0m \u001B[43m                               \u001B[49m\u001B[43mwarn\u001B[49m\u001B[38;5;241;43m=\u001B[39;49m\u001B[43mwarn\u001B[49m\u001B[43m,\u001B[49m\n\u001B[1;32m   1456\u001B[0m \u001B[43m                               \u001B[49m\u001B[38;5;241;43m*\u001B[39;49m\u001B[38;5;241;43m*\u001B[39;49m\u001B[43mkwargs\u001B[49m\u001B[43m)\u001B[49m\n\u001B[1;32m   1457\u001B[0m \u001B[38;5;28;01melif\u001B[39;00m method\u001B[38;5;241m.\u001B[39mlower() \u001B[38;5;241m==\u001B[39m \u001B[38;5;124m'\u001B[39m\u001B[38;5;124msinkhorn_stabilized\u001B[39m\u001B[38;5;124m'\u001B[39m:\n\u001B[1;32m   1458\u001B[0m     \u001B[38;5;28;01mreturn\u001B[39;00m barycenter_stabilized(A, M, reg, weights\u001B[38;5;241m=\u001B[39mweights,\n\u001B[1;32m   1459\u001B[0m                                  numItermax\u001B[38;5;241m=\u001B[39mnumItermax,\n\u001B[1;32m   1460\u001B[0m                                  stopThr\u001B[38;5;241m=\u001B[39mstopThr, verbose\u001B[38;5;241m=\u001B[39mverbose,\n\u001B[1;32m   1461\u001B[0m                                  log\u001B[38;5;241m=\u001B[39mlog, warn\u001B[38;5;241m=\u001B[39mwarn, \u001B[38;5;241m*\u001B[39m\u001B[38;5;241m*\u001B[39mkwargs)\n",
      "File \u001B[0;32m~/anaconda3/envs/hl/lib/python3.8/site-packages/ot/bregman.py:1539\u001B[0m, in \u001B[0;36mbarycenter_sinkhorn\u001B[0;34m(A, M, reg, weights, numItermax, stopThr, verbose, log, warn)\u001B[0m\n\u001B[1;32m   1537\u001B[0m     weights \u001B[38;5;241m=\u001B[39m nx\u001B[38;5;241m.\u001B[39mones((A\u001B[38;5;241m.\u001B[39mshape[\u001B[38;5;241m1\u001B[39m],), type_as\u001B[38;5;241m=\u001B[39mA) \u001B[38;5;241m/\u001B[39m A\u001B[38;5;241m.\u001B[39mshape[\u001B[38;5;241m1\u001B[39m]\n\u001B[1;32m   1538\u001B[0m \u001B[38;5;28;01melse\u001B[39;00m:\n\u001B[0;32m-> 1539\u001B[0m     \u001B[38;5;28;01massert\u001B[39;00m (\u001B[38;5;28mlen\u001B[39m(weights) \u001B[38;5;241m==\u001B[39m A\u001B[38;5;241m.\u001B[39mshape[\u001B[38;5;241m1\u001B[39m])\n\u001B[1;32m   1541\u001B[0m \u001B[38;5;28;01mif\u001B[39;00m log:\n\u001B[1;32m   1542\u001B[0m     log \u001B[38;5;241m=\u001B[39m {\u001B[38;5;124m'\u001B[39m\u001B[38;5;124merr\u001B[39m\u001B[38;5;124m'\u001B[39m: []}\n",
      "\u001B[0;31mAssertionError\u001B[0m: "
     ]
    }
   ],
   "source": [
    "a.shape"
   ],
   "metadata": {
    "collapsed": false,
    "ExecuteTime": {
     "end_time": "2023-11-16T20:25:48.496782378Z",
     "start_time": "2023-11-16T20:25:48.450432568Z"
    }
   }
  },
  {
   "cell_type": "code",
   "execution_count": 8,
   "outputs": [],
   "source": [
    "b=np.expand_dims(a, axis=0)"
   ],
   "metadata": {
    "collapsed": false,
    "ExecuteTime": {
     "end_time": "2023-09-25T01:09:11.420398040Z",
     "start_time": "2023-09-25T01:09:11.417317148Z"
    }
   }
  },
  {
   "cell_type": "code",
   "execution_count": 12,
   "outputs": [
    {
     "name": "stdout",
     "output_type": "stream",
     "text": [
      "[[0.2 0.2 0.2 0.2 0.2]]\n"
     ]
    }
   ],
   "source": [
    "print(b)"
   ],
   "metadata": {
    "collapsed": false,
    "ExecuteTime": {
     "end_time": "2023-09-25T01:09:32.448206150Z",
     "start_time": "2023-09-25T01:09:32.441328826Z"
    }
   }
  },
  {
   "cell_type": "code",
   "execution_count": 51,
   "outputs": [],
   "source": [
    "import torch"
   ],
   "metadata": {
    "collapsed": false,
    "ExecuteTime": {
     "end_time": "2023-10-05T01:42:54.615259781Z",
     "start_time": "2023-10-05T01:42:54.575356903Z"
    }
   }
  },
  {
   "cell_type": "code",
   "execution_count": 44,
   "outputs": [
    {
     "data": {
      "text/plain": "tensor([0.3000, 0.2000, 2.0000, 0.5000, 2.0000, 0.4000])"
     },
     "execution_count": 44,
     "metadata": {},
     "output_type": "execute_result"
    }
   ],
   "source": [
    "labels = torch.tensor([0.3, 0.2, 2, 0.5, 2, 0.4])\n",
    "labels"
   ],
   "metadata": {
    "collapsed": false,
    "ExecuteTime": {
     "end_time": "2023-10-04T04:33:01.213281331Z",
     "start_time": "2023-10-04T04:33:01.210028690Z"
    }
   }
  },
  {
   "cell_type": "code",
   "execution_count": 47,
   "outputs": [
    {
     "data": {
      "text/plain": "tensor([False, False, False,  True, False, False])"
     },
     "execution_count": 47,
     "metadata": {},
     "output_type": "execute_result"
    }
   ],
   "source": [
    "indices = (labels == 0.5)\n",
    "indices"
   ],
   "metadata": {
    "collapsed": false,
    "ExecuteTime": {
     "end_time": "2023-10-04T04:33:09.827329212Z",
     "start_time": "2023-10-04T04:33:09.783973548Z"
    }
   }
  },
  {
   "cell_type": "code",
   "execution_count": 48,
   "outputs": [
    {
     "data": {
      "text/plain": "tensor([3])"
     },
     "execution_count": 48,
     "metadata": {},
     "output_type": "execute_result"
    }
   ],
   "source": [
    "indices = indices.nonzero(as_tuple=False).squeeze(1)\n",
    "indices"
   ],
   "metadata": {
    "collapsed": false,
    "ExecuteTime": {
     "end_time": "2023-10-04T04:33:11.187347157Z",
     "start_time": "2023-10-04T04:33:11.183441791Z"
    }
   }
  },
  {
   "cell_type": "code",
   "execution_count": 49,
   "outputs": [
    {
     "data": {
      "text/plain": "tensor([[-1.0669, -0.6981,  1.1967,  1.2448],\n        [-2.4303, -0.4821, -0.3298, -0.5869],\n        [ 0.8037, -0.9979,  0.8632,  0.3956],\n        [-0.1665,  1.4555,  1.0579,  2.3945],\n        [-0.6917, -0.5217, -0.4076,  0.7410],\n        [-0.1301,  0.2558,  0.7024,  0.4193]])"
     },
     "execution_count": 49,
     "metadata": {},
     "output_type": "execute_result"
    }
   ],
   "source": [
    "b = torch.randn(6,4)\n",
    "b"
   ],
   "metadata": {
    "collapsed": false,
    "ExecuteTime": {
     "end_time": "2023-10-04T04:33:12.940679823Z",
     "start_time": "2023-10-04T04:33:12.937256382Z"
    }
   }
  },
  {
   "cell_type": "code",
   "execution_count": 50,
   "outputs": [
    {
     "data": {
      "text/plain": "tensor([[-0.1665,  1.4555,  1.0579,  2.3945]])"
     },
     "execution_count": 50,
     "metadata": {},
     "output_type": "execute_result"
    }
   ],
   "source": [
    "b[indices]"
   ],
   "metadata": {
    "collapsed": false,
    "ExecuteTime": {
     "end_time": "2023-10-04T04:33:13.478647608Z",
     "start_time": "2023-10-04T04:33:13.474954060Z"
    }
   }
  },
  {
   "cell_type": "code",
   "execution_count": 69,
   "outputs": [
    {
     "data": {
      "text/plain": "tensor([[ 5., 12.],\n        [ 3.,  4.]])"
     },
     "execution_count": 69,
     "metadata": {},
     "output_type": "execute_result"
    }
   ],
   "source": [
    "x = torch.tensor([[5.,12.],[3.,4.]])\n",
    "x"
   ],
   "metadata": {
    "collapsed": false,
    "ExecuteTime": {
     "end_time": "2023-10-05T02:14:55.259381246Z",
     "start_time": "2023-10-05T02:14:55.253490501Z"
    }
   }
  },
  {
   "cell_type": "code",
   "execution_count": 70,
   "outputs": [
    {
     "data": {
      "text/plain": "tensor([13.,  5.])"
     },
     "execution_count": 70,
     "metadata": {},
     "output_type": "execute_result"
    }
   ],
   "source": [
    "torch.norm(x, dim=1)"
   ],
   "metadata": {
    "collapsed": false,
    "ExecuteTime": {
     "end_time": "2023-10-05T02:14:57.383491135Z",
     "start_time": "2023-10-05T02:14:57.372714543Z"
    }
   }
  },
  {
   "cell_type": "code",
   "execution_count": 57,
   "outputs": [
    {
     "ename": "RuntimeError",
     "evalue": "a Tensor with 2 elements cannot be converted to Scalar",
     "output_type": "error",
     "traceback": [
      "\u001B[0;31m---------------------------------------------------------------------------\u001B[0m",
      "\u001B[0;31mRuntimeError\u001B[0m                              Traceback (most recent call last)",
      "Cell \u001B[0;32mIn[57], line 1\u001B[0m\n\u001B[0;32m----> 1\u001B[0m \u001B[43mx\u001B[49m\u001B[38;5;241;43m.\u001B[39;49m\u001B[43mitem\u001B[49m\u001B[43m(\u001B[49m\u001B[43m)\u001B[49m\n",
      "\u001B[0;31mRuntimeError\u001B[0m: a Tensor with 2 elements cannot be converted to Scalar"
     ]
    }
   ],
   "source": [
    "x.item()"
   ],
   "metadata": {
    "collapsed": false,
    "ExecuteTime": {
     "end_time": "2023-10-05T01:48:17.547337983Z",
     "start_time": "2023-10-05T01:48:17.391327347Z"
    }
   }
  },
  {
   "cell_type": "code",
   "execution_count": 59,
   "outputs": [
    {
     "data": {
      "text/plain": "tensor(2.6000)"
     },
     "execution_count": 59,
     "metadata": {},
     "output_type": "execute_result"
    }
   ],
   "source": [
    "torch.tensor(2.6)"
   ],
   "metadata": {
    "collapsed": false,
    "ExecuteTime": {
     "end_time": "2023-10-05T01:49:31.323116499Z",
     "start_time": "2023-10-05T01:49:31.320678546Z"
    }
   }
  },
  {
   "cell_type": "code",
   "execution_count": 2,
   "outputs": [
    {
     "data": {
      "text/plain": "2"
     },
     "execution_count": 2,
     "metadata": {},
     "output_type": "execute_result"
    }
   ],
   "source": [
    "14 // 5"
   ],
   "metadata": {
    "collapsed": false,
    "ExecuteTime": {
     "end_time": "2023-10-06T21:18:42.392509217Z",
     "start_time": "2023-10-06T21:18:42.377183294Z"
    }
   }
  },
  {
   "cell_type": "code",
   "execution_count": 5,
   "outputs": [
    {
     "data": {
      "text/plain": "1"
     },
     "execution_count": 5,
     "metadata": {},
     "output_type": "execute_result"
    }
   ],
   "source": [
    "5 // 3"
   ],
   "metadata": {
    "collapsed": false,
    "ExecuteTime": {
     "end_time": "2023-10-06T21:19:06.725619247Z",
     "start_time": "2023-10-06T21:19:06.714317157Z"
    }
   }
  },
  {
   "cell_type": "code",
   "execution_count": 9,
   "outputs": [
    {
     "data": {
      "text/plain": "1"
     },
     "execution_count": 9,
     "metadata": {},
     "output_type": "execute_result"
    }
   ],
   "source": [
    "199 // 100"
   ],
   "metadata": {
    "collapsed": false,
    "ExecuteTime": {
     "end_time": "2023-10-06T21:19:56.231338341Z",
     "start_time": "2023-10-06T21:19:56.219679782Z"
    }
   }
  },
  {
   "cell_type": "code",
   "execution_count": 8,
   "outputs": [
    {
     "data": {
      "text/plain": "200"
     },
     "execution_count": 8,
     "metadata": {},
     "output_type": "execute_result"
    }
   ],
   "source": [
    "200 // 1"
   ],
   "metadata": {
    "collapsed": false,
    "ExecuteTime": {
     "end_time": "2023-10-06T21:19:53.233534608Z",
     "start_time": "2023-10-06T21:19:53.232090682Z"
    }
   }
  },
  {
   "cell_type": "code",
   "execution_count": 13,
   "outputs": [],
   "source": [
    "import torch\n",
    "import numpy as np"
   ],
   "metadata": {
    "collapsed": false,
    "ExecuteTime": {
     "end_time": "2023-10-06T21:21:16.206339085Z",
     "start_time": "2023-10-06T21:21:16.189382949Z"
    }
   }
  },
  {
   "cell_type": "code",
   "execution_count": 18,
   "outputs": [
    {
     "data": {
      "text/plain": "tensor([5, 6, 7, 8, 9])"
     },
     "execution_count": 18,
     "metadata": {},
     "output_type": "execute_result"
    }
   ],
   "source": [
    "a = torch.LongTensor(np.arange(5, 10))\n",
    "a"
   ],
   "metadata": {
    "collapsed": false,
    "ExecuteTime": {
     "end_time": "2023-10-06T21:21:41.621818806Z",
     "start_time": "2023-10-06T21:21:41.575621884Z"
    }
   }
  },
  {
   "cell_type": "code",
   "execution_count": 23,
   "outputs": [
    {
     "data": {
      "text/plain": "tensor([5, 5, 5, 6, 6, 6, 7, 7, 7, 8, 8, 8, 9, 9, 9])"
     },
     "execution_count": 23,
     "metadata": {},
     "output_type": "execute_result"
    }
   ],
   "source": [
    "b = a.repeat_interleave(3)\n",
    "b"
   ],
   "metadata": {
    "collapsed": false,
    "ExecuteTime": {
     "end_time": "2023-10-06T21:25:09.424688673Z",
     "start_time": "2023-10-06T21:25:09.422024351Z"
    }
   }
  },
  {
   "cell_type": "code",
   "execution_count": 26,
   "outputs": [
    {
     "data": {
      "text/plain": "tensor([[5, 5, 5],\n        [6, 6, 6],\n        [7, 7, 7],\n        [8, 8, 8],\n        [9, 9, 9]])"
     },
     "execution_count": 26,
     "metadata": {},
     "output_type": "execute_result"
    }
   ],
   "source": [
    "b.reshape(5, 3)"
   ],
   "metadata": {
    "collapsed": false,
    "ExecuteTime": {
     "end_time": "2023-10-06T21:25:17.102916639Z",
     "start_time": "2023-10-06T21:25:17.097913624Z"
    }
   }
  },
  {
   "cell_type": "code",
   "execution_count": 27,
   "outputs": [
    {
     "data": {
      "text/plain": "tensor([[5, 5, 5, 6, 6],\n        [6, 7, 7, 7, 8],\n        [8, 8, 9, 9, 9]])"
     },
     "execution_count": 27,
     "metadata": {},
     "output_type": "execute_result"
    }
   ],
   "source": [
    "b.reshape(3, 5)"
   ],
   "metadata": {
    "collapsed": false,
    "ExecuteTime": {
     "end_time": "2023-10-06T21:25:26.258304837Z",
     "start_time": "2023-10-06T21:25:26.253780959Z"
    }
   }
  },
  {
   "cell_type": "code",
   "execution_count": 30,
   "outputs": [
    {
     "data": {
      "text/plain": "0"
     },
     "execution_count": 30,
     "metadata": {},
     "output_type": "execute_result"
    }
   ],
   "source": [
    "19 % 19"
   ],
   "metadata": {
    "collapsed": false,
    "ExecuteTime": {
     "end_time": "2023-10-06T21:55:13.081973477Z",
     "start_time": "2023-10-06T21:55:13.079770581Z"
    }
   }
  },
  {
   "cell_type": "code",
   "execution_count": 7,
   "outputs": [],
   "source": [
    "import numpy as np\n",
    "import torch"
   ],
   "metadata": {
    "collapsed": false,
    "ExecuteTime": {
     "end_time": "2023-10-22T19:34:47.000928433Z",
     "start_time": "2023-10-22T19:34:46.997564714Z"
    }
   }
  },
  {
   "cell_type": "code",
   "execution_count": 3,
   "outputs": [
    {
     "data": {
      "text/plain": "array([1., 1., 1., 1., 1.])"
     },
     "execution_count": 3,
     "metadata": {},
     "output_type": "execute_result"
    }
   ],
   "source": [
    "k = 10"
   ],
   "metadata": {
    "collapsed": false,
    "ExecuteTime": {
     "end_time": "2023-10-22T19:33:45.218067611Z",
     "start_time": "2023-10-22T19:33:45.168205546Z"
    }
   }
  },
  {
   "cell_type": "code",
   "execution_count": 11,
   "outputs": [],
   "source": [
    "a = torch.tensor(np.stack([np.ones(4) / k, np.zeros((3, k)) / k]))"
   ],
   "metadata": {
    "collapsed": false,
    "ExecuteTime": {
     "end_time": "2023-10-22T19:35:41.346737637Z",
     "start_time": "2023-10-22T19:35:41.339089866Z"
    }
   }
  },
  {
   "cell_type": "code",
   "execution_count": 14,
   "outputs": [
    {
     "data": {
      "text/plain": "'4/5/3'"
     },
     "execution_count": 14,
     "metadata": {},
     "output_type": "execute_result"
    }
   ],
   "source": [
    "a"
   ],
   "metadata": {
    "collapsed": false,
    "ExecuteTime": {
     "end_time": "2023-10-22T19:40:04.372649078Z",
     "start_time": "2023-10-22T19:40:04.368753768Z"
    }
   }
  },
  {
   "cell_type": "code",
   "execution_count": 4,
   "outputs": [
    {
     "data": {
      "text/plain": "0"
     },
     "execution_count": 4,
     "metadata": {},
     "output_type": "execute_result"
    }
   ],
   "source": [
    "10 // 11"
   ],
   "metadata": {
    "collapsed": false,
    "ExecuteTime": {
     "end_time": "2023-10-22T04:19:49.583602213Z",
     "start_time": "2023-10-22T04:19:49.580351723Z"
    }
   }
  },
  {
   "cell_type": "code",
   "execution_count": 1,
   "outputs": [],
   "source": [
    "import numpy as np"
   ],
   "metadata": {
    "collapsed": false,
    "ExecuteTime": {
     "end_time": "2023-11-09T18:27:28.522789962Z",
     "start_time": "2023-11-09T18:27:28.519264011Z"
    }
   }
  },
  {
   "cell_type": "code",
   "execution_count": 2,
   "outputs": [
    {
     "data": {
      "text/plain": "0.15000000000000568"
     },
     "execution_count": 2,
     "metadata": {},
     "output_type": "execute_result"
    }
   ],
   "source": [
    "np.std([64.4, 64.1])"
   ],
   "metadata": {
    "collapsed": false,
    "ExecuteTime": {
     "end_time": "2023-11-09T18:27:32.440330176Z",
     "start_time": "2023-11-09T18:27:32.409887159Z"
    }
   }
  },
  {
   "cell_type": "code",
   "execution_count": 1,
   "outputs": [],
   "source": [
    "import torch"
   ],
   "metadata": {
    "collapsed": false,
    "ExecuteTime": {
     "end_time": "2024-03-03T17:55:18.042686102Z",
     "start_time": "2024-03-03T17:55:16.841619772Z"
    }
   }
  },
  {
   "cell_type": "code",
   "execution_count": 2,
   "outputs": [],
   "source": [
    "data = torch.load('tinyimagenet.pt')"
   ],
   "metadata": {
    "collapsed": false,
    "ExecuteTime": {
     "end_time": "2024-03-03T17:55:18.632942291Z",
     "start_time": "2024-03-03T17:55:18.043309104Z"
    }
   }
  },
  {
   "cell_type": "code",
   "execution_count": 3,
   "outputs": [
    {
     "data": {
      "text/plain": "{'images_train': tensor([[[[255, 255, 246,  ..., 208, 207, 125],\n           [255, 255, 246,  ..., 203, 200, 121],\n           [255, 255, 255,  ..., 207, 200, 119],\n           ...,\n           [ 94,  93,  93,  ...,  85,  78,  94],\n           [ 89,  88,  87,  ...,  86,  77,  87],\n           [ 91,  91,  91,  ...,  96,  77,  72]],\n \n          [[137, 139, 148,  ..., 237, 241, 164],\n           [124, 128, 137,  ..., 232, 235, 160],\n           [124, 127, 134,  ..., 233, 235, 156],\n           ...,\n           [122, 119, 116,  ...,  74,  67,  83],\n           [118, 116, 113,  ...,  75,  66,  76],\n           [120, 119, 117,  ...,  85,  66,  61]],\n \n          [[192, 192, 197,  ..., 235, 240, 161],\n           [189, 189, 194,  ..., 230, 231, 157],\n           [201, 201, 203,  ..., 230, 229, 149],\n           ...,\n           [ 71,  71,  70,  ...,  56,  49,  65],\n           [ 64,  65,  66,  ...,  57,  48,  58],\n           [ 66,  68,  70,  ...,  67,  48,  43]]],\n \n \n         [[[ 20,  19,  22,  ...,  47,  51,  53],\n           [ 25,  22,  22,  ...,  46,  49,  50],\n           [ 28,  24,  21,  ...,  48,  50,  51],\n           ...,\n           [  0,   1,   2,  ...,  74,  38,  50],\n           [  0,   1,   2,  ...,  95,  80,  72],\n           [  2,   0,   0,  ...,  53,  51,  51]],\n \n          [[ 33,  32,  32,  ...,  43,  46,  48],\n           [ 38,  34,  31,  ...,  42,  44,  45],\n           [ 40,  36,  30,  ...,  44,  45,  46],\n           ...,\n           [  3,   4,   4,  ...,  59,  21,  33],\n           [  3,   4,   4,  ...,  80,  64,  57],\n           [  5,   3,   2,  ...,  38,  36,  37]],\n \n          [[  7,   6,   8,  ...,  14,  16,  16],\n           [ 12,  10,  10,  ...,  13,  14,  15],\n           [ 18,  14,  11,  ...,  17,  16,  16],\n           ...,\n           [  0,   0,   0,  ...,  20,   0,   0],\n           [  0,   0,   0,  ...,  47,  28,  18],\n           [  0,   0,   0,  ...,   9,   3,   2]]],\n \n \n         [[[120,  89,  80,  ...,  93, 142, 107],\n           [ 86, 121,  81,  ..., 136, 125, 113],\n           [ 47,  70,  61,  ..., 210, 102, 121],\n           ...,\n           [176, 162, 164,  ..., 210, 208, 207],\n           [152, 148, 153,  ..., 208, 206, 205],\n           [136, 157, 161,  ..., 204, 202, 201]],\n \n          [[124,  93,  84,  ..., 101, 150, 115],\n           [ 90, 125,  85,  ..., 146, 135, 123],\n           [ 51,  74,  65,  ..., 220, 112, 131],\n           ...,\n           [205, 188, 186,  ..., 241, 239, 238],\n           [181, 174, 176,  ..., 239, 237, 236],\n           [166, 183, 182,  ..., 235, 233, 232]],\n \n          [[127,  96,  87,  ..., 103, 152, 117],\n           [ 93, 128,  88,  ..., 147, 136, 124],\n           [ 54,  77,  68,  ..., 221, 113, 132],\n           ...,\n           [203, 185, 183,  ..., 246, 244, 243],\n           [179, 171, 170,  ..., 244, 242, 241],\n           [164, 180, 177,  ..., 240, 238, 237]]],\n \n \n         ...,\n \n \n         [[[213, 210, 208,  ...,  64,  63,  68],\n           [208, 208, 205,  ...,  74,  63,  58],\n           [194, 195, 195,  ...,  85,  71,  60],\n           ...,\n           [160, 154, 150,  ...,  57,  56,  55],\n           [159, 159, 155,  ...,  57,  57,  56],\n           [166, 170, 166,  ...,  58,  58,  58]],\n \n          [[195, 195, 192,  ...,  41,  41,  43],\n           [198, 198, 196,  ...,  53,  42,  35],\n           [197, 198, 198,  ...,  67,  52,  41],\n           ...,\n           [151, 145, 142,  ...,  56,  55,  54],\n           [150, 150, 147,  ...,  56,  55,  54],\n           [157, 161, 158,  ...,  57,  56,  56]],\n \n          [[191, 192, 192,  ...,  23,  20,  23],\n           [199, 199, 199,  ...,  36,  23,  17],\n           [204, 205, 205,  ...,  53,  37,  26],\n           ...,\n           [ 84,  76,  70,  ...,  10,  11,  10],\n           [ 83,  81,  75,  ...,  12,  14,  13],\n           [ 90,  94,  86,  ...,  13,  15,  15]]],\n \n \n         [[[ 79,  87, 102,  ..., 104, 107, 105],\n           [ 74,  85, 105,  ..., 107, 106, 105],\n           [ 89, 103, 129,  ..., 108, 107, 104],\n           ...,\n           [ 37,  43,  42,  ...,  80,  83,  93],\n           [ 41,  48,  50,  ...,  73,  79,  97],\n           [ 51,  42,  51,  ...,  72,  66,  76]],\n \n          [[104, 112, 127,  ..., 170, 176, 178],\n           [ 99, 111, 131,  ..., 171, 174, 174],\n           [118, 133, 156,  ..., 169, 170, 169],\n           ...,\n           [ 86,  92,  90,  ..., 123, 127, 137],\n           [ 93,  99,  99,  ..., 116, 123, 141],\n           [103,  94, 100,  ..., 115, 110, 120]],\n \n          [[ 49,  55,  69,  ...,  12,  23,  27],\n           [ 41,  50,  66,  ...,  22,  29,  31],\n           [ 51,  63,  85,  ...,  32,  39,  41],\n           ...,\n           [  0,   1,   4,  ...,  52,  52,  62],\n           [  0,   4,   8,  ...,  45,  48,  66],\n           [  2,   0,   8,  ...,  44,  35,  45]]],\n \n \n         [[[ 55,  60,  74,  ...,  54,  42,  35],\n           [ 44,  61,  48,  ...,  28,  36,  24],\n           [ 22,  52,  43,  ...,  21,  34,  57],\n           ...,\n           [113, 135, 133,  ...,  41,  21,  14],\n           [136, 122, 125,  ...,  38,  21,  21],\n           [139, 130, 126,  ...,  18,   8,   6]],\n \n          [[ 81,  86, 100,  ...,  58,  39,  30],\n           [ 71,  88,  74,  ...,  31,  35,  20],\n           [ 50,  80,  70,  ...,  26,  37,  57],\n           ...,\n           [164, 184, 178,  ...,  54,  36,  31],\n           [189, 175, 172,  ...,  55,  43,  43],\n           [196, 184, 174,  ...,  40,  33,  33]],\n \n          [[ 42,  47,  63,  ...,  25,   6,   0],\n           [ 28,  47,  35,  ...,   0,   5,   0],\n           [  1,  32,  27,  ...,   0,  10,  33],\n           ...,\n           [ 69,  92,  93,  ...,  26,   5,   0],\n           [ 83,  71,  76,  ...,  21,   7,   7],\n           [ 83,  73,  74,  ...,   1,   0,   0]]]], dtype=torch.uint8),\n 'images_val': tensor([[[[ 38, 184, 203,  ..., 154, 139, 133],\n           [  8,   7,  61,  ..., 130, 118, 121],\n           [191, 206, 102,  ..., 129,  96, 108],\n           ...,\n           [ 53,  56,  66,  ..., 178, 183, 177],\n           [ 42,  31,  29,  ..., 180, 187, 184],\n           [158, 150, 152,  ..., 173, 185, 184]],\n \n          [[ 49, 181, 179,  ..., 158, 144, 138],\n           [ 30,  15,  45,  ..., 134, 122, 126],\n           [228, 226,  99,  ..., 133, 103, 115],\n           ...,\n           [ 53,  56,  66,  ..., 177, 182, 176],\n           [ 41,  30,  28,  ..., 179, 186, 183],\n           [157, 149, 151,  ..., 172, 184, 183]],\n \n          [[ 53, 190, 195,  ..., 141, 124, 116],\n           [ 28,  18,  56,  ..., 117, 105, 106],\n           [221, 225, 106,  ..., 118,  87,  97],\n           ...,\n           [ 51,  54,  64,  ..., 173, 178, 172],\n           [ 37,  26,  24,  ..., 175, 182, 179],\n           [153, 145, 147,  ..., 168, 180, 179]]],\n \n \n         [[[100, 101, 104,  ...,  99,  97,  95],\n           [108, 109, 110,  ..., 118, 116, 114],\n           [116, 115, 115,  ..., 132, 129, 126],\n           ...,\n           [ 40,  38,  38,  ...,  68,  69,  58],\n           [ 30,  28,  32,  ...,  82,  90,  80],\n           [ 36,  34,  37,  ...,  66,  66,  64]],\n \n          [[ 81,  82,  85,  ...,  80,  78,  76],\n           [ 89,  90,  91,  ...,  99,  97,  95],\n           [ 97,  96,  96,  ..., 113, 110, 107],\n           ...,\n           [ 28,  26,  26,  ...,  51,  52,  41],\n           [ 18,  16,  20,  ...,  63,  71,  61],\n           [ 24,  22,  25,  ...,  48,  48,  46]],\n \n          [[ 66,  67,  70,  ...,  65,  63,  61],\n           [ 74,  75,  76,  ...,  84,  82,  80],\n           [ 82,  81,  81,  ...,  98,  95,  92],\n           ...,\n           [ 16,  14,  14,  ...,  35,  36,  25],\n           [  6,   4,   8,  ...,  46,  54,  44],\n           [ 12,  10,  13,  ...,  28,  28,  26]]],\n \n \n         [[[147, 145, 141,  ..., 206, 213, 217],\n           [147, 145, 142,  ..., 206, 212, 216],\n           [148, 146, 142,  ..., 208, 212, 214],\n           ...,\n           [218, 217, 207,  ..., 245, 255, 255],\n           [212, 212, 203,  ..., 231, 250, 246],\n           [216, 214, 202,  ..., 236, 253, 245]],\n \n          [[147, 145, 141,  ..., 206, 213, 217],\n           [147, 145, 142,  ..., 206, 212, 216],\n           [148, 146, 142,  ..., 208, 212, 214],\n           ...,\n           [218, 217, 207,  ..., 245, 255, 255],\n           [212, 212, 203,  ..., 231, 250, 246],\n           [216, 214, 202,  ..., 236, 253, 245]],\n \n          [[147, 145, 141,  ..., 206, 213, 217],\n           [147, 145, 142,  ..., 206, 212, 216],\n           [148, 146, 142,  ..., 208, 212, 214],\n           ...,\n           [218, 217, 207,  ..., 245, 255, 255],\n           [212, 212, 203,  ..., 231, 250, 246],\n           [216, 214, 202,  ..., 236, 253, 245]]],\n \n \n         ...,\n \n \n         [[[  0,   0,   0,  ...,   3,   3,   2],\n           [  0,   0,   0,  ...,   3,   3,   2],\n           [  0,   0,   0,  ...,   3,   3,   2],\n           ...,\n           [  0,   0,   0,  ...,   0,   0,   0],\n           [  1,   0,   0,  ...,   0,   0,   0],\n           [  2,   0,   0,  ...,   0,   0,   0]],\n \n          [[  0,   0,   0,  ...,   3,   3,   2],\n           [  0,   0,   0,  ...,   3,   3,   2],\n           [  0,   0,   0,  ...,   3,   3,   2],\n           ...,\n           [  0,   0,   0,  ...,   0,   0,   0],\n           [  1,   0,   0,  ...,   0,   0,   0],\n           [  2,   0,   0,  ...,   0,   0,   0]],\n \n          [[  0,   0,   0,  ...,   3,   3,   2],\n           [  0,   0,   0,  ...,   3,   3,   2],\n           [  0,   0,   0,  ...,   3,   3,   2],\n           ...,\n           [  0,   0,   0,  ...,   0,   0,   0],\n           [  0,   0,   0,  ...,   0,   0,   0],\n           [  0,   0,   0,  ...,   0,   0,   0]]],\n \n \n         [[[ 62,  46,  50,  ...,  46,  48,  47],\n           [ 42,  85,  32,  ...,  54,  54,  49],\n           [ 42,  39,  69,  ...,  60,  59,  54],\n           ...,\n           [133, 167, 118,  ..., 236, 184, 161],\n           [120,  89,  64,  ..., 236, 162, 147],\n           [ 79,  91, 167,  ..., 255, 227, 142]],\n \n          [[ 61,  45,  49,  ...,  45,  49,  48],\n           [ 41,  84,  31,  ...,  53,  55,  50],\n           [ 41,  38,  68,  ...,  59,  58,  53],\n           ...,\n           [102, 135,  88,  ..., 215, 163, 138],\n           [ 85,  55,  32,  ..., 215, 141, 126],\n           [ 44,  55, 135,  ..., 234, 206, 121]],\n \n          [[ 56,  40,  44,  ...,  41,  44,  43],\n           [ 36,  79,  26,  ...,  48,  50,  45],\n           [ 36,  33,  63,  ...,  54,  53,  48],\n           ...,\n           [ 74, 110,  64,  ..., 198, 146, 122],\n           [ 57,  28,   9,  ..., 196, 122, 105],\n           [ 16,  29, 112,  ..., 213, 185, 100]]],\n \n \n         [[[ 25,  65,  82,  ...,  44, 100, 129],\n           [ 86,  68,  88,  ..., 115,  67,  61],\n           [ 79, 101,  92,  ..., 127, 139,  82],\n           ...,\n           [ 41,  65,  39,  ..., 104, 113, 124],\n           [ 65, 101,  34,  ...,  72,  79, 116],\n           [ 60, 106,  42,  ...,  76,  64,  69]],\n \n          [[ 12,  50,  67,  ...,  22,  76, 105],\n           [ 73,  55,  73,  ...,  93,  43,  37],\n           [ 66,  88,  77,  ..., 105, 115,  58],\n           ...,\n           [ 20,  42,  13,  ...,  64,  71,  82],\n           [ 34,  70,   2,  ...,  29,  37,  74],\n           [ 26,  70,   6,  ...,  33,  21,  27]],\n \n          [[  0,  19,  34,  ...,   0,  28,  57],\n           [ 41,  23,  40,  ...,  46,   0,   0],\n           [ 34,  54,  44,  ...,  58,  67,  10],\n           ...,\n           [  3,  26,   0,  ...,  39,  46,  57],\n           [ 13,  49,   0,  ...,  10,  15,  50],\n           [  0,  44,   0,  ...,  16,   2,   5]]]], dtype=torch.uint8),\n 'images_test': tensor([[[[ 83,  82,  84,  ..., 114, 112, 112],\n           [ 83,  83,  85,  ..., 115, 113, 112],\n           [ 84,  84,  86,  ..., 116, 115, 114],\n           ...,\n           [ 93,  94,  95,  ..., 111, 109, 108],\n           [ 93,  94,  95,  ..., 112, 111, 109],\n           [ 93,  93,  95,  ..., 113, 113, 112]],\n \n          [[ 88,  87,  86,  ..., 114, 112, 112],\n           [ 88,  88,  87,  ..., 115, 113, 112],\n           [ 89,  89,  88,  ..., 116, 115, 114],\n           ...,\n           [ 93,  94,  95,  ..., 111, 109, 108],\n           [ 93,  94,  95,  ..., 112, 111, 109],\n           [ 93,  93,  95,  ..., 113, 113, 112]],\n \n          [[ 82,  83,  83,  ..., 114, 112, 112],\n           [ 82,  84,  84,  ..., 115, 113, 112],\n           [ 83,  85,  85,  ..., 116, 115, 114],\n           ...,\n           [ 91,  92,  93,  ..., 109, 107, 106],\n           [ 91,  92,  93,  ..., 110, 109, 107],\n           [ 91,  91,  93,  ..., 111, 111, 110]]],\n \n \n         [[[229, 211, 219,  ..., 249, 238, 254],\n           [213, 232, 150,  ..., 129, 111, 126],\n           [234, 182, 213,  ..., 142, 129,  88],\n           ...,\n           [162, 120, 110,  ..., 239, 215, 225],\n           [216, 194, 169,  ..., 233, 235, 234],\n           [209, 156, 151,  ..., 209, 242, 227]],\n \n          [[243, 225, 236,  ..., 216, 204, 220],\n           [227, 246, 164,  ...,  92,  73,  88],\n           [246, 194, 223,  ...,  97,  85,  42],\n           ...,\n           [177, 135, 122,  ..., 207, 185, 198],\n           [223, 201, 174,  ..., 201, 205, 204],\n           [214, 160, 155,  ..., 175, 210, 197]],\n \n          [[252, 234, 244,  ..., 173, 158, 172],\n           [238, 255, 173,  ...,  48,  26,  39],\n           [255, 206, 232,  ...,  55,  38,   0],\n           ...,\n           [200, 158, 148,  ..., 122,  99, 111],\n           [251, 229, 203,  ..., 114, 117, 116],\n           [244, 189, 184,  ...,  88, 123, 109]]],\n \n \n         [[[162, 173, 182,  ...,  86,  90,  96],\n           [168, 164, 154,  ..., 106, 109, 110],\n           [151, 145, 138,  ..., 131, 128, 129],\n           ...,\n           [108, 112, 117,  ..., 105, 100,  96],\n           [ 90, 102, 116,  ..., 111, 112, 110],\n           [ 98, 104, 112,  ..., 115, 112, 109]],\n \n          [[118, 131, 144,  ...,  85,  90,  98],\n           [137, 136, 130,  ...,  81,  84,  85],\n           [147, 142, 137,  ...,  82,  75,  74],\n           ...,\n           [ 69,  73,  76,  ..., 101,  96,  92],\n           [ 52,  62,  76,  ...,  98,  96,  94],\n           [ 59,  66,  74,  ...,  95,  92,  89]],\n \n          [[133, 145, 159,  ...,  83,  90,  97],\n           [153, 151, 146,  ...,  77,  80,  81],\n           [164, 159, 155,  ...,  75,  67,  67],\n           ...,\n           [ 52,  56,  58,  ..., 136, 131, 127],\n           [ 41,  52,  64,  ..., 107, 106, 104],\n           [ 52,  57,  63,  ...,  88,  83,  80]]],\n \n \n         ...,\n \n \n         [[[146, 125, 162,  ..., 154, 127,  50],\n           [158, 156, 173,  ..., 166,  48,  59],\n           [138, 176, 163,  ..., 143,  66, 136],\n           ...,\n           [125, 141, 165,  ..., 144, 155, 133],\n           [116, 117, 124,  ..., 139, 147, 144],\n           [165, 108,  82,  ..., 133, 123, 135]],\n \n          [[145, 124, 160,  ..., 151, 120,  43],\n           [157, 155, 171,  ..., 163,  44,  52],\n           [136, 174, 160,  ..., 141,  64, 134],\n           ...,\n           [121, 137, 160,  ..., 142, 155, 136],\n           [111, 112, 116,  ..., 136, 147, 146],\n           [157, 100,  74,  ..., 130, 123, 137]],\n \n          [[153, 132, 171,  ..., 162, 136,  59],\n           [165, 163, 182,  ..., 174,  59,  68],\n           [147, 185, 171,  ..., 152,  77, 148],\n           ...,\n           [120, 136, 157,  ..., 147, 163, 145],\n           [108, 109, 113,  ..., 143, 157, 158],\n           [155,  98,  71,  ..., 137, 133, 149]]],\n \n \n         [[[232, 205, 171,  ..., 221, 215, 209],\n           [130, 131, 139,  ..., 221, 215, 208],\n           [163, 166, 173,  ..., 225, 217, 209],\n           ...,\n           [227, 226, 223,  ..., 140, 129, 135],\n           [220, 225, 226,  ..., 149, 152, 143],\n           [207, 218, 226,  ..., 163, 146, 168]],\n \n          [[202, 175, 139,  ..., 188, 182, 176],\n           [100, 101, 107,  ..., 188, 182, 175],\n           [134, 135, 142,  ..., 192, 184, 176],\n           ...,\n           [175, 175, 172,  ..., 104,  93, 100],\n           [168, 173, 175,  ..., 109, 112, 104],\n           [155, 166, 175,  ..., 122, 105, 126]],\n \n          [[138, 113,  78,  ..., 109, 103,  97],\n           [ 36,  37,  46,  ..., 109, 103,  96],\n           [ 66,  70,  77,  ..., 113, 105,  97],\n           ...,\n           [ 92,  92,  89,  ...,  44,  35,  44],\n           [ 84,  89,  92,  ...,  47,  51,  45],\n           [ 71,  82,  92,  ...,  58,  43,  66]]],\n \n \n         [[[178, 184, 194,  ..., 139, 136, 134],\n           [181, 187, 195,  ..., 140, 137, 134],\n           [188, 190, 196,  ..., 139, 136, 133],\n           ...,\n           [185, 178, 219,  ..., 218, 222, 222],\n           [206, 210, 206,  ..., 204, 206, 207],\n           [177, 220, 204,  ..., 199, 204, 208]],\n \n          [[177, 182, 188,  ..., 186, 184, 182],\n           [179, 183, 188,  ..., 183, 181, 178],\n           [185, 185, 190,  ..., 179, 177, 174],\n           ...,\n           [177, 170, 207,  ..., 215, 215, 214],\n           [200, 201, 191,  ..., 201, 199, 199],\n           [170, 211, 189,  ..., 196, 198, 200]],\n \n          [[ 95,  99, 104,  ...,  54,  49,  47],\n           [ 94,  96, 100,  ...,  50,  46,  41],\n           [ 92,  91,  94,  ...,  44,  39,  34],\n           ...,\n           [ 66,  63, 105,  ..., 108, 108, 105],\n           [ 90,  96,  96,  ...,  94,  92,  90],\n           [ 63, 108,  96,  ...,  89,  88,  89]]]], dtype=torch.uint8),\n 'labels_train': tensor([  0,   0,   0,  ..., 199, 199, 199]),\n 'labels_val': tensor([107, 139, 158,  ..., 106,   1,  61]),\n 'labels_test': tensor([-1, -1, -1,  ..., -1, -1, -1]),\n 'fnames_train': ['train/n12267677/images/n12267677_0.JPEG',\n  'train/n12267677/images/n12267677_1.JPEG',\n  'train/n12267677/images/n12267677_10.JPEG',\n  'train/n12267677/images/n12267677_100.JPEG',\n  'train/n12267677/images/n12267677_101.JPEG',\n  'train/n12267677/images/n12267677_102.JPEG',\n  'train/n12267677/images/n12267677_103.JPEG',\n  'train/n12267677/images/n12267677_104.JPEG',\n  'train/n12267677/images/n12267677_105.JPEG',\n  'train/n12267677/images/n12267677_106.JPEG',\n  'train/n12267677/images/n12267677_107.JPEG',\n  'train/n12267677/images/n12267677_108.JPEG',\n  'train/n12267677/images/n12267677_109.JPEG',\n  'train/n12267677/images/n12267677_11.JPEG',\n  'train/n12267677/images/n12267677_110.JPEG',\n  'train/n12267677/images/n12267677_111.JPEG',\n  'train/n12267677/images/n12267677_112.JPEG',\n  'train/n12267677/images/n12267677_113.JPEG',\n  'train/n12267677/images/n12267677_114.JPEG',\n  'train/n12267677/images/n12267677_115.JPEG',\n  'train/n12267677/images/n12267677_116.JPEG',\n  'train/n12267677/images/n12267677_117.JPEG',\n  'train/n12267677/images/n12267677_118.JPEG',\n  'train/n12267677/images/n12267677_119.JPEG',\n  'train/n12267677/images/n12267677_12.JPEG',\n  'train/n12267677/images/n12267677_120.JPEG',\n  'train/n12267677/images/n12267677_121.JPEG',\n  'train/n12267677/images/n12267677_122.JPEG',\n  'train/n12267677/images/n12267677_123.JPEG',\n  'train/n12267677/images/n12267677_124.JPEG',\n  'train/n12267677/images/n12267677_125.JPEG',\n  'train/n12267677/images/n12267677_126.JPEG',\n  'train/n12267677/images/n12267677_127.JPEG',\n  'train/n12267677/images/n12267677_128.JPEG',\n  'train/n12267677/images/n12267677_129.JPEG',\n  'train/n12267677/images/n12267677_13.JPEG',\n  'train/n12267677/images/n12267677_130.JPEG',\n  'train/n12267677/images/n12267677_131.JPEG',\n  'train/n12267677/images/n12267677_132.JPEG',\n  'train/n12267677/images/n12267677_133.JPEG',\n  'train/n12267677/images/n12267677_134.JPEG',\n  'train/n12267677/images/n12267677_135.JPEG',\n  'train/n12267677/images/n12267677_136.JPEG',\n  'train/n12267677/images/n12267677_137.JPEG',\n  'train/n12267677/images/n12267677_138.JPEG',\n  'train/n12267677/images/n12267677_139.JPEG',\n  'train/n12267677/images/n12267677_14.JPEG',\n  'train/n12267677/images/n12267677_140.JPEG',\n  'train/n12267677/images/n12267677_141.JPEG',\n  'train/n12267677/images/n12267677_142.JPEG',\n  'train/n12267677/images/n12267677_143.JPEG',\n  'train/n12267677/images/n12267677_144.JPEG',\n  'train/n12267677/images/n12267677_145.JPEG',\n  'train/n12267677/images/n12267677_146.JPEG',\n  'train/n12267677/images/n12267677_147.JPEG',\n  'train/n12267677/images/n12267677_148.JPEG',\n  'train/n12267677/images/n12267677_149.JPEG',\n  'train/n12267677/images/n12267677_15.JPEG',\n  'train/n12267677/images/n12267677_150.JPEG',\n  'train/n12267677/images/n12267677_151.JPEG',\n  'train/n12267677/images/n12267677_152.JPEG',\n  'train/n12267677/images/n12267677_153.JPEG',\n  'train/n12267677/images/n12267677_154.JPEG',\n  'train/n12267677/images/n12267677_155.JPEG',\n  'train/n12267677/images/n12267677_156.JPEG',\n  'train/n12267677/images/n12267677_157.JPEG',\n  'train/n12267677/images/n12267677_158.JPEG',\n  'train/n12267677/images/n12267677_159.JPEG',\n  'train/n12267677/images/n12267677_16.JPEG',\n  'train/n12267677/images/n12267677_160.JPEG',\n  'train/n12267677/images/n12267677_161.JPEG',\n  'train/n12267677/images/n12267677_162.JPEG',\n  'train/n12267677/images/n12267677_163.JPEG',\n  'train/n12267677/images/n12267677_164.JPEG',\n  'train/n12267677/images/n12267677_165.JPEG',\n  'train/n12267677/images/n12267677_166.JPEG',\n  'train/n12267677/images/n12267677_167.JPEG',\n  'train/n12267677/images/n12267677_168.JPEG',\n  'train/n12267677/images/n12267677_169.JPEG',\n  'train/n12267677/images/n12267677_17.JPEG',\n  'train/n12267677/images/n12267677_170.JPEG',\n  'train/n12267677/images/n12267677_171.JPEG',\n  'train/n12267677/images/n12267677_172.JPEG',\n  'train/n12267677/images/n12267677_173.JPEG',\n  'train/n12267677/images/n12267677_174.JPEG',\n  'train/n12267677/images/n12267677_175.JPEG',\n  'train/n12267677/images/n12267677_176.JPEG',\n  'train/n12267677/images/n12267677_177.JPEG',\n  'train/n12267677/images/n12267677_178.JPEG',\n  'train/n12267677/images/n12267677_179.JPEG',\n  'train/n12267677/images/n12267677_18.JPEG',\n  'train/n12267677/images/n12267677_180.JPEG',\n  'train/n12267677/images/n12267677_181.JPEG',\n  'train/n12267677/images/n12267677_182.JPEG',\n  'train/n12267677/images/n12267677_183.JPEG',\n  'train/n12267677/images/n12267677_184.JPEG',\n  'train/n12267677/images/n12267677_185.JPEG',\n  'train/n12267677/images/n12267677_186.JPEG',\n  'train/n12267677/images/n12267677_187.JPEG',\n  'train/n12267677/images/n12267677_188.JPEG',\n  'train/n12267677/images/n12267677_189.JPEG',\n  'train/n12267677/images/n12267677_19.JPEG',\n  'train/n12267677/images/n12267677_190.JPEG',\n  'train/n12267677/images/n12267677_191.JPEG',\n  'train/n12267677/images/n12267677_192.JPEG',\n  'train/n12267677/images/n12267677_193.JPEG',\n  'train/n12267677/images/n12267677_194.JPEG',\n  'train/n12267677/images/n12267677_195.JPEG',\n  'train/n12267677/images/n12267677_196.JPEG',\n  'train/n12267677/images/n12267677_197.JPEG',\n  'train/n12267677/images/n12267677_198.JPEG',\n  'train/n12267677/images/n12267677_199.JPEG',\n  'train/n12267677/images/n12267677_2.JPEG',\n  'train/n12267677/images/n12267677_20.JPEG',\n  'train/n12267677/images/n12267677_200.JPEG',\n  'train/n12267677/images/n12267677_201.JPEG',\n  'train/n12267677/images/n12267677_202.JPEG',\n  'train/n12267677/images/n12267677_203.JPEG',\n  'train/n12267677/images/n12267677_204.JPEG',\n  'train/n12267677/images/n12267677_205.JPEG',\n  'train/n12267677/images/n12267677_206.JPEG',\n  'train/n12267677/images/n12267677_207.JPEG',\n  'train/n12267677/images/n12267677_208.JPEG',\n  'train/n12267677/images/n12267677_209.JPEG',\n  'train/n12267677/images/n12267677_21.JPEG',\n  'train/n12267677/images/n12267677_210.JPEG',\n  'train/n12267677/images/n12267677_211.JPEG',\n  'train/n12267677/images/n12267677_212.JPEG',\n  'train/n12267677/images/n12267677_213.JPEG',\n  'train/n12267677/images/n12267677_214.JPEG',\n  'train/n12267677/images/n12267677_215.JPEG',\n  'train/n12267677/images/n12267677_216.JPEG',\n  'train/n12267677/images/n12267677_217.JPEG',\n  'train/n12267677/images/n12267677_218.JPEG',\n  'train/n12267677/images/n12267677_219.JPEG',\n  'train/n12267677/images/n12267677_22.JPEG',\n  'train/n12267677/images/n12267677_220.JPEG',\n  'train/n12267677/images/n12267677_221.JPEG',\n  'train/n12267677/images/n12267677_222.JPEG',\n  'train/n12267677/images/n12267677_223.JPEG',\n  'train/n12267677/images/n12267677_224.JPEG',\n  'train/n12267677/images/n12267677_225.JPEG',\n  'train/n12267677/images/n12267677_226.JPEG',\n  'train/n12267677/images/n12267677_227.JPEG',\n  'train/n12267677/images/n12267677_228.JPEG',\n  'train/n12267677/images/n12267677_229.JPEG',\n  'train/n12267677/images/n12267677_23.JPEG',\n  'train/n12267677/images/n12267677_230.JPEG',\n  'train/n12267677/images/n12267677_231.JPEG',\n  'train/n12267677/images/n12267677_232.JPEG',\n  'train/n12267677/images/n12267677_233.JPEG',\n  'train/n12267677/images/n12267677_234.JPEG',\n  'train/n12267677/images/n12267677_235.JPEG',\n  'train/n12267677/images/n12267677_236.JPEG',\n  'train/n12267677/images/n12267677_237.JPEG',\n  'train/n12267677/images/n12267677_238.JPEG',\n  'train/n12267677/images/n12267677_239.JPEG',\n  'train/n12267677/images/n12267677_24.JPEG',\n  'train/n12267677/images/n12267677_240.JPEG',\n  'train/n12267677/images/n12267677_241.JPEG',\n  'train/n12267677/images/n12267677_242.JPEG',\n  'train/n12267677/images/n12267677_243.JPEG',\n  'train/n12267677/images/n12267677_244.JPEG',\n  'train/n12267677/images/n12267677_245.JPEG',\n  'train/n12267677/images/n12267677_246.JPEG',\n  'train/n12267677/images/n12267677_247.JPEG',\n  'train/n12267677/images/n12267677_248.JPEG',\n  'train/n12267677/images/n12267677_249.JPEG',\n  'train/n12267677/images/n12267677_25.JPEG',\n  'train/n12267677/images/n12267677_250.JPEG',\n  'train/n12267677/images/n12267677_251.JPEG',\n  'train/n12267677/images/n12267677_252.JPEG',\n  'train/n12267677/images/n12267677_253.JPEG',\n  'train/n12267677/images/n12267677_254.JPEG',\n  'train/n12267677/images/n12267677_255.JPEG',\n  'train/n12267677/images/n12267677_256.JPEG',\n  'train/n12267677/images/n12267677_257.JPEG',\n  'train/n12267677/images/n12267677_258.JPEG',\n  'train/n12267677/images/n12267677_259.JPEG',\n  'train/n12267677/images/n12267677_26.JPEG',\n  'train/n12267677/images/n12267677_260.JPEG',\n  'train/n12267677/images/n12267677_261.JPEG',\n  'train/n12267677/images/n12267677_262.JPEG',\n  'train/n12267677/images/n12267677_263.JPEG',\n  'train/n12267677/images/n12267677_264.JPEG',\n  'train/n12267677/images/n12267677_265.JPEG',\n  'train/n12267677/images/n12267677_266.JPEG',\n  'train/n12267677/images/n12267677_267.JPEG',\n  'train/n12267677/images/n12267677_268.JPEG',\n  'train/n12267677/images/n12267677_269.JPEG',\n  'train/n12267677/images/n12267677_27.JPEG',\n  'train/n12267677/images/n12267677_270.JPEG',\n  'train/n12267677/images/n12267677_271.JPEG',\n  'train/n12267677/images/n12267677_272.JPEG',\n  'train/n12267677/images/n12267677_273.JPEG',\n  'train/n12267677/images/n12267677_274.JPEG',\n  'train/n12267677/images/n12267677_275.JPEG',\n  'train/n12267677/images/n12267677_276.JPEG',\n  'train/n12267677/images/n12267677_277.JPEG',\n  'train/n12267677/images/n12267677_278.JPEG',\n  'train/n12267677/images/n12267677_279.JPEG',\n  'train/n12267677/images/n12267677_28.JPEG',\n  'train/n12267677/images/n12267677_280.JPEG',\n  'train/n12267677/images/n12267677_281.JPEG',\n  'train/n12267677/images/n12267677_282.JPEG',\n  'train/n12267677/images/n12267677_283.JPEG',\n  'train/n12267677/images/n12267677_284.JPEG',\n  'train/n12267677/images/n12267677_285.JPEG',\n  'train/n12267677/images/n12267677_286.JPEG',\n  'train/n12267677/images/n12267677_287.JPEG',\n  'train/n12267677/images/n12267677_288.JPEG',\n  'train/n12267677/images/n12267677_289.JPEG',\n  'train/n12267677/images/n12267677_29.JPEG',\n  'train/n12267677/images/n12267677_290.JPEG',\n  'train/n12267677/images/n12267677_291.JPEG',\n  'train/n12267677/images/n12267677_292.JPEG',\n  'train/n12267677/images/n12267677_293.JPEG',\n  'train/n12267677/images/n12267677_294.JPEG',\n  'train/n12267677/images/n12267677_295.JPEG',\n  'train/n12267677/images/n12267677_296.JPEG',\n  'train/n12267677/images/n12267677_297.JPEG',\n  'train/n12267677/images/n12267677_298.JPEG',\n  'train/n12267677/images/n12267677_299.JPEG',\n  'train/n12267677/images/n12267677_3.JPEG',\n  'train/n12267677/images/n12267677_30.JPEG',\n  'train/n12267677/images/n12267677_300.JPEG',\n  'train/n12267677/images/n12267677_301.JPEG',\n  'train/n12267677/images/n12267677_302.JPEG',\n  'train/n12267677/images/n12267677_303.JPEG',\n  'train/n12267677/images/n12267677_304.JPEG',\n  'train/n12267677/images/n12267677_305.JPEG',\n  'train/n12267677/images/n12267677_306.JPEG',\n  'train/n12267677/images/n12267677_307.JPEG',\n  'train/n12267677/images/n12267677_308.JPEG',\n  'train/n12267677/images/n12267677_309.JPEG',\n  'train/n12267677/images/n12267677_31.JPEG',\n  'train/n12267677/images/n12267677_310.JPEG',\n  'train/n12267677/images/n12267677_311.JPEG',\n  'train/n12267677/images/n12267677_312.JPEG',\n  'train/n12267677/images/n12267677_313.JPEG',\n  'train/n12267677/images/n12267677_314.JPEG',\n  'train/n12267677/images/n12267677_315.JPEG',\n  'train/n12267677/images/n12267677_316.JPEG',\n  'train/n12267677/images/n12267677_317.JPEG',\n  'train/n12267677/images/n12267677_318.JPEG',\n  'train/n12267677/images/n12267677_319.JPEG',\n  'train/n12267677/images/n12267677_32.JPEG',\n  'train/n12267677/images/n12267677_320.JPEG',\n  'train/n12267677/images/n12267677_321.JPEG',\n  'train/n12267677/images/n12267677_322.JPEG',\n  'train/n12267677/images/n12267677_323.JPEG',\n  'train/n12267677/images/n12267677_324.JPEG',\n  'train/n12267677/images/n12267677_325.JPEG',\n  'train/n12267677/images/n12267677_326.JPEG',\n  'train/n12267677/images/n12267677_327.JPEG',\n  'train/n12267677/images/n12267677_328.JPEG',\n  'train/n12267677/images/n12267677_329.JPEG',\n  'train/n12267677/images/n12267677_33.JPEG',\n  'train/n12267677/images/n12267677_330.JPEG',\n  'train/n12267677/images/n12267677_331.JPEG',\n  'train/n12267677/images/n12267677_332.JPEG',\n  'train/n12267677/images/n12267677_333.JPEG',\n  'train/n12267677/images/n12267677_334.JPEG',\n  'train/n12267677/images/n12267677_335.JPEG',\n  'train/n12267677/images/n12267677_336.JPEG',\n  'train/n12267677/images/n12267677_337.JPEG',\n  'train/n12267677/images/n12267677_338.JPEG',\n  'train/n12267677/images/n12267677_339.JPEG',\n  'train/n12267677/images/n12267677_34.JPEG',\n  'train/n12267677/images/n12267677_340.JPEG',\n  'train/n12267677/images/n12267677_341.JPEG',\n  'train/n12267677/images/n12267677_342.JPEG',\n  'train/n12267677/images/n12267677_343.JPEG',\n  'train/n12267677/images/n12267677_344.JPEG',\n  'train/n12267677/images/n12267677_345.JPEG',\n  'train/n12267677/images/n12267677_346.JPEG',\n  'train/n12267677/images/n12267677_347.JPEG',\n  'train/n12267677/images/n12267677_348.JPEG',\n  'train/n12267677/images/n12267677_349.JPEG',\n  'train/n12267677/images/n12267677_35.JPEG',\n  'train/n12267677/images/n12267677_350.JPEG',\n  'train/n12267677/images/n12267677_351.JPEG',\n  'train/n12267677/images/n12267677_352.JPEG',\n  'train/n12267677/images/n12267677_353.JPEG',\n  'train/n12267677/images/n12267677_354.JPEG',\n  'train/n12267677/images/n12267677_355.JPEG',\n  'train/n12267677/images/n12267677_356.JPEG',\n  'train/n12267677/images/n12267677_357.JPEG',\n  'train/n12267677/images/n12267677_358.JPEG',\n  'train/n12267677/images/n12267677_359.JPEG',\n  'train/n12267677/images/n12267677_36.JPEG',\n  'train/n12267677/images/n12267677_360.JPEG',\n  'train/n12267677/images/n12267677_361.JPEG',\n  'train/n12267677/images/n12267677_362.JPEG',\n  'train/n12267677/images/n12267677_363.JPEG',\n  'train/n12267677/images/n12267677_364.JPEG',\n  'train/n12267677/images/n12267677_365.JPEG',\n  'train/n12267677/images/n12267677_366.JPEG',\n  'train/n12267677/images/n12267677_367.JPEG',\n  'train/n12267677/images/n12267677_368.JPEG',\n  'train/n12267677/images/n12267677_369.JPEG',\n  'train/n12267677/images/n12267677_37.JPEG',\n  'train/n12267677/images/n12267677_370.JPEG',\n  'train/n12267677/images/n12267677_371.JPEG',\n  'train/n12267677/images/n12267677_372.JPEG',\n  'train/n12267677/images/n12267677_373.JPEG',\n  'train/n12267677/images/n12267677_374.JPEG',\n  'train/n12267677/images/n12267677_375.JPEG',\n  'train/n12267677/images/n12267677_376.JPEG',\n  'train/n12267677/images/n12267677_377.JPEG',\n  'train/n12267677/images/n12267677_378.JPEG',\n  'train/n12267677/images/n12267677_379.JPEG',\n  'train/n12267677/images/n12267677_38.JPEG',\n  'train/n12267677/images/n12267677_380.JPEG',\n  'train/n12267677/images/n12267677_381.JPEG',\n  'train/n12267677/images/n12267677_382.JPEG',\n  'train/n12267677/images/n12267677_383.JPEG',\n  'train/n12267677/images/n12267677_384.JPEG',\n  'train/n12267677/images/n12267677_385.JPEG',\n  'train/n12267677/images/n12267677_386.JPEG',\n  'train/n12267677/images/n12267677_387.JPEG',\n  'train/n12267677/images/n12267677_388.JPEG',\n  'train/n12267677/images/n12267677_389.JPEG',\n  'train/n12267677/images/n12267677_39.JPEG',\n  'train/n12267677/images/n12267677_390.JPEG',\n  'train/n12267677/images/n12267677_391.JPEG',\n  'train/n12267677/images/n12267677_392.JPEG',\n  'train/n12267677/images/n12267677_393.JPEG',\n  'train/n12267677/images/n12267677_394.JPEG',\n  'train/n12267677/images/n12267677_395.JPEG',\n  'train/n12267677/images/n12267677_396.JPEG',\n  'train/n12267677/images/n12267677_397.JPEG',\n  'train/n12267677/images/n12267677_398.JPEG',\n  'train/n12267677/images/n12267677_399.JPEG',\n  'train/n12267677/images/n12267677_4.JPEG',\n  'train/n12267677/images/n12267677_40.JPEG',\n  'train/n12267677/images/n12267677_400.JPEG',\n  'train/n12267677/images/n12267677_401.JPEG',\n  'train/n12267677/images/n12267677_402.JPEG',\n  'train/n12267677/images/n12267677_403.JPEG',\n  'train/n12267677/images/n12267677_404.JPEG',\n  'train/n12267677/images/n12267677_405.JPEG',\n  'train/n12267677/images/n12267677_406.JPEG',\n  'train/n12267677/images/n12267677_407.JPEG',\n  'train/n12267677/images/n12267677_408.JPEG',\n  'train/n12267677/images/n12267677_409.JPEG',\n  'train/n12267677/images/n12267677_41.JPEG',\n  'train/n12267677/images/n12267677_410.JPEG',\n  'train/n12267677/images/n12267677_411.JPEG',\n  'train/n12267677/images/n12267677_412.JPEG',\n  'train/n12267677/images/n12267677_413.JPEG',\n  'train/n12267677/images/n12267677_414.JPEG',\n  'train/n12267677/images/n12267677_415.JPEG',\n  'train/n12267677/images/n12267677_416.JPEG',\n  'train/n12267677/images/n12267677_417.JPEG',\n  'train/n12267677/images/n12267677_418.JPEG',\n  'train/n12267677/images/n12267677_419.JPEG',\n  'train/n12267677/images/n12267677_42.JPEG',\n  'train/n12267677/images/n12267677_420.JPEG',\n  'train/n12267677/images/n12267677_421.JPEG',\n  'train/n12267677/images/n12267677_422.JPEG',\n  'train/n12267677/images/n12267677_423.JPEG',\n  'train/n12267677/images/n12267677_424.JPEG',\n  'train/n12267677/images/n12267677_425.JPEG',\n  'train/n12267677/images/n12267677_426.JPEG',\n  'train/n12267677/images/n12267677_427.JPEG',\n  'train/n12267677/images/n12267677_428.JPEG',\n  'train/n12267677/images/n12267677_429.JPEG',\n  'train/n12267677/images/n12267677_43.JPEG',\n  'train/n12267677/images/n12267677_430.JPEG',\n  'train/n12267677/images/n12267677_431.JPEG',\n  'train/n12267677/images/n12267677_432.JPEG',\n  'train/n12267677/images/n12267677_433.JPEG',\n  'train/n12267677/images/n12267677_434.JPEG',\n  'train/n12267677/images/n12267677_435.JPEG',\n  'train/n12267677/images/n12267677_436.JPEG',\n  'train/n12267677/images/n12267677_437.JPEG',\n  'train/n12267677/images/n12267677_438.JPEG',\n  'train/n12267677/images/n12267677_439.JPEG',\n  'train/n12267677/images/n12267677_44.JPEG',\n  'train/n12267677/images/n12267677_440.JPEG',\n  'train/n12267677/images/n12267677_441.JPEG',\n  'train/n12267677/images/n12267677_442.JPEG',\n  'train/n12267677/images/n12267677_443.JPEG',\n  'train/n12267677/images/n12267677_444.JPEG',\n  'train/n12267677/images/n12267677_445.JPEG',\n  'train/n12267677/images/n12267677_446.JPEG',\n  'train/n12267677/images/n12267677_447.JPEG',\n  'train/n12267677/images/n12267677_448.JPEG',\n  'train/n12267677/images/n12267677_449.JPEG',\n  'train/n12267677/images/n12267677_45.JPEG',\n  'train/n12267677/images/n12267677_450.JPEG',\n  'train/n12267677/images/n12267677_451.JPEG',\n  'train/n12267677/images/n12267677_452.JPEG',\n  'train/n12267677/images/n12267677_453.JPEG',\n  'train/n12267677/images/n12267677_454.JPEG',\n  'train/n12267677/images/n12267677_455.JPEG',\n  'train/n12267677/images/n12267677_456.JPEG',\n  'train/n12267677/images/n12267677_457.JPEG',\n  'train/n12267677/images/n12267677_458.JPEG',\n  'train/n12267677/images/n12267677_459.JPEG',\n  'train/n12267677/images/n12267677_46.JPEG',\n  'train/n12267677/images/n12267677_460.JPEG',\n  'train/n12267677/images/n12267677_461.JPEG',\n  'train/n12267677/images/n12267677_462.JPEG',\n  'train/n12267677/images/n12267677_463.JPEG',\n  'train/n12267677/images/n12267677_464.JPEG',\n  'train/n12267677/images/n12267677_465.JPEG',\n  'train/n12267677/images/n12267677_466.JPEG',\n  'train/n12267677/images/n12267677_467.JPEG',\n  'train/n12267677/images/n12267677_468.JPEG',\n  'train/n12267677/images/n12267677_469.JPEG',\n  'train/n12267677/images/n12267677_47.JPEG',\n  'train/n12267677/images/n12267677_470.JPEG',\n  'train/n12267677/images/n12267677_471.JPEG',\n  'train/n12267677/images/n12267677_472.JPEG',\n  'train/n12267677/images/n12267677_473.JPEG',\n  'train/n12267677/images/n12267677_474.JPEG',\n  'train/n12267677/images/n12267677_475.JPEG',\n  'train/n12267677/images/n12267677_476.JPEG',\n  'train/n12267677/images/n12267677_477.JPEG',\n  'train/n12267677/images/n12267677_478.JPEG',\n  'train/n12267677/images/n12267677_479.JPEG',\n  'train/n12267677/images/n12267677_48.JPEG',\n  'train/n12267677/images/n12267677_480.JPEG',\n  'train/n12267677/images/n12267677_481.JPEG',\n  'train/n12267677/images/n12267677_482.JPEG',\n  'train/n12267677/images/n12267677_483.JPEG',\n  'train/n12267677/images/n12267677_484.JPEG',\n  'train/n12267677/images/n12267677_485.JPEG',\n  'train/n12267677/images/n12267677_486.JPEG',\n  'train/n12267677/images/n12267677_487.JPEG',\n  'train/n12267677/images/n12267677_488.JPEG',\n  'train/n12267677/images/n12267677_489.JPEG',\n  'train/n12267677/images/n12267677_49.JPEG',\n  'train/n12267677/images/n12267677_490.JPEG',\n  'train/n12267677/images/n12267677_491.JPEG',\n  'train/n12267677/images/n12267677_492.JPEG',\n  'train/n12267677/images/n12267677_493.JPEG',\n  'train/n12267677/images/n12267677_494.JPEG',\n  'train/n12267677/images/n12267677_495.JPEG',\n  'train/n12267677/images/n12267677_496.JPEG',\n  'train/n12267677/images/n12267677_497.JPEG',\n  'train/n12267677/images/n12267677_498.JPEG',\n  'train/n12267677/images/n12267677_499.JPEG',\n  'train/n12267677/images/n12267677_5.JPEG',\n  'train/n12267677/images/n12267677_50.JPEG',\n  'train/n12267677/images/n12267677_51.JPEG',\n  'train/n12267677/images/n12267677_52.JPEG',\n  'train/n12267677/images/n12267677_53.JPEG',\n  'train/n12267677/images/n12267677_54.JPEG',\n  'train/n12267677/images/n12267677_55.JPEG',\n  'train/n12267677/images/n12267677_56.JPEG',\n  'train/n12267677/images/n12267677_57.JPEG',\n  'train/n12267677/images/n12267677_58.JPEG',\n  'train/n12267677/images/n12267677_59.JPEG',\n  'train/n12267677/images/n12267677_6.JPEG',\n  'train/n12267677/images/n12267677_60.JPEG',\n  'train/n12267677/images/n12267677_61.JPEG',\n  'train/n12267677/images/n12267677_62.JPEG',\n  'train/n12267677/images/n12267677_63.JPEG',\n  'train/n12267677/images/n12267677_64.JPEG',\n  'train/n12267677/images/n12267677_65.JPEG',\n  'train/n12267677/images/n12267677_66.JPEG',\n  'train/n12267677/images/n12267677_67.JPEG',\n  'train/n12267677/images/n12267677_68.JPEG',\n  'train/n12267677/images/n12267677_69.JPEG',\n  'train/n12267677/images/n12267677_7.JPEG',\n  'train/n12267677/images/n12267677_70.JPEG',\n  'train/n12267677/images/n12267677_71.JPEG',\n  'train/n12267677/images/n12267677_72.JPEG',\n  'train/n12267677/images/n12267677_73.JPEG',\n  'train/n12267677/images/n12267677_74.JPEG',\n  'train/n12267677/images/n12267677_75.JPEG',\n  'train/n12267677/images/n12267677_76.JPEG',\n  'train/n12267677/images/n12267677_77.JPEG',\n  'train/n12267677/images/n12267677_78.JPEG',\n  'train/n12267677/images/n12267677_79.JPEG',\n  'train/n12267677/images/n12267677_8.JPEG',\n  'train/n12267677/images/n12267677_80.JPEG',\n  'train/n12267677/images/n12267677_81.JPEG',\n  'train/n12267677/images/n12267677_82.JPEG',\n  'train/n12267677/images/n12267677_83.JPEG',\n  'train/n12267677/images/n12267677_84.JPEG',\n  'train/n12267677/images/n12267677_85.JPEG',\n  'train/n12267677/images/n12267677_86.JPEG',\n  'train/n12267677/images/n12267677_87.JPEG',\n  'train/n12267677/images/n12267677_88.JPEG',\n  'train/n12267677/images/n12267677_89.JPEG',\n  'train/n12267677/images/n12267677_9.JPEG',\n  'train/n12267677/images/n12267677_90.JPEG',\n  'train/n12267677/images/n12267677_91.JPEG',\n  'train/n12267677/images/n12267677_92.JPEG',\n  'train/n12267677/images/n12267677_93.JPEG',\n  'train/n12267677/images/n12267677_94.JPEG',\n  'train/n12267677/images/n12267677_95.JPEG',\n  'train/n12267677/images/n12267677_96.JPEG',\n  'train/n12267677/images/n12267677_97.JPEG',\n  'train/n12267677/images/n12267677_98.JPEG',\n  'train/n12267677/images/n12267677_99.JPEG'],\n 'fnames_val': ['val/images/val_0.JPEG',\n  'val/images/val_1.JPEG',\n  'val/images/val_10.JPEG',\n  'val/images/val_100.JPEG',\n  'val/images/val_1000.JPEG',\n  'val/images/val_1001.JPEG',\n  'val/images/val_1002.JPEG',\n  'val/images/val_1003.JPEG',\n  'val/images/val_1004.JPEG',\n  'val/images/val_1005.JPEG',\n  'val/images/val_1006.JPEG',\n  'val/images/val_1007.JPEG',\n  'val/images/val_1008.JPEG',\n  'val/images/val_1009.JPEG',\n  'val/images/val_101.JPEG',\n  'val/images/val_1010.JPEG',\n  'val/images/val_1011.JPEG',\n  'val/images/val_1012.JPEG',\n  'val/images/val_1013.JPEG',\n  'val/images/val_1014.JPEG',\n  'val/images/val_1015.JPEG',\n  'val/images/val_1016.JPEG',\n  'val/images/val_1017.JPEG',\n  'val/images/val_1018.JPEG',\n  'val/images/val_1019.JPEG',\n  'val/images/val_102.JPEG',\n  'val/images/val_1020.JPEG',\n  'val/images/val_1021.JPEG',\n  'val/images/val_1022.JPEG',\n  'val/images/val_1023.JPEG',\n  'val/images/val_1024.JPEG',\n  'val/images/val_1025.JPEG',\n  'val/images/val_1026.JPEG',\n  'val/images/val_1027.JPEG',\n  'val/images/val_1028.JPEG',\n  'val/images/val_1029.JPEG',\n  'val/images/val_103.JPEG',\n  'val/images/val_1030.JPEG',\n  'val/images/val_1031.JPEG',\n  'val/images/val_1032.JPEG',\n  'val/images/val_1033.JPEG',\n  'val/images/val_1034.JPEG',\n  'val/images/val_1035.JPEG',\n  'val/images/val_1036.JPEG',\n  'val/images/val_1037.JPEG',\n  'val/images/val_1038.JPEG',\n  'val/images/val_1039.JPEG',\n  'val/images/val_104.JPEG',\n  'val/images/val_1040.JPEG',\n  'val/images/val_1041.JPEG',\n  'val/images/val_1042.JPEG',\n  'val/images/val_1043.JPEG',\n  'val/images/val_1044.JPEG',\n  'val/images/val_1045.JPEG',\n  'val/images/val_1046.JPEG',\n  'val/images/val_1047.JPEG',\n  'val/images/val_1048.JPEG',\n  'val/images/val_1049.JPEG',\n  'val/images/val_105.JPEG',\n  'val/images/val_1050.JPEG',\n  'val/images/val_1051.JPEG',\n  'val/images/val_1052.JPEG',\n  'val/images/val_1053.JPEG',\n  'val/images/val_1054.JPEG',\n  'val/images/val_1055.JPEG',\n  'val/images/val_1056.JPEG',\n  'val/images/val_1057.JPEG',\n  'val/images/val_1058.JPEG',\n  'val/images/val_1059.JPEG',\n  'val/images/val_106.JPEG',\n  'val/images/val_1060.JPEG',\n  'val/images/val_1061.JPEG',\n  'val/images/val_1062.JPEG',\n  'val/images/val_1063.JPEG',\n  'val/images/val_1064.JPEG',\n  'val/images/val_1065.JPEG',\n  'val/images/val_1066.JPEG',\n  'val/images/val_1067.JPEG',\n  'val/images/val_1068.JPEG',\n  'val/images/val_1069.JPEG',\n  'val/images/val_107.JPEG',\n  'val/images/val_1070.JPEG',\n  'val/images/val_1071.JPEG',\n  'val/images/val_1072.JPEG',\n  'val/images/val_1073.JPEG',\n  'val/images/val_1074.JPEG',\n  'val/images/val_1075.JPEG',\n  'val/images/val_1076.JPEG',\n  'val/images/val_1077.JPEG',\n  'val/images/val_1078.JPEG',\n  'val/images/val_1079.JPEG',\n  'val/images/val_108.JPEG',\n  'val/images/val_1080.JPEG',\n  'val/images/val_1081.JPEG',\n  'val/images/val_1082.JPEG',\n  'val/images/val_1083.JPEG',\n  'val/images/val_1084.JPEG',\n  'val/images/val_1085.JPEG',\n  'val/images/val_1086.JPEG',\n  'val/images/val_1087.JPEG',\n  'val/images/val_1088.JPEG',\n  'val/images/val_1089.JPEG',\n  'val/images/val_109.JPEG',\n  'val/images/val_1090.JPEG',\n  'val/images/val_1091.JPEG',\n  'val/images/val_1092.JPEG',\n  'val/images/val_1093.JPEG',\n  'val/images/val_1094.JPEG',\n  'val/images/val_1095.JPEG',\n  'val/images/val_1096.JPEG',\n  'val/images/val_1097.JPEG',\n  'val/images/val_1098.JPEG',\n  'val/images/val_1099.JPEG',\n  'val/images/val_11.JPEG',\n  'val/images/val_110.JPEG',\n  'val/images/val_1100.JPEG',\n  'val/images/val_1101.JPEG',\n  'val/images/val_1102.JPEG',\n  'val/images/val_1103.JPEG',\n  'val/images/val_1104.JPEG',\n  'val/images/val_1105.JPEG',\n  'val/images/val_1106.JPEG',\n  'val/images/val_1107.JPEG',\n  'val/images/val_1108.JPEG',\n  'val/images/val_1109.JPEG',\n  'val/images/val_111.JPEG',\n  'val/images/val_1110.JPEG',\n  'val/images/val_1111.JPEG',\n  'val/images/val_1112.JPEG',\n  'val/images/val_1113.JPEG',\n  'val/images/val_1114.JPEG',\n  'val/images/val_1115.JPEG',\n  'val/images/val_1116.JPEG',\n  'val/images/val_1117.JPEG',\n  'val/images/val_1118.JPEG',\n  'val/images/val_1119.JPEG',\n  'val/images/val_112.JPEG',\n  'val/images/val_1120.JPEG',\n  'val/images/val_1121.JPEG',\n  'val/images/val_1122.JPEG',\n  'val/images/val_1123.JPEG',\n  'val/images/val_1124.JPEG',\n  'val/images/val_1125.JPEG',\n  'val/images/val_1126.JPEG',\n  'val/images/val_1127.JPEG',\n  'val/images/val_1128.JPEG',\n  'val/images/val_1129.JPEG',\n  'val/images/val_113.JPEG',\n  'val/images/val_1130.JPEG',\n  'val/images/val_1131.JPEG',\n  'val/images/val_1132.JPEG',\n  'val/images/val_1133.JPEG',\n  'val/images/val_1134.JPEG',\n  'val/images/val_1135.JPEG',\n  'val/images/val_1136.JPEG',\n  'val/images/val_1137.JPEG',\n  'val/images/val_1138.JPEG',\n  'val/images/val_1139.JPEG',\n  'val/images/val_114.JPEG',\n  'val/images/val_1140.JPEG',\n  'val/images/val_1141.JPEG',\n  'val/images/val_1142.JPEG',\n  'val/images/val_1143.JPEG',\n  'val/images/val_1144.JPEG',\n  'val/images/val_1145.JPEG',\n  'val/images/val_1146.JPEG',\n  'val/images/val_1147.JPEG',\n  'val/images/val_1148.JPEG',\n  'val/images/val_1149.JPEG',\n  'val/images/val_115.JPEG',\n  'val/images/val_1150.JPEG',\n  'val/images/val_1151.JPEG',\n  'val/images/val_1152.JPEG',\n  'val/images/val_1153.JPEG',\n  'val/images/val_1154.JPEG',\n  'val/images/val_1155.JPEG',\n  'val/images/val_1156.JPEG',\n  'val/images/val_1157.JPEG',\n  'val/images/val_1158.JPEG',\n  'val/images/val_1159.JPEG',\n  'val/images/val_116.JPEG',\n  'val/images/val_1160.JPEG',\n  'val/images/val_1161.JPEG',\n  'val/images/val_1162.JPEG',\n  'val/images/val_1163.JPEG',\n  'val/images/val_1164.JPEG',\n  'val/images/val_1165.JPEG',\n  'val/images/val_1166.JPEG',\n  'val/images/val_1167.JPEG',\n  'val/images/val_1168.JPEG',\n  'val/images/val_1169.JPEG',\n  'val/images/val_117.JPEG',\n  'val/images/val_1170.JPEG',\n  'val/images/val_1171.JPEG',\n  'val/images/val_1172.JPEG',\n  'val/images/val_1173.JPEG',\n  'val/images/val_1174.JPEG',\n  'val/images/val_1175.JPEG',\n  'val/images/val_1176.JPEG',\n  'val/images/val_1177.JPEG',\n  'val/images/val_1178.JPEG',\n  'val/images/val_1179.JPEG',\n  'val/images/val_118.JPEG',\n  'val/images/val_1180.JPEG',\n  'val/images/val_1181.JPEG',\n  'val/images/val_1182.JPEG',\n  'val/images/val_1183.JPEG',\n  'val/images/val_1184.JPEG',\n  'val/images/val_1185.JPEG',\n  'val/images/val_1186.JPEG',\n  'val/images/val_1187.JPEG',\n  'val/images/val_1188.JPEG',\n  'val/images/val_1189.JPEG',\n  'val/images/val_119.JPEG',\n  'val/images/val_1190.JPEG',\n  'val/images/val_1191.JPEG',\n  'val/images/val_1192.JPEG',\n  'val/images/val_1193.JPEG',\n  'val/images/val_1194.JPEG',\n  'val/images/val_1195.JPEG',\n  'val/images/val_1196.JPEG',\n  'val/images/val_1197.JPEG',\n  'val/images/val_1198.JPEG',\n  'val/images/val_1199.JPEG',\n  'val/images/val_12.JPEG',\n  'val/images/val_120.JPEG',\n  'val/images/val_1200.JPEG',\n  'val/images/val_1201.JPEG',\n  'val/images/val_1202.JPEG',\n  'val/images/val_1203.JPEG',\n  'val/images/val_1204.JPEG',\n  'val/images/val_1205.JPEG',\n  'val/images/val_1206.JPEG',\n  'val/images/val_1207.JPEG',\n  'val/images/val_1208.JPEG',\n  'val/images/val_1209.JPEG',\n  'val/images/val_121.JPEG',\n  'val/images/val_1210.JPEG',\n  'val/images/val_1211.JPEG',\n  'val/images/val_1212.JPEG',\n  'val/images/val_1213.JPEG',\n  'val/images/val_1214.JPEG',\n  'val/images/val_1215.JPEG',\n  'val/images/val_1216.JPEG',\n  'val/images/val_1217.JPEG',\n  'val/images/val_1218.JPEG',\n  'val/images/val_1219.JPEG',\n  'val/images/val_122.JPEG',\n  'val/images/val_1220.JPEG',\n  'val/images/val_1221.JPEG',\n  'val/images/val_1222.JPEG',\n  'val/images/val_1223.JPEG',\n  'val/images/val_1224.JPEG',\n  'val/images/val_1225.JPEG',\n  'val/images/val_1226.JPEG',\n  'val/images/val_1227.JPEG',\n  'val/images/val_1228.JPEG',\n  'val/images/val_1229.JPEG',\n  'val/images/val_123.JPEG',\n  'val/images/val_1230.JPEG',\n  'val/images/val_1231.JPEG',\n  'val/images/val_1232.JPEG',\n  'val/images/val_1233.JPEG',\n  'val/images/val_1234.JPEG',\n  'val/images/val_1235.JPEG',\n  'val/images/val_1236.JPEG',\n  'val/images/val_1237.JPEG',\n  'val/images/val_1238.JPEG',\n  'val/images/val_1239.JPEG',\n  'val/images/val_124.JPEG',\n  'val/images/val_1240.JPEG',\n  'val/images/val_1241.JPEG',\n  'val/images/val_1242.JPEG',\n  'val/images/val_1243.JPEG',\n  'val/images/val_1244.JPEG',\n  'val/images/val_1245.JPEG',\n  'val/images/val_1246.JPEG',\n  'val/images/val_1247.JPEG',\n  'val/images/val_1248.JPEG',\n  'val/images/val_1249.JPEG',\n  'val/images/val_125.JPEG',\n  'val/images/val_1250.JPEG',\n  'val/images/val_1251.JPEG',\n  'val/images/val_1252.JPEG',\n  'val/images/val_1253.JPEG',\n  'val/images/val_1254.JPEG',\n  'val/images/val_1255.JPEG',\n  'val/images/val_1256.JPEG',\n  'val/images/val_1257.JPEG',\n  'val/images/val_1258.JPEG',\n  'val/images/val_1259.JPEG',\n  'val/images/val_126.JPEG',\n  'val/images/val_1260.JPEG',\n  'val/images/val_1261.JPEG',\n  'val/images/val_1262.JPEG',\n  'val/images/val_1263.JPEG',\n  'val/images/val_1264.JPEG',\n  'val/images/val_1265.JPEG',\n  'val/images/val_1266.JPEG',\n  'val/images/val_1267.JPEG',\n  'val/images/val_1268.JPEG',\n  'val/images/val_1269.JPEG',\n  'val/images/val_127.JPEG',\n  'val/images/val_1270.JPEG',\n  'val/images/val_1271.JPEG',\n  'val/images/val_1272.JPEG',\n  'val/images/val_1273.JPEG',\n  'val/images/val_1274.JPEG',\n  'val/images/val_1275.JPEG',\n  'val/images/val_1276.JPEG',\n  'val/images/val_1277.JPEG',\n  'val/images/val_1278.JPEG',\n  'val/images/val_1279.JPEG',\n  'val/images/val_128.JPEG',\n  'val/images/val_1280.JPEG',\n  'val/images/val_1281.JPEG',\n  'val/images/val_1282.JPEG',\n  'val/images/val_1283.JPEG',\n  'val/images/val_1284.JPEG',\n  'val/images/val_1285.JPEG',\n  'val/images/val_1286.JPEG',\n  'val/images/val_1287.JPEG',\n  'val/images/val_1288.JPEG',\n  'val/images/val_1289.JPEG',\n  'val/images/val_129.JPEG',\n  'val/images/val_1290.JPEG',\n  'val/images/val_1291.JPEG',\n  'val/images/val_1292.JPEG',\n  'val/images/val_1293.JPEG',\n  'val/images/val_1294.JPEG',\n  'val/images/val_1295.JPEG',\n  'val/images/val_1296.JPEG',\n  'val/images/val_1297.JPEG',\n  'val/images/val_1298.JPEG',\n  'val/images/val_1299.JPEG',\n  'val/images/val_13.JPEG',\n  'val/images/val_130.JPEG',\n  'val/images/val_1300.JPEG',\n  'val/images/val_1301.JPEG',\n  'val/images/val_1302.JPEG',\n  'val/images/val_1303.JPEG',\n  'val/images/val_1304.JPEG',\n  'val/images/val_1305.JPEG',\n  'val/images/val_1306.JPEG',\n  'val/images/val_1307.JPEG',\n  'val/images/val_1308.JPEG',\n  'val/images/val_1309.JPEG',\n  'val/images/val_131.JPEG',\n  'val/images/val_1310.JPEG',\n  'val/images/val_1311.JPEG',\n  'val/images/val_1312.JPEG',\n  'val/images/val_1313.JPEG',\n  'val/images/val_1314.JPEG',\n  'val/images/val_1315.JPEG',\n  'val/images/val_1316.JPEG',\n  'val/images/val_1317.JPEG',\n  'val/images/val_1318.JPEG',\n  'val/images/val_1319.JPEG',\n  'val/images/val_132.JPEG',\n  'val/images/val_1320.JPEG',\n  'val/images/val_1321.JPEG',\n  'val/images/val_1322.JPEG',\n  'val/images/val_1323.JPEG',\n  'val/images/val_1324.JPEG',\n  'val/images/val_1325.JPEG',\n  'val/images/val_1326.JPEG',\n  'val/images/val_1327.JPEG',\n  'val/images/val_1328.JPEG',\n  'val/images/val_1329.JPEG',\n  'val/images/val_133.JPEG',\n  'val/images/val_1330.JPEG',\n  'val/images/val_1331.JPEG',\n  'val/images/val_1332.JPEG',\n  'val/images/val_1333.JPEG',\n  'val/images/val_1334.JPEG',\n  'val/images/val_1335.JPEG',\n  'val/images/val_1336.JPEG',\n  'val/images/val_1337.JPEG',\n  'val/images/val_1338.JPEG',\n  'val/images/val_1339.JPEG',\n  'val/images/val_134.JPEG',\n  'val/images/val_1340.JPEG',\n  'val/images/val_1341.JPEG',\n  'val/images/val_1342.JPEG',\n  'val/images/val_1343.JPEG',\n  'val/images/val_1344.JPEG',\n  'val/images/val_1345.JPEG',\n  'val/images/val_1346.JPEG',\n  'val/images/val_1347.JPEG',\n  'val/images/val_1348.JPEG',\n  'val/images/val_1349.JPEG',\n  'val/images/val_135.JPEG',\n  'val/images/val_1350.JPEG',\n  'val/images/val_1351.JPEG',\n  'val/images/val_1352.JPEG',\n  'val/images/val_1353.JPEG',\n  'val/images/val_1354.JPEG',\n  'val/images/val_1355.JPEG',\n  'val/images/val_1356.JPEG',\n  'val/images/val_1357.JPEG',\n  'val/images/val_1358.JPEG',\n  'val/images/val_1359.JPEG',\n  'val/images/val_136.JPEG',\n  'val/images/val_1360.JPEG',\n  'val/images/val_1361.JPEG',\n  'val/images/val_1362.JPEG',\n  'val/images/val_1363.JPEG',\n  'val/images/val_1364.JPEG',\n  'val/images/val_1365.JPEG',\n  'val/images/val_1366.JPEG',\n  'val/images/val_1367.JPEG',\n  'val/images/val_1368.JPEG',\n  'val/images/val_1369.JPEG',\n  'val/images/val_137.JPEG',\n  'val/images/val_1370.JPEG',\n  'val/images/val_1371.JPEG',\n  'val/images/val_1372.JPEG',\n  'val/images/val_1373.JPEG',\n  'val/images/val_1374.JPEG',\n  'val/images/val_1375.JPEG',\n  'val/images/val_1376.JPEG',\n  'val/images/val_1377.JPEG',\n  'val/images/val_1378.JPEG',\n  'val/images/val_1379.JPEG',\n  'val/images/val_138.JPEG',\n  'val/images/val_1380.JPEG',\n  'val/images/val_1381.JPEG',\n  'val/images/val_1382.JPEG',\n  'val/images/val_1383.JPEG',\n  'val/images/val_1384.JPEG',\n  'val/images/val_1385.JPEG',\n  'val/images/val_1386.JPEG',\n  'val/images/val_1387.JPEG',\n  'val/images/val_1388.JPEG',\n  'val/images/val_1389.JPEG',\n  'val/images/val_139.JPEG',\n  'val/images/val_1390.JPEG',\n  'val/images/val_1391.JPEG',\n  'val/images/val_1392.JPEG',\n  'val/images/val_1393.JPEG',\n  'val/images/val_1394.JPEG',\n  'val/images/val_1395.JPEG',\n  'val/images/val_1396.JPEG',\n  'val/images/val_1397.JPEG',\n  'val/images/val_1398.JPEG',\n  'val/images/val_1399.JPEG',\n  'val/images/val_14.JPEG',\n  'val/images/val_140.JPEG',\n  'val/images/val_1400.JPEG',\n  'val/images/val_1401.JPEG',\n  'val/images/val_1402.JPEG',\n  'val/images/val_1403.JPEG',\n  'val/images/val_1404.JPEG',\n  'val/images/val_1405.JPEG',\n  'val/images/val_1406.JPEG',\n  'val/images/val_1407.JPEG',\n  'val/images/val_1408.JPEG',\n  'val/images/val_1409.JPEG',\n  'val/images/val_141.JPEG',\n  'val/images/val_1410.JPEG',\n  'val/images/val_1411.JPEG',\n  'val/images/val_1412.JPEG',\n  'val/images/val_1413.JPEG',\n  'val/images/val_1414.JPEG',\n  'val/images/val_1415.JPEG',\n  'val/images/val_1416.JPEG',\n  'val/images/val_1417.JPEG',\n  'val/images/val_1418.JPEG',\n  'val/images/val_1419.JPEG',\n  'val/images/val_142.JPEG',\n  'val/images/val_1420.JPEG',\n  'val/images/val_1421.JPEG',\n  'val/images/val_1422.JPEG',\n  'val/images/val_1423.JPEG',\n  'val/images/val_1424.JPEG',\n  'val/images/val_1425.JPEG',\n  'val/images/val_1426.JPEG',\n  'val/images/val_1427.JPEG',\n  'val/images/val_1428.JPEG',\n  'val/images/val_1429.JPEG',\n  'val/images/val_143.JPEG',\n  'val/images/val_1430.JPEG',\n  'val/images/val_1431.JPEG',\n  'val/images/val_1432.JPEG',\n  'val/images/val_1433.JPEG',\n  'val/images/val_1434.JPEG',\n  'val/images/val_1435.JPEG',\n  'val/images/val_1436.JPEG',\n  'val/images/val_1437.JPEG',\n  'val/images/val_1438.JPEG',\n  'val/images/val_1439.JPEG',\n  'val/images/val_144.JPEG',\n  'val/images/val_1440.JPEG',\n  'val/images/val_1441.JPEG',\n  'val/images/val_1442.JPEG',\n  'val/images/val_1443.JPEG',\n  'val/images/val_1444.JPEG',\n  'val/images/val_1445.JPEG',\n  'val/images/val_1446.JPEG',\n  'val/images/val_1447.JPEG',\n  'val/images/val_1448.JPEG',\n  'val/images/val_1449.JPEG',\n  'val/images/val_145.JPEG',\n  'val/images/val_1450.JPEG',\n  'val/images/val_1451.JPEG',\n  'val/images/val_1452.JPEG',\n  'val/images/val_1453.JPEG',\n  'val/images/val_1454.JPEG',\n  'val/images/val_1455.JPEG',\n  'val/images/val_1456.JPEG',\n  'val/images/val_1457.JPEG',\n  'val/images/val_1458.JPEG',\n  'val/images/val_1459.JPEG',\n  'val/images/val_146.JPEG',\n  'val/images/val_1460.JPEG',\n  'val/images/val_1461.JPEG',\n  'val/images/val_1462.JPEG',\n  'val/images/val_1463.JPEG',\n  'val/images/val_1464.JPEG',\n  'val/images/val_1465.JPEG',\n  'val/images/val_1466.JPEG',\n  'val/images/val_1467.JPEG',\n  'val/images/val_1468.JPEG',\n  'val/images/val_1469.JPEG',\n  'val/images/val_147.JPEG',\n  'val/images/val_1470.JPEG',\n  'val/images/val_1471.JPEG',\n  'val/images/val_1472.JPEG',\n  'val/images/val_1473.JPEG',\n  'val/images/val_1474.JPEG',\n  'val/images/val_1475.JPEG',\n  'val/images/val_1476.JPEG',\n  'val/images/val_1477.JPEG',\n  'val/images/val_1478.JPEG',\n  'val/images/val_1479.JPEG',\n  'val/images/val_148.JPEG',\n  'val/images/val_1480.JPEG',\n  'val/images/val_1481.JPEG',\n  'val/images/val_1482.JPEG',\n  'val/images/val_1483.JPEG',\n  'val/images/val_1484.JPEG',\n  'val/images/val_1485.JPEG',\n  'val/images/val_1486.JPEG',\n  'val/images/val_1487.JPEG',\n  'val/images/val_1488.JPEG',\n  'val/images/val_1489.JPEG',\n  'val/images/val_149.JPEG',\n  'val/images/val_1490.JPEG',\n  'val/images/val_1491.JPEG',\n  'val/images/val_1492.JPEG',\n  'val/images/val_1493.JPEG',\n  'val/images/val_1494.JPEG',\n  'val/images/val_1495.JPEG',\n  'val/images/val_1496.JPEG',\n  'val/images/val_1497.JPEG',\n  'val/images/val_1498.JPEG',\n  'val/images/val_1499.JPEG',\n  'val/images/val_15.JPEG',\n  'val/images/val_150.JPEG',\n  'val/images/val_1500.JPEG',\n  'val/images/val_1501.JPEG',\n  'val/images/val_1502.JPEG',\n  'val/images/val_1503.JPEG',\n  'val/images/val_1504.JPEG',\n  'val/images/val_1505.JPEG',\n  'val/images/val_1506.JPEG',\n  'val/images/val_1507.JPEG',\n  'val/images/val_1508.JPEG',\n  'val/images/val_1509.JPEG',\n  'val/images/val_151.JPEG',\n  'val/images/val_1510.JPEG',\n  'val/images/val_1511.JPEG',\n  'val/images/val_1512.JPEG',\n  'val/images/val_1513.JPEG',\n  'val/images/val_1514.JPEG',\n  'val/images/val_1515.JPEG',\n  'val/images/val_1516.JPEG',\n  'val/images/val_1517.JPEG',\n  'val/images/val_1518.JPEG',\n  'val/images/val_1519.JPEG',\n  'val/images/val_152.JPEG',\n  'val/images/val_1520.JPEG',\n  'val/images/val_1521.JPEG',\n  'val/images/val_1522.JPEG',\n  'val/images/val_1523.JPEG',\n  'val/images/val_1524.JPEG',\n  'val/images/val_1525.JPEG',\n  'val/images/val_1526.JPEG',\n  'val/images/val_1527.JPEG',\n  'val/images/val_1528.JPEG',\n  'val/images/val_1529.JPEG',\n  'val/images/val_153.JPEG',\n  'val/images/val_1530.JPEG',\n  'val/images/val_1531.JPEG',\n  'val/images/val_1532.JPEG',\n  'val/images/val_1533.JPEG',\n  'val/images/val_1534.JPEG',\n  'val/images/val_1535.JPEG',\n  'val/images/val_1536.JPEG',\n  'val/images/val_1537.JPEG',\n  'val/images/val_1538.JPEG',\n  'val/images/val_1539.JPEG',\n  'val/images/val_154.JPEG',\n  'val/images/val_1540.JPEG',\n  'val/images/val_1541.JPEG',\n  'val/images/val_1542.JPEG',\n  'val/images/val_1543.JPEG',\n  'val/images/val_1544.JPEG',\n  'val/images/val_1545.JPEG',\n  'val/images/val_1546.JPEG',\n  'val/images/val_1547.JPEG',\n  'val/images/val_1548.JPEG',\n  'val/images/val_1549.JPEG',\n  'val/images/val_155.JPEG',\n  'val/images/val_1550.JPEG',\n  'val/images/val_1551.JPEG',\n  'val/images/val_1552.JPEG',\n  'val/images/val_1553.JPEG',\n  'val/images/val_1554.JPEG',\n  'val/images/val_1555.JPEG',\n  'val/images/val_1556.JPEG',\n  'val/images/val_1557.JPEG',\n  'val/images/val_1558.JPEG',\n  'val/images/val_1559.JPEG',\n  'val/images/val_156.JPEG',\n  'val/images/val_1560.JPEG',\n  'val/images/val_1561.JPEG',\n  'val/images/val_1562.JPEG',\n  'val/images/val_1563.JPEG',\n  'val/images/val_1564.JPEG',\n  'val/images/val_1565.JPEG',\n  'val/images/val_1566.JPEG',\n  'val/images/val_1567.JPEG',\n  'val/images/val_1568.JPEG',\n  'val/images/val_1569.JPEG',\n  'val/images/val_157.JPEG',\n  'val/images/val_1570.JPEG',\n  'val/images/val_1571.JPEG',\n  'val/images/val_1572.JPEG',\n  'val/images/val_1573.JPEG',\n  'val/images/val_1574.JPEG',\n  'val/images/val_1575.JPEG',\n  'val/images/val_1576.JPEG',\n  'val/images/val_1577.JPEG',\n  'val/images/val_1578.JPEG',\n  'val/images/val_1579.JPEG',\n  'val/images/val_158.JPEG',\n  'val/images/val_1580.JPEG',\n  'val/images/val_1581.JPEG',\n  'val/images/val_1582.JPEG',\n  'val/images/val_1583.JPEG',\n  'val/images/val_1584.JPEG',\n  'val/images/val_1585.JPEG',\n  'val/images/val_1586.JPEG',\n  'val/images/val_1587.JPEG',\n  'val/images/val_1588.JPEG',\n  'val/images/val_1589.JPEG',\n  'val/images/val_159.JPEG',\n  'val/images/val_1590.JPEG',\n  'val/images/val_1591.JPEG',\n  'val/images/val_1592.JPEG',\n  'val/images/val_1593.JPEG',\n  'val/images/val_1594.JPEG',\n  'val/images/val_1595.JPEG',\n  'val/images/val_1596.JPEG',\n  'val/images/val_1597.JPEG',\n  'val/images/val_1598.JPEG',\n  'val/images/val_1599.JPEG',\n  'val/images/val_16.JPEG',\n  'val/images/val_160.JPEG',\n  'val/images/val_1600.JPEG',\n  'val/images/val_1601.JPEG',\n  'val/images/val_1602.JPEG',\n  'val/images/val_1603.JPEG',\n  'val/images/val_1604.JPEG',\n  'val/images/val_1605.JPEG',\n  'val/images/val_1606.JPEG',\n  'val/images/val_1607.JPEG',\n  'val/images/val_1608.JPEG',\n  'val/images/val_1609.JPEG',\n  'val/images/val_161.JPEG',\n  'val/images/val_1610.JPEG',\n  'val/images/val_1611.JPEG',\n  'val/images/val_1612.JPEG',\n  'val/images/val_1613.JPEG',\n  'val/images/val_1614.JPEG',\n  'val/images/val_1615.JPEG',\n  'val/images/val_1616.JPEG',\n  'val/images/val_1617.JPEG',\n  'val/images/val_1618.JPEG',\n  'val/images/val_1619.JPEG',\n  'val/images/val_162.JPEG',\n  'val/images/val_1620.JPEG',\n  'val/images/val_1621.JPEG',\n  'val/images/val_1622.JPEG',\n  'val/images/val_1623.JPEG',\n  'val/images/val_1624.JPEG',\n  'val/images/val_1625.JPEG',\n  'val/images/val_1626.JPEG',\n  'val/images/val_1627.JPEG',\n  'val/images/val_1628.JPEG',\n  'val/images/val_1629.JPEG',\n  'val/images/val_163.JPEG',\n  'val/images/val_1630.JPEG',\n  'val/images/val_1631.JPEG',\n  'val/images/val_1632.JPEG',\n  'val/images/val_1633.JPEG',\n  'val/images/val_1634.JPEG',\n  'val/images/val_1635.JPEG',\n  'val/images/val_1636.JPEG',\n  'val/images/val_1637.JPEG',\n  'val/images/val_1638.JPEG',\n  'val/images/val_1639.JPEG',\n  'val/images/val_164.JPEG',\n  'val/images/val_1640.JPEG',\n  'val/images/val_1641.JPEG',\n  'val/images/val_1642.JPEG',\n  'val/images/val_1643.JPEG',\n  'val/images/val_1644.JPEG',\n  'val/images/val_1645.JPEG',\n  'val/images/val_1646.JPEG',\n  'val/images/val_1647.JPEG',\n  'val/images/val_1648.JPEG',\n  'val/images/val_1649.JPEG',\n  'val/images/val_165.JPEG',\n  'val/images/val_1650.JPEG',\n  'val/images/val_1651.JPEG',\n  'val/images/val_1652.JPEG',\n  'val/images/val_1653.JPEG',\n  'val/images/val_1654.JPEG',\n  'val/images/val_1655.JPEG',\n  'val/images/val_1656.JPEG',\n  'val/images/val_1657.JPEG',\n  'val/images/val_1658.JPEG',\n  'val/images/val_1659.JPEG',\n  'val/images/val_166.JPEG',\n  'val/images/val_1660.JPEG',\n  'val/images/val_1661.JPEG',\n  'val/images/val_1662.JPEG',\n  'val/images/val_1663.JPEG',\n  'val/images/val_1664.JPEG',\n  'val/images/val_1665.JPEG',\n  'val/images/val_1666.JPEG',\n  'val/images/val_1667.JPEG',\n  'val/images/val_1668.JPEG',\n  'val/images/val_1669.JPEG',\n  'val/images/val_167.JPEG',\n  'val/images/val_1670.JPEG',\n  'val/images/val_1671.JPEG',\n  'val/images/val_1672.JPEG',\n  'val/images/val_1673.JPEG',\n  'val/images/val_1674.JPEG',\n  'val/images/val_1675.JPEG',\n  'val/images/val_1676.JPEG',\n  'val/images/val_1677.JPEG',\n  'val/images/val_1678.JPEG',\n  'val/images/val_1679.JPEG',\n  'val/images/val_168.JPEG',\n  'val/images/val_1680.JPEG',\n  'val/images/val_1681.JPEG',\n  'val/images/val_1682.JPEG',\n  'val/images/val_1683.JPEG',\n  'val/images/val_1684.JPEG',\n  'val/images/val_1685.JPEG',\n  'val/images/val_1686.JPEG',\n  'val/images/val_1687.JPEG',\n  'val/images/val_1688.JPEG',\n  'val/images/val_1689.JPEG',\n  'val/images/val_169.JPEG',\n  'val/images/val_1690.JPEG',\n  'val/images/val_1691.JPEG',\n  'val/images/val_1692.JPEG',\n  'val/images/val_1693.JPEG',\n  'val/images/val_1694.JPEG',\n  'val/images/val_1695.JPEG',\n  'val/images/val_1696.JPEG',\n  'val/images/val_1697.JPEG',\n  'val/images/val_1698.JPEG',\n  'val/images/val_1699.JPEG',\n  'val/images/val_17.JPEG',\n  'val/images/val_170.JPEG',\n  'val/images/val_1700.JPEG',\n  'val/images/val_1701.JPEG',\n  'val/images/val_1702.JPEG',\n  'val/images/val_1703.JPEG',\n  'val/images/val_1704.JPEG',\n  'val/images/val_1705.JPEG',\n  'val/images/val_1706.JPEG',\n  'val/images/val_1707.JPEG',\n  'val/images/val_1708.JPEG',\n  'val/images/val_1709.JPEG',\n  'val/images/val_171.JPEG',\n  'val/images/val_1710.JPEG',\n  'val/images/val_1711.JPEG',\n  'val/images/val_1712.JPEG',\n  'val/images/val_1713.JPEG',\n  'val/images/val_1714.JPEG',\n  'val/images/val_1715.JPEG',\n  'val/images/val_1716.JPEG',\n  'val/images/val_1717.JPEG',\n  'val/images/val_1718.JPEG',\n  'val/images/val_1719.JPEG',\n  'val/images/val_172.JPEG',\n  'val/images/val_1720.JPEG',\n  'val/images/val_1721.JPEG',\n  'val/images/val_1722.JPEG',\n  'val/images/val_1723.JPEG',\n  'val/images/val_1724.JPEG',\n  'val/images/val_1725.JPEG',\n  'val/images/val_1726.JPEG',\n  'val/images/val_1727.JPEG',\n  'val/images/val_1728.JPEG',\n  'val/images/val_1729.JPEG',\n  'val/images/val_173.JPEG',\n  'val/images/val_1730.JPEG',\n  'val/images/val_1731.JPEG',\n  'val/images/val_1732.JPEG',\n  'val/images/val_1733.JPEG',\n  'val/images/val_1734.JPEG',\n  'val/images/val_1735.JPEG',\n  'val/images/val_1736.JPEG',\n  'val/images/val_1737.JPEG',\n  'val/images/val_1738.JPEG',\n  'val/images/val_1739.JPEG',\n  'val/images/val_174.JPEG',\n  'val/images/val_1740.JPEG',\n  'val/images/val_1741.JPEG',\n  'val/images/val_1742.JPEG',\n  'val/images/val_1743.JPEG',\n  'val/images/val_1744.JPEG',\n  'val/images/val_1745.JPEG',\n  'val/images/val_1746.JPEG',\n  'val/images/val_1747.JPEG',\n  'val/images/val_1748.JPEG',\n  'val/images/val_1749.JPEG',\n  'val/images/val_175.JPEG',\n  'val/images/val_1750.JPEG',\n  'val/images/val_1751.JPEG',\n  'val/images/val_1752.JPEG',\n  'val/images/val_1753.JPEG',\n  'val/images/val_1754.JPEG',\n  'val/images/val_1755.JPEG',\n  'val/images/val_1756.JPEG',\n  'val/images/val_1757.JPEG',\n  'val/images/val_1758.JPEG',\n  'val/images/val_1759.JPEG',\n  'val/images/val_176.JPEG',\n  'val/images/val_1760.JPEG',\n  'val/images/val_1761.JPEG',\n  'val/images/val_1762.JPEG',\n  'val/images/val_1763.JPEG',\n  'val/images/val_1764.JPEG',\n  'val/images/val_1765.JPEG',\n  'val/images/val_1766.JPEG',\n  'val/images/val_1767.JPEG',\n  'val/images/val_1768.JPEG',\n  'val/images/val_1769.JPEG',\n  'val/images/val_177.JPEG',\n  'val/images/val_1770.JPEG',\n  'val/images/val_1771.JPEG',\n  'val/images/val_1772.JPEG',\n  'val/images/val_1773.JPEG',\n  'val/images/val_1774.JPEG',\n  'val/images/val_1775.JPEG',\n  'val/images/val_1776.JPEG',\n  'val/images/val_1777.JPEG',\n  'val/images/val_1778.JPEG',\n  'val/images/val_1779.JPEG',\n  'val/images/val_178.JPEG',\n  'val/images/val_1780.JPEG',\n  'val/images/val_1781.JPEG',\n  'val/images/val_1782.JPEG',\n  'val/images/val_1783.JPEG',\n  'val/images/val_1784.JPEG',\n  'val/images/val_1785.JPEG',\n  'val/images/val_1786.JPEG',\n  'val/images/val_1787.JPEG',\n  'val/images/val_1788.JPEG',\n  'val/images/val_1789.JPEG',\n  'val/images/val_179.JPEG',\n  'val/images/val_1790.JPEG',\n  'val/images/val_1791.JPEG',\n  'val/images/val_1792.JPEG',\n  'val/images/val_1793.JPEG',\n  'val/images/val_1794.JPEG',\n  'val/images/val_1795.JPEG',\n  'val/images/val_1796.JPEG',\n  'val/images/val_1797.JPEG',\n  'val/images/val_1798.JPEG',\n  'val/images/val_1799.JPEG',\n  'val/images/val_18.JPEG',\n  'val/images/val_180.JPEG',\n  'val/images/val_1800.JPEG',\n  'val/images/val_1801.JPEG',\n  'val/images/val_1802.JPEG',\n  'val/images/val_1803.JPEG',\n  'val/images/val_1804.JPEG',\n  'val/images/val_1805.JPEG',\n  'val/images/val_1806.JPEG',\n  'val/images/val_1807.JPEG',\n  'val/images/val_1808.JPEG',\n  'val/images/val_1809.JPEG',\n  'val/images/val_181.JPEG',\n  'val/images/val_1810.JPEG',\n  'val/images/val_1811.JPEG',\n  'val/images/val_1812.JPEG',\n  'val/images/val_1813.JPEG',\n  'val/images/val_1814.JPEG',\n  'val/images/val_1815.JPEG',\n  'val/images/val_1816.JPEG',\n  'val/images/val_1817.JPEG',\n  'val/images/val_1818.JPEG',\n  'val/images/val_1819.JPEG',\n  'val/images/val_182.JPEG',\n  'val/images/val_1820.JPEG',\n  'val/images/val_1821.JPEG',\n  'val/images/val_1822.JPEG',\n  'val/images/val_1823.JPEG',\n  'val/images/val_1824.JPEG',\n  'val/images/val_1825.JPEG',\n  'val/images/val_1826.JPEG',\n  'val/images/val_1827.JPEG',\n  'val/images/val_1828.JPEG',\n  'val/images/val_1829.JPEG',\n  'val/images/val_183.JPEG',\n  'val/images/val_1830.JPEG',\n  'val/images/val_1831.JPEG',\n  'val/images/val_1832.JPEG',\n  'val/images/val_1833.JPEG',\n  'val/images/val_1834.JPEG',\n  'val/images/val_1835.JPEG',\n  'val/images/val_1836.JPEG',\n  'val/images/val_1837.JPEG',\n  'val/images/val_1838.JPEG',\n  'val/images/val_1839.JPEG',\n  'val/images/val_184.JPEG',\n  'val/images/val_1840.JPEG',\n  'val/images/val_1841.JPEG',\n  'val/images/val_1842.JPEG',\n  'val/images/val_1843.JPEG',\n  'val/images/val_1844.JPEG',\n  'val/images/val_1845.JPEG',\n  'val/images/val_1846.JPEG',\n  'val/images/val_1847.JPEG',\n  'val/images/val_1848.JPEG',\n  'val/images/val_1849.JPEG',\n  'val/images/val_185.JPEG',\n  'val/images/val_1850.JPEG',\n  'val/images/val_1851.JPEG',\n  'val/images/val_1852.JPEG',\n  'val/images/val_1853.JPEG',\n  'val/images/val_1854.JPEG',\n  'val/images/val_1855.JPEG',\n  'val/images/val_1856.JPEG',\n  'val/images/val_1857.JPEG',\n  'val/images/val_1858.JPEG',\n  'val/images/val_1859.JPEG',\n  'val/images/val_186.JPEG',\n  'val/images/val_1860.JPEG',\n  'val/images/val_1861.JPEG',\n  'val/images/val_1862.JPEG',\n  'val/images/val_1863.JPEG',\n  'val/images/val_1864.JPEG',\n  'val/images/val_1865.JPEG',\n  'val/images/val_1866.JPEG',\n  'val/images/val_1867.JPEG',\n  'val/images/val_1868.JPEG',\n  'val/images/val_1869.JPEG',\n  'val/images/val_187.JPEG',\n  'val/images/val_1870.JPEG',\n  'val/images/val_1871.JPEG',\n  'val/images/val_1872.JPEG',\n  'val/images/val_1873.JPEG',\n  'val/images/val_1874.JPEG',\n  'val/images/val_1875.JPEG',\n  'val/images/val_1876.JPEG',\n  'val/images/val_1877.JPEG',\n  'val/images/val_1878.JPEG',\n  'val/images/val_1879.JPEG',\n  'val/images/val_188.JPEG',\n  'val/images/val_1880.JPEG',\n  'val/images/val_1881.JPEG',\n  'val/images/val_1882.JPEG',\n  'val/images/val_1883.JPEG',\n  'val/images/val_1884.JPEG',\n  'val/images/val_1885.JPEG',\n  'val/images/val_1886.JPEG',\n  'val/images/val_1887.JPEG',\n  'val/images/val_1888.JPEG',\n  'val/images/val_1889.JPEG',\n  'val/images/val_189.JPEG',\n  'val/images/val_1890.JPEG',\n  'val/images/val_1891.JPEG',\n  'val/images/val_1892.JPEG',\n  'val/images/val_1893.JPEG',\n  'val/images/val_1894.JPEG',\n  'val/images/val_1895.JPEG',\n  'val/images/val_1896.JPEG',\n  'val/images/val_1897.JPEG',\n  'val/images/val_1898.JPEG',\n  ...],\n 'fnames_test': ['test/images/test_0.JPEG',\n  'test/images/test_1.JPEG',\n  'test/images/test_10.JPEG',\n  'test/images/test_100.JPEG',\n  'test/images/test_1000.JPEG',\n  'test/images/test_1001.JPEG',\n  'test/images/test_1002.JPEG',\n  'test/images/test_1003.JPEG',\n  'test/images/test_1004.JPEG',\n  'test/images/test_1005.JPEG',\n  'test/images/test_1006.JPEG',\n  'test/images/test_1007.JPEG',\n  'test/images/test_1008.JPEG',\n  'test/images/test_1009.JPEG',\n  'test/images/test_101.JPEG',\n  'test/images/test_1010.JPEG',\n  'test/images/test_1011.JPEG',\n  'test/images/test_1012.JPEG',\n  'test/images/test_1013.JPEG',\n  'test/images/test_1014.JPEG',\n  'test/images/test_1015.JPEG',\n  'test/images/test_1016.JPEG',\n  'test/images/test_1017.JPEG',\n  'test/images/test_1018.JPEG',\n  'test/images/test_1019.JPEG',\n  'test/images/test_102.JPEG',\n  'test/images/test_1020.JPEG',\n  'test/images/test_1021.JPEG',\n  'test/images/test_1022.JPEG',\n  'test/images/test_1023.JPEG',\n  'test/images/test_1024.JPEG',\n  'test/images/test_1025.JPEG',\n  'test/images/test_1026.JPEG',\n  'test/images/test_1027.JPEG',\n  'test/images/test_1028.JPEG',\n  'test/images/test_1029.JPEG',\n  'test/images/test_103.JPEG',\n  'test/images/test_1030.JPEG',\n  'test/images/test_1031.JPEG',\n  'test/images/test_1032.JPEG',\n  'test/images/test_1033.JPEG',\n  'test/images/test_1034.JPEG',\n  'test/images/test_1035.JPEG',\n  'test/images/test_1036.JPEG',\n  'test/images/test_1037.JPEG',\n  'test/images/test_1038.JPEG',\n  'test/images/test_1039.JPEG',\n  'test/images/test_104.JPEG',\n  'test/images/test_1040.JPEG',\n  'test/images/test_1041.JPEG',\n  'test/images/test_1042.JPEG',\n  'test/images/test_1043.JPEG',\n  'test/images/test_1044.JPEG',\n  'test/images/test_1045.JPEG',\n  'test/images/test_1046.JPEG',\n  'test/images/test_1047.JPEG',\n  'test/images/test_1048.JPEG',\n  'test/images/test_1049.JPEG',\n  'test/images/test_105.JPEG',\n  'test/images/test_1050.JPEG',\n  'test/images/test_1051.JPEG',\n  'test/images/test_1052.JPEG',\n  'test/images/test_1053.JPEG',\n  'test/images/test_1054.JPEG',\n  'test/images/test_1055.JPEG',\n  'test/images/test_1056.JPEG',\n  'test/images/test_1057.JPEG',\n  'test/images/test_1058.JPEG',\n  'test/images/test_1059.JPEG',\n  'test/images/test_106.JPEG',\n  'test/images/test_1060.JPEG',\n  'test/images/test_1061.JPEG',\n  'test/images/test_1062.JPEG',\n  'test/images/test_1063.JPEG',\n  'test/images/test_1064.JPEG',\n  'test/images/test_1065.JPEG',\n  'test/images/test_1066.JPEG',\n  'test/images/test_1067.JPEG',\n  'test/images/test_1068.JPEG',\n  'test/images/test_1069.JPEG',\n  'test/images/test_107.JPEG',\n  'test/images/test_1070.JPEG',\n  'test/images/test_1071.JPEG',\n  'test/images/test_1072.JPEG',\n  'test/images/test_1073.JPEG',\n  'test/images/test_1074.JPEG',\n  'test/images/test_1075.JPEG',\n  'test/images/test_1076.JPEG',\n  'test/images/test_1077.JPEG',\n  'test/images/test_1078.JPEG',\n  'test/images/test_1079.JPEG',\n  'test/images/test_108.JPEG',\n  'test/images/test_1080.JPEG',\n  'test/images/test_1081.JPEG',\n  'test/images/test_1082.JPEG',\n  'test/images/test_1083.JPEG',\n  'test/images/test_1084.JPEG',\n  'test/images/test_1085.JPEG',\n  'test/images/test_1086.JPEG',\n  'test/images/test_1087.JPEG',\n  'test/images/test_1088.JPEG',\n  'test/images/test_1089.JPEG',\n  'test/images/test_109.JPEG',\n  'test/images/test_1090.JPEG',\n  'test/images/test_1091.JPEG',\n  'test/images/test_1092.JPEG',\n  'test/images/test_1093.JPEG',\n  'test/images/test_1094.JPEG',\n  'test/images/test_1095.JPEG',\n  'test/images/test_1096.JPEG',\n  'test/images/test_1097.JPEG',\n  'test/images/test_1098.JPEG',\n  'test/images/test_1099.JPEG',\n  'test/images/test_11.JPEG',\n  'test/images/test_110.JPEG',\n  'test/images/test_1100.JPEG',\n  'test/images/test_1101.JPEG',\n  'test/images/test_1102.JPEG',\n  'test/images/test_1103.JPEG',\n  'test/images/test_1104.JPEG',\n  'test/images/test_1105.JPEG',\n  'test/images/test_1106.JPEG',\n  'test/images/test_1107.JPEG',\n  'test/images/test_1108.JPEG',\n  'test/images/test_1109.JPEG',\n  'test/images/test_111.JPEG',\n  'test/images/test_1110.JPEG',\n  'test/images/test_1111.JPEG',\n  'test/images/test_1112.JPEG',\n  'test/images/test_1113.JPEG',\n  'test/images/test_1114.JPEG',\n  'test/images/test_1115.JPEG',\n  'test/images/test_1116.JPEG',\n  'test/images/test_1117.JPEG',\n  'test/images/test_1118.JPEG',\n  'test/images/test_1119.JPEG',\n  'test/images/test_112.JPEG',\n  'test/images/test_1120.JPEG',\n  'test/images/test_1121.JPEG',\n  'test/images/test_1122.JPEG',\n  'test/images/test_1123.JPEG',\n  'test/images/test_1124.JPEG',\n  'test/images/test_1125.JPEG',\n  'test/images/test_1126.JPEG',\n  'test/images/test_1127.JPEG',\n  'test/images/test_1128.JPEG',\n  'test/images/test_1129.JPEG',\n  'test/images/test_113.JPEG',\n  'test/images/test_1130.JPEG',\n  'test/images/test_1131.JPEG',\n  'test/images/test_1132.JPEG',\n  'test/images/test_1133.JPEG',\n  'test/images/test_1134.JPEG',\n  'test/images/test_1135.JPEG',\n  'test/images/test_1136.JPEG',\n  'test/images/test_1137.JPEG',\n  'test/images/test_1138.JPEG',\n  'test/images/test_1139.JPEG',\n  'test/images/test_114.JPEG',\n  'test/images/test_1140.JPEG',\n  'test/images/test_1141.JPEG',\n  'test/images/test_1142.JPEG',\n  'test/images/test_1143.JPEG',\n  'test/images/test_1144.JPEG',\n  'test/images/test_1145.JPEG',\n  'test/images/test_1146.JPEG',\n  'test/images/test_1147.JPEG',\n  'test/images/test_1148.JPEG',\n  'test/images/test_1149.JPEG',\n  'test/images/test_115.JPEG',\n  'test/images/test_1150.JPEG',\n  'test/images/test_1151.JPEG',\n  'test/images/test_1152.JPEG',\n  'test/images/test_1153.JPEG',\n  'test/images/test_1154.JPEG',\n  'test/images/test_1155.JPEG',\n  'test/images/test_1156.JPEG',\n  'test/images/test_1157.JPEG',\n  'test/images/test_1158.JPEG',\n  'test/images/test_1159.JPEG',\n  'test/images/test_116.JPEG',\n  'test/images/test_1160.JPEG',\n  'test/images/test_1161.JPEG',\n  'test/images/test_1162.JPEG',\n  'test/images/test_1163.JPEG',\n  'test/images/test_1164.JPEG',\n  'test/images/test_1165.JPEG',\n  'test/images/test_1166.JPEG',\n  'test/images/test_1167.JPEG',\n  'test/images/test_1168.JPEG',\n  'test/images/test_1169.JPEG',\n  'test/images/test_117.JPEG',\n  'test/images/test_1170.JPEG',\n  'test/images/test_1171.JPEG',\n  'test/images/test_1172.JPEG',\n  'test/images/test_1173.JPEG',\n  'test/images/test_1174.JPEG',\n  'test/images/test_1175.JPEG',\n  'test/images/test_1176.JPEG',\n  'test/images/test_1177.JPEG',\n  'test/images/test_1178.JPEG',\n  'test/images/test_1179.JPEG',\n  'test/images/test_118.JPEG',\n  'test/images/test_1180.JPEG',\n  'test/images/test_1181.JPEG',\n  'test/images/test_1182.JPEG',\n  'test/images/test_1183.JPEG',\n  'test/images/test_1184.JPEG',\n  'test/images/test_1185.JPEG',\n  'test/images/test_1186.JPEG',\n  'test/images/test_1187.JPEG',\n  'test/images/test_1188.JPEG',\n  'test/images/test_1189.JPEG',\n  'test/images/test_119.JPEG',\n  'test/images/test_1190.JPEG',\n  'test/images/test_1191.JPEG',\n  'test/images/test_1192.JPEG',\n  'test/images/test_1193.JPEG',\n  'test/images/test_1194.JPEG',\n  'test/images/test_1195.JPEG',\n  'test/images/test_1196.JPEG',\n  'test/images/test_1197.JPEG',\n  'test/images/test_1198.JPEG',\n  'test/images/test_1199.JPEG',\n  'test/images/test_12.JPEG',\n  'test/images/test_120.JPEG',\n  'test/images/test_1200.JPEG',\n  'test/images/test_1201.JPEG',\n  'test/images/test_1202.JPEG',\n  'test/images/test_1203.JPEG',\n  'test/images/test_1204.JPEG',\n  'test/images/test_1205.JPEG',\n  'test/images/test_1206.JPEG',\n  'test/images/test_1207.JPEG',\n  'test/images/test_1208.JPEG',\n  'test/images/test_1209.JPEG',\n  'test/images/test_121.JPEG',\n  'test/images/test_1210.JPEG',\n  'test/images/test_1211.JPEG',\n  'test/images/test_1212.JPEG',\n  'test/images/test_1213.JPEG',\n  'test/images/test_1214.JPEG',\n  'test/images/test_1215.JPEG',\n  'test/images/test_1216.JPEG',\n  'test/images/test_1217.JPEG',\n  'test/images/test_1218.JPEG',\n  'test/images/test_1219.JPEG',\n  'test/images/test_122.JPEG',\n  'test/images/test_1220.JPEG',\n  'test/images/test_1221.JPEG',\n  'test/images/test_1222.JPEG',\n  'test/images/test_1223.JPEG',\n  'test/images/test_1224.JPEG',\n  'test/images/test_1225.JPEG',\n  'test/images/test_1226.JPEG',\n  'test/images/test_1227.JPEG',\n  'test/images/test_1228.JPEG',\n  'test/images/test_1229.JPEG',\n  'test/images/test_123.JPEG',\n  'test/images/test_1230.JPEG',\n  'test/images/test_1231.JPEG',\n  'test/images/test_1232.JPEG',\n  'test/images/test_1233.JPEG',\n  'test/images/test_1234.JPEG',\n  'test/images/test_1235.JPEG',\n  'test/images/test_1236.JPEG',\n  'test/images/test_1237.JPEG',\n  'test/images/test_1238.JPEG',\n  'test/images/test_1239.JPEG',\n  'test/images/test_124.JPEG',\n  'test/images/test_1240.JPEG',\n  'test/images/test_1241.JPEG',\n  'test/images/test_1242.JPEG',\n  'test/images/test_1243.JPEG',\n  'test/images/test_1244.JPEG',\n  'test/images/test_1245.JPEG',\n  'test/images/test_1246.JPEG',\n  'test/images/test_1247.JPEG',\n  'test/images/test_1248.JPEG',\n  'test/images/test_1249.JPEG',\n  'test/images/test_125.JPEG',\n  'test/images/test_1250.JPEG',\n  'test/images/test_1251.JPEG',\n  'test/images/test_1252.JPEG',\n  'test/images/test_1253.JPEG',\n  'test/images/test_1254.JPEG',\n  'test/images/test_1255.JPEG',\n  'test/images/test_1256.JPEG',\n  'test/images/test_1257.JPEG',\n  'test/images/test_1258.JPEG',\n  'test/images/test_1259.JPEG',\n  'test/images/test_126.JPEG',\n  'test/images/test_1260.JPEG',\n  'test/images/test_1261.JPEG',\n  'test/images/test_1262.JPEG',\n  'test/images/test_1263.JPEG',\n  'test/images/test_1264.JPEG',\n  'test/images/test_1265.JPEG',\n  'test/images/test_1266.JPEG',\n  'test/images/test_1267.JPEG',\n  'test/images/test_1268.JPEG',\n  'test/images/test_1269.JPEG',\n  'test/images/test_127.JPEG',\n  'test/images/test_1270.JPEG',\n  'test/images/test_1271.JPEG',\n  'test/images/test_1272.JPEG',\n  'test/images/test_1273.JPEG',\n  'test/images/test_1274.JPEG',\n  'test/images/test_1275.JPEG',\n  'test/images/test_1276.JPEG',\n  'test/images/test_1277.JPEG',\n  'test/images/test_1278.JPEG',\n  'test/images/test_1279.JPEG',\n  'test/images/test_128.JPEG',\n  'test/images/test_1280.JPEG',\n  'test/images/test_1281.JPEG',\n  'test/images/test_1282.JPEG',\n  'test/images/test_1283.JPEG',\n  'test/images/test_1284.JPEG',\n  'test/images/test_1285.JPEG',\n  'test/images/test_1286.JPEG',\n  'test/images/test_1287.JPEG',\n  'test/images/test_1288.JPEG',\n  'test/images/test_1289.JPEG',\n  'test/images/test_129.JPEG',\n  'test/images/test_1290.JPEG',\n  'test/images/test_1291.JPEG',\n  'test/images/test_1292.JPEG',\n  'test/images/test_1293.JPEG',\n  'test/images/test_1294.JPEG',\n  'test/images/test_1295.JPEG',\n  'test/images/test_1296.JPEG',\n  'test/images/test_1297.JPEG',\n  'test/images/test_1298.JPEG',\n  'test/images/test_1299.JPEG',\n  'test/images/test_13.JPEG',\n  'test/images/test_130.JPEG',\n  'test/images/test_1300.JPEG',\n  'test/images/test_1301.JPEG',\n  'test/images/test_1302.JPEG',\n  'test/images/test_1303.JPEG',\n  'test/images/test_1304.JPEG',\n  'test/images/test_1305.JPEG',\n  'test/images/test_1306.JPEG',\n  'test/images/test_1307.JPEG',\n  'test/images/test_1308.JPEG',\n  'test/images/test_1309.JPEG',\n  'test/images/test_131.JPEG',\n  'test/images/test_1310.JPEG',\n  'test/images/test_1311.JPEG',\n  'test/images/test_1312.JPEG',\n  'test/images/test_1313.JPEG',\n  'test/images/test_1314.JPEG',\n  'test/images/test_1315.JPEG',\n  'test/images/test_1316.JPEG',\n  'test/images/test_1317.JPEG',\n  'test/images/test_1318.JPEG',\n  'test/images/test_1319.JPEG',\n  'test/images/test_132.JPEG',\n  'test/images/test_1320.JPEG',\n  'test/images/test_1321.JPEG',\n  'test/images/test_1322.JPEG',\n  'test/images/test_1323.JPEG',\n  'test/images/test_1324.JPEG',\n  'test/images/test_1325.JPEG',\n  'test/images/test_1326.JPEG',\n  'test/images/test_1327.JPEG',\n  'test/images/test_1328.JPEG',\n  'test/images/test_1329.JPEG',\n  'test/images/test_133.JPEG',\n  'test/images/test_1330.JPEG',\n  'test/images/test_1331.JPEG',\n  'test/images/test_1332.JPEG',\n  'test/images/test_1333.JPEG',\n  'test/images/test_1334.JPEG',\n  'test/images/test_1335.JPEG',\n  'test/images/test_1336.JPEG',\n  'test/images/test_1337.JPEG',\n  'test/images/test_1338.JPEG',\n  'test/images/test_1339.JPEG',\n  'test/images/test_134.JPEG',\n  'test/images/test_1340.JPEG',\n  'test/images/test_1341.JPEG',\n  'test/images/test_1342.JPEG',\n  'test/images/test_1343.JPEG',\n  'test/images/test_1344.JPEG',\n  'test/images/test_1345.JPEG',\n  'test/images/test_1346.JPEG',\n  'test/images/test_1347.JPEG',\n  'test/images/test_1348.JPEG',\n  'test/images/test_1349.JPEG',\n  'test/images/test_135.JPEG',\n  'test/images/test_1350.JPEG',\n  'test/images/test_1351.JPEG',\n  'test/images/test_1352.JPEG',\n  'test/images/test_1353.JPEG',\n  'test/images/test_1354.JPEG',\n  'test/images/test_1355.JPEG',\n  'test/images/test_1356.JPEG',\n  'test/images/test_1357.JPEG',\n  'test/images/test_1358.JPEG',\n  'test/images/test_1359.JPEG',\n  'test/images/test_136.JPEG',\n  'test/images/test_1360.JPEG',\n  'test/images/test_1361.JPEG',\n  'test/images/test_1362.JPEG',\n  'test/images/test_1363.JPEG',\n  'test/images/test_1364.JPEG',\n  'test/images/test_1365.JPEG',\n  'test/images/test_1366.JPEG',\n  'test/images/test_1367.JPEG',\n  'test/images/test_1368.JPEG',\n  'test/images/test_1369.JPEG',\n  'test/images/test_137.JPEG',\n  'test/images/test_1370.JPEG',\n  'test/images/test_1371.JPEG',\n  'test/images/test_1372.JPEG',\n  'test/images/test_1373.JPEG',\n  'test/images/test_1374.JPEG',\n  'test/images/test_1375.JPEG',\n  'test/images/test_1376.JPEG',\n  'test/images/test_1377.JPEG',\n  'test/images/test_1378.JPEG',\n  'test/images/test_1379.JPEG',\n  'test/images/test_138.JPEG',\n  'test/images/test_1380.JPEG',\n  'test/images/test_1381.JPEG',\n  'test/images/test_1382.JPEG',\n  'test/images/test_1383.JPEG',\n  'test/images/test_1384.JPEG',\n  'test/images/test_1385.JPEG',\n  'test/images/test_1386.JPEG',\n  'test/images/test_1387.JPEG',\n  'test/images/test_1388.JPEG',\n  'test/images/test_1389.JPEG',\n  'test/images/test_139.JPEG',\n  'test/images/test_1390.JPEG',\n  'test/images/test_1391.JPEG',\n  'test/images/test_1392.JPEG',\n  'test/images/test_1393.JPEG',\n  'test/images/test_1394.JPEG',\n  'test/images/test_1395.JPEG',\n  'test/images/test_1396.JPEG',\n  'test/images/test_1397.JPEG',\n  'test/images/test_1398.JPEG',\n  'test/images/test_1399.JPEG',\n  'test/images/test_14.JPEG',\n  'test/images/test_140.JPEG',\n  'test/images/test_1400.JPEG',\n  'test/images/test_1401.JPEG',\n  'test/images/test_1402.JPEG',\n  'test/images/test_1403.JPEG',\n  'test/images/test_1404.JPEG',\n  'test/images/test_1405.JPEG',\n  'test/images/test_1406.JPEG',\n  'test/images/test_1407.JPEG',\n  'test/images/test_1408.JPEG',\n  'test/images/test_1409.JPEG',\n  'test/images/test_141.JPEG',\n  'test/images/test_1410.JPEG',\n  'test/images/test_1411.JPEG',\n  'test/images/test_1412.JPEG',\n  'test/images/test_1413.JPEG',\n  'test/images/test_1414.JPEG',\n  'test/images/test_1415.JPEG',\n  'test/images/test_1416.JPEG',\n  'test/images/test_1417.JPEG',\n  'test/images/test_1418.JPEG',\n  'test/images/test_1419.JPEG',\n  'test/images/test_142.JPEG',\n  'test/images/test_1420.JPEG',\n  'test/images/test_1421.JPEG',\n  'test/images/test_1422.JPEG',\n  'test/images/test_1423.JPEG',\n  'test/images/test_1424.JPEG',\n  'test/images/test_1425.JPEG',\n  'test/images/test_1426.JPEG',\n  'test/images/test_1427.JPEG',\n  'test/images/test_1428.JPEG',\n  'test/images/test_1429.JPEG',\n  'test/images/test_143.JPEG',\n  'test/images/test_1430.JPEG',\n  'test/images/test_1431.JPEG',\n  'test/images/test_1432.JPEG',\n  'test/images/test_1433.JPEG',\n  'test/images/test_1434.JPEG',\n  'test/images/test_1435.JPEG',\n  'test/images/test_1436.JPEG',\n  'test/images/test_1437.JPEG',\n  'test/images/test_1438.JPEG',\n  'test/images/test_1439.JPEG',\n  'test/images/test_144.JPEG',\n  'test/images/test_1440.JPEG',\n  'test/images/test_1441.JPEG',\n  'test/images/test_1442.JPEG',\n  'test/images/test_1443.JPEG',\n  'test/images/test_1444.JPEG',\n  'test/images/test_1445.JPEG',\n  'test/images/test_1446.JPEG',\n  'test/images/test_1447.JPEG',\n  'test/images/test_1448.JPEG',\n  'test/images/test_1449.JPEG',\n  'test/images/test_145.JPEG',\n  'test/images/test_1450.JPEG',\n  'test/images/test_1451.JPEG',\n  'test/images/test_1452.JPEG',\n  'test/images/test_1453.JPEG',\n  'test/images/test_1454.JPEG',\n  'test/images/test_1455.JPEG',\n  'test/images/test_1456.JPEG',\n  'test/images/test_1457.JPEG',\n  'test/images/test_1458.JPEG',\n  'test/images/test_1459.JPEG',\n  'test/images/test_146.JPEG',\n  'test/images/test_1460.JPEG',\n  'test/images/test_1461.JPEG',\n  'test/images/test_1462.JPEG',\n  'test/images/test_1463.JPEG',\n  'test/images/test_1464.JPEG',\n  'test/images/test_1465.JPEG',\n  'test/images/test_1466.JPEG',\n  'test/images/test_1467.JPEG',\n  'test/images/test_1468.JPEG',\n  'test/images/test_1469.JPEG',\n  'test/images/test_147.JPEG',\n  'test/images/test_1470.JPEG',\n  'test/images/test_1471.JPEG',\n  'test/images/test_1472.JPEG',\n  'test/images/test_1473.JPEG',\n  'test/images/test_1474.JPEG',\n  'test/images/test_1475.JPEG',\n  'test/images/test_1476.JPEG',\n  'test/images/test_1477.JPEG',\n  'test/images/test_1478.JPEG',\n  'test/images/test_1479.JPEG',\n  'test/images/test_148.JPEG',\n  'test/images/test_1480.JPEG',\n  'test/images/test_1481.JPEG',\n  'test/images/test_1482.JPEG',\n  'test/images/test_1483.JPEG',\n  'test/images/test_1484.JPEG',\n  'test/images/test_1485.JPEG',\n  'test/images/test_1486.JPEG',\n  'test/images/test_1487.JPEG',\n  'test/images/test_1488.JPEG',\n  'test/images/test_1489.JPEG',\n  'test/images/test_149.JPEG',\n  'test/images/test_1490.JPEG',\n  'test/images/test_1491.JPEG',\n  'test/images/test_1492.JPEG',\n  'test/images/test_1493.JPEG',\n  'test/images/test_1494.JPEG',\n  'test/images/test_1495.JPEG',\n  'test/images/test_1496.JPEG',\n  'test/images/test_1497.JPEG',\n  'test/images/test_1498.JPEG',\n  'test/images/test_1499.JPEG',\n  'test/images/test_15.JPEG',\n  'test/images/test_150.JPEG',\n  'test/images/test_1500.JPEG',\n  'test/images/test_1501.JPEG',\n  'test/images/test_1502.JPEG',\n  'test/images/test_1503.JPEG',\n  'test/images/test_1504.JPEG',\n  'test/images/test_1505.JPEG',\n  'test/images/test_1506.JPEG',\n  'test/images/test_1507.JPEG',\n  'test/images/test_1508.JPEG',\n  'test/images/test_1509.JPEG',\n  'test/images/test_151.JPEG',\n  'test/images/test_1510.JPEG',\n  'test/images/test_1511.JPEG',\n  'test/images/test_1512.JPEG',\n  'test/images/test_1513.JPEG',\n  'test/images/test_1514.JPEG',\n  'test/images/test_1515.JPEG',\n  'test/images/test_1516.JPEG',\n  'test/images/test_1517.JPEG',\n  'test/images/test_1518.JPEG',\n  'test/images/test_1519.JPEG',\n  'test/images/test_152.JPEG',\n  'test/images/test_1520.JPEG',\n  'test/images/test_1521.JPEG',\n  'test/images/test_1522.JPEG',\n  'test/images/test_1523.JPEG',\n  'test/images/test_1524.JPEG',\n  'test/images/test_1525.JPEG',\n  'test/images/test_1526.JPEG',\n  'test/images/test_1527.JPEG',\n  'test/images/test_1528.JPEG',\n  'test/images/test_1529.JPEG',\n  'test/images/test_153.JPEG',\n  'test/images/test_1530.JPEG',\n  'test/images/test_1531.JPEG',\n  'test/images/test_1532.JPEG',\n  'test/images/test_1533.JPEG',\n  'test/images/test_1534.JPEG',\n  'test/images/test_1535.JPEG',\n  'test/images/test_1536.JPEG',\n  'test/images/test_1537.JPEG',\n  'test/images/test_1538.JPEG',\n  'test/images/test_1539.JPEG',\n  'test/images/test_154.JPEG',\n  'test/images/test_1540.JPEG',\n  'test/images/test_1541.JPEG',\n  'test/images/test_1542.JPEG',\n  'test/images/test_1543.JPEG',\n  'test/images/test_1544.JPEG',\n  'test/images/test_1545.JPEG',\n  'test/images/test_1546.JPEG',\n  'test/images/test_1547.JPEG',\n  'test/images/test_1548.JPEG',\n  'test/images/test_1549.JPEG',\n  'test/images/test_155.JPEG',\n  'test/images/test_1550.JPEG',\n  'test/images/test_1551.JPEG',\n  'test/images/test_1552.JPEG',\n  'test/images/test_1553.JPEG',\n  'test/images/test_1554.JPEG',\n  'test/images/test_1555.JPEG',\n  'test/images/test_1556.JPEG',\n  'test/images/test_1557.JPEG',\n  'test/images/test_1558.JPEG',\n  'test/images/test_1559.JPEG',\n  'test/images/test_156.JPEG',\n  'test/images/test_1560.JPEG',\n  'test/images/test_1561.JPEG',\n  'test/images/test_1562.JPEG',\n  'test/images/test_1563.JPEG',\n  'test/images/test_1564.JPEG',\n  'test/images/test_1565.JPEG',\n  'test/images/test_1566.JPEG',\n  'test/images/test_1567.JPEG',\n  'test/images/test_1568.JPEG',\n  'test/images/test_1569.JPEG',\n  'test/images/test_157.JPEG',\n  'test/images/test_1570.JPEG',\n  'test/images/test_1571.JPEG',\n  'test/images/test_1572.JPEG',\n  'test/images/test_1573.JPEG',\n  'test/images/test_1574.JPEG',\n  'test/images/test_1575.JPEG',\n  'test/images/test_1576.JPEG',\n  'test/images/test_1577.JPEG',\n  'test/images/test_1578.JPEG',\n  'test/images/test_1579.JPEG',\n  'test/images/test_158.JPEG',\n  'test/images/test_1580.JPEG',\n  'test/images/test_1581.JPEG',\n  'test/images/test_1582.JPEG',\n  'test/images/test_1583.JPEG',\n  'test/images/test_1584.JPEG',\n  'test/images/test_1585.JPEG',\n  'test/images/test_1586.JPEG',\n  'test/images/test_1587.JPEG',\n  'test/images/test_1588.JPEG',\n  'test/images/test_1589.JPEG',\n  'test/images/test_159.JPEG',\n  'test/images/test_1590.JPEG',\n  'test/images/test_1591.JPEG',\n  'test/images/test_1592.JPEG',\n  'test/images/test_1593.JPEG',\n  'test/images/test_1594.JPEG',\n  'test/images/test_1595.JPEG',\n  'test/images/test_1596.JPEG',\n  'test/images/test_1597.JPEG',\n  'test/images/test_1598.JPEG',\n  'test/images/test_1599.JPEG',\n  'test/images/test_16.JPEG',\n  'test/images/test_160.JPEG',\n  'test/images/test_1600.JPEG',\n  'test/images/test_1601.JPEG',\n  'test/images/test_1602.JPEG',\n  'test/images/test_1603.JPEG',\n  'test/images/test_1604.JPEG',\n  'test/images/test_1605.JPEG',\n  'test/images/test_1606.JPEG',\n  'test/images/test_1607.JPEG',\n  'test/images/test_1608.JPEG',\n  'test/images/test_1609.JPEG',\n  'test/images/test_161.JPEG',\n  'test/images/test_1610.JPEG',\n  'test/images/test_1611.JPEG',\n  'test/images/test_1612.JPEG',\n  'test/images/test_1613.JPEG',\n  'test/images/test_1614.JPEG',\n  'test/images/test_1615.JPEG',\n  'test/images/test_1616.JPEG',\n  'test/images/test_1617.JPEG',\n  'test/images/test_1618.JPEG',\n  'test/images/test_1619.JPEG',\n  'test/images/test_162.JPEG',\n  'test/images/test_1620.JPEG',\n  'test/images/test_1621.JPEG',\n  'test/images/test_1622.JPEG',\n  'test/images/test_1623.JPEG',\n  'test/images/test_1624.JPEG',\n  'test/images/test_1625.JPEG',\n  'test/images/test_1626.JPEG',\n  'test/images/test_1627.JPEG',\n  'test/images/test_1628.JPEG',\n  'test/images/test_1629.JPEG',\n  'test/images/test_163.JPEG',\n  'test/images/test_1630.JPEG',\n  'test/images/test_1631.JPEG',\n  'test/images/test_1632.JPEG',\n  'test/images/test_1633.JPEG',\n  'test/images/test_1634.JPEG',\n  'test/images/test_1635.JPEG',\n  'test/images/test_1636.JPEG',\n  'test/images/test_1637.JPEG',\n  'test/images/test_1638.JPEG',\n  'test/images/test_1639.JPEG',\n  'test/images/test_164.JPEG',\n  'test/images/test_1640.JPEG',\n  'test/images/test_1641.JPEG',\n  'test/images/test_1642.JPEG',\n  'test/images/test_1643.JPEG',\n  'test/images/test_1644.JPEG',\n  'test/images/test_1645.JPEG',\n  'test/images/test_1646.JPEG',\n  'test/images/test_1647.JPEG',\n  'test/images/test_1648.JPEG',\n  'test/images/test_1649.JPEG',\n  'test/images/test_165.JPEG',\n  'test/images/test_1650.JPEG',\n  'test/images/test_1651.JPEG',\n  'test/images/test_1652.JPEG',\n  'test/images/test_1653.JPEG',\n  'test/images/test_1654.JPEG',\n  'test/images/test_1655.JPEG',\n  'test/images/test_1656.JPEG',\n  'test/images/test_1657.JPEG',\n  'test/images/test_1658.JPEG',\n  'test/images/test_1659.JPEG',\n  'test/images/test_166.JPEG',\n  'test/images/test_1660.JPEG',\n  'test/images/test_1661.JPEG',\n  'test/images/test_1662.JPEG',\n  'test/images/test_1663.JPEG',\n  'test/images/test_1664.JPEG',\n  'test/images/test_1665.JPEG',\n  'test/images/test_1666.JPEG',\n  'test/images/test_1667.JPEG',\n  'test/images/test_1668.JPEG',\n  'test/images/test_1669.JPEG',\n  'test/images/test_167.JPEG',\n  'test/images/test_1670.JPEG',\n  'test/images/test_1671.JPEG',\n  'test/images/test_1672.JPEG',\n  'test/images/test_1673.JPEG',\n  'test/images/test_1674.JPEG',\n  'test/images/test_1675.JPEG',\n  'test/images/test_1676.JPEG',\n  'test/images/test_1677.JPEG',\n  'test/images/test_1678.JPEG',\n  'test/images/test_1679.JPEG',\n  'test/images/test_168.JPEG',\n  'test/images/test_1680.JPEG',\n  'test/images/test_1681.JPEG',\n  'test/images/test_1682.JPEG',\n  'test/images/test_1683.JPEG',\n  'test/images/test_1684.JPEG',\n  'test/images/test_1685.JPEG',\n  'test/images/test_1686.JPEG',\n  'test/images/test_1687.JPEG',\n  'test/images/test_1688.JPEG',\n  'test/images/test_1689.JPEG',\n  'test/images/test_169.JPEG',\n  'test/images/test_1690.JPEG',\n  'test/images/test_1691.JPEG',\n  'test/images/test_1692.JPEG',\n  'test/images/test_1693.JPEG',\n  'test/images/test_1694.JPEG',\n  'test/images/test_1695.JPEG',\n  'test/images/test_1696.JPEG',\n  'test/images/test_1697.JPEG',\n  'test/images/test_1698.JPEG',\n  'test/images/test_1699.JPEG',\n  'test/images/test_17.JPEG',\n  'test/images/test_170.JPEG',\n  'test/images/test_1700.JPEG',\n  'test/images/test_1701.JPEG',\n  'test/images/test_1702.JPEG',\n  'test/images/test_1703.JPEG',\n  'test/images/test_1704.JPEG',\n  'test/images/test_1705.JPEG',\n  'test/images/test_1706.JPEG',\n  'test/images/test_1707.JPEG',\n  'test/images/test_1708.JPEG',\n  'test/images/test_1709.JPEG',\n  'test/images/test_171.JPEG',\n  'test/images/test_1710.JPEG',\n  'test/images/test_1711.JPEG',\n  'test/images/test_1712.JPEG',\n  'test/images/test_1713.JPEG',\n  'test/images/test_1714.JPEG',\n  'test/images/test_1715.JPEG',\n  'test/images/test_1716.JPEG',\n  'test/images/test_1717.JPEG',\n  'test/images/test_1718.JPEG',\n  'test/images/test_1719.JPEG',\n  'test/images/test_172.JPEG',\n  'test/images/test_1720.JPEG',\n  'test/images/test_1721.JPEG',\n  'test/images/test_1722.JPEG',\n  'test/images/test_1723.JPEG',\n  'test/images/test_1724.JPEG',\n  'test/images/test_1725.JPEG',\n  'test/images/test_1726.JPEG',\n  'test/images/test_1727.JPEG',\n  'test/images/test_1728.JPEG',\n  'test/images/test_1729.JPEG',\n  'test/images/test_173.JPEG',\n  'test/images/test_1730.JPEG',\n  'test/images/test_1731.JPEG',\n  'test/images/test_1732.JPEG',\n  'test/images/test_1733.JPEG',\n  'test/images/test_1734.JPEG',\n  'test/images/test_1735.JPEG',\n  'test/images/test_1736.JPEG',\n  'test/images/test_1737.JPEG',\n  'test/images/test_1738.JPEG',\n  'test/images/test_1739.JPEG',\n  'test/images/test_174.JPEG',\n  'test/images/test_1740.JPEG',\n  'test/images/test_1741.JPEG',\n  'test/images/test_1742.JPEG',\n  'test/images/test_1743.JPEG',\n  'test/images/test_1744.JPEG',\n  'test/images/test_1745.JPEG',\n  'test/images/test_1746.JPEG',\n  'test/images/test_1747.JPEG',\n  'test/images/test_1748.JPEG',\n  'test/images/test_1749.JPEG',\n  'test/images/test_175.JPEG',\n  'test/images/test_1750.JPEG',\n  'test/images/test_1751.JPEG',\n  'test/images/test_1752.JPEG',\n  'test/images/test_1753.JPEG',\n  'test/images/test_1754.JPEG',\n  'test/images/test_1755.JPEG',\n  'test/images/test_1756.JPEG',\n  'test/images/test_1757.JPEG',\n  'test/images/test_1758.JPEG',\n  'test/images/test_1759.JPEG',\n  'test/images/test_176.JPEG',\n  'test/images/test_1760.JPEG',\n  'test/images/test_1761.JPEG',\n  'test/images/test_1762.JPEG',\n  'test/images/test_1763.JPEG',\n  'test/images/test_1764.JPEG',\n  'test/images/test_1765.JPEG',\n  'test/images/test_1766.JPEG',\n  'test/images/test_1767.JPEG',\n  'test/images/test_1768.JPEG',\n  'test/images/test_1769.JPEG',\n  'test/images/test_177.JPEG',\n  'test/images/test_1770.JPEG',\n  'test/images/test_1771.JPEG',\n  'test/images/test_1772.JPEG',\n  'test/images/test_1773.JPEG',\n  'test/images/test_1774.JPEG',\n  'test/images/test_1775.JPEG',\n  'test/images/test_1776.JPEG',\n  'test/images/test_1777.JPEG',\n  'test/images/test_1778.JPEG',\n  'test/images/test_1779.JPEG',\n  'test/images/test_178.JPEG',\n  'test/images/test_1780.JPEG',\n  'test/images/test_1781.JPEG',\n  'test/images/test_1782.JPEG',\n  'test/images/test_1783.JPEG',\n  'test/images/test_1784.JPEG',\n  'test/images/test_1785.JPEG',\n  'test/images/test_1786.JPEG',\n  'test/images/test_1787.JPEG',\n  'test/images/test_1788.JPEG',\n  'test/images/test_1789.JPEG',\n  'test/images/test_179.JPEG',\n  'test/images/test_1790.JPEG',\n  'test/images/test_1791.JPEG',\n  'test/images/test_1792.JPEG',\n  'test/images/test_1793.JPEG',\n  'test/images/test_1794.JPEG',\n  'test/images/test_1795.JPEG',\n  'test/images/test_1796.JPEG',\n  'test/images/test_1797.JPEG',\n  'test/images/test_1798.JPEG',\n  'test/images/test_1799.JPEG',\n  'test/images/test_18.JPEG',\n  'test/images/test_180.JPEG',\n  'test/images/test_1800.JPEG',\n  'test/images/test_1801.JPEG',\n  'test/images/test_1802.JPEG',\n  'test/images/test_1803.JPEG',\n  'test/images/test_1804.JPEG',\n  'test/images/test_1805.JPEG',\n  'test/images/test_1806.JPEG',\n  'test/images/test_1807.JPEG',\n  'test/images/test_1808.JPEG',\n  'test/images/test_1809.JPEG',\n  'test/images/test_181.JPEG',\n  'test/images/test_1810.JPEG',\n  'test/images/test_1811.JPEG',\n  'test/images/test_1812.JPEG',\n  'test/images/test_1813.JPEG',\n  'test/images/test_1814.JPEG',\n  'test/images/test_1815.JPEG',\n  'test/images/test_1816.JPEG',\n  'test/images/test_1817.JPEG',\n  'test/images/test_1818.JPEG',\n  'test/images/test_1819.JPEG',\n  'test/images/test_182.JPEG',\n  'test/images/test_1820.JPEG',\n  'test/images/test_1821.JPEG',\n  'test/images/test_1822.JPEG',\n  'test/images/test_1823.JPEG',\n  'test/images/test_1824.JPEG',\n  'test/images/test_1825.JPEG',\n  'test/images/test_1826.JPEG',\n  'test/images/test_1827.JPEG',\n  'test/images/test_1828.JPEG',\n  'test/images/test_1829.JPEG',\n  'test/images/test_183.JPEG',\n  'test/images/test_1830.JPEG',\n  'test/images/test_1831.JPEG',\n  'test/images/test_1832.JPEG',\n  'test/images/test_1833.JPEG',\n  'test/images/test_1834.JPEG',\n  'test/images/test_1835.JPEG',\n  'test/images/test_1836.JPEG',\n  'test/images/test_1837.JPEG',\n  'test/images/test_1838.JPEG',\n  'test/images/test_1839.JPEG',\n  'test/images/test_184.JPEG',\n  'test/images/test_1840.JPEG',\n  'test/images/test_1841.JPEG',\n  'test/images/test_1842.JPEG',\n  'test/images/test_1843.JPEG',\n  'test/images/test_1844.JPEG',\n  'test/images/test_1845.JPEG',\n  'test/images/test_1846.JPEG',\n  'test/images/test_1847.JPEG',\n  'test/images/test_1848.JPEG',\n  'test/images/test_1849.JPEG',\n  'test/images/test_185.JPEG',\n  'test/images/test_1850.JPEG',\n  'test/images/test_1851.JPEG',\n  'test/images/test_1852.JPEG',\n  'test/images/test_1853.JPEG',\n  'test/images/test_1854.JPEG',\n  'test/images/test_1855.JPEG',\n  'test/images/test_1856.JPEG',\n  'test/images/test_1857.JPEG',\n  'test/images/test_1858.JPEG',\n  'test/images/test_1859.JPEG',\n  'test/images/test_186.JPEG',\n  'test/images/test_1860.JPEG',\n  'test/images/test_1861.JPEG',\n  'test/images/test_1862.JPEG',\n  'test/images/test_1863.JPEG',\n  'test/images/test_1864.JPEG',\n  'test/images/test_1865.JPEG',\n  'test/images/test_1866.JPEG',\n  'test/images/test_1867.JPEG',\n  'test/images/test_1868.JPEG',\n  'test/images/test_1869.JPEG',\n  'test/images/test_187.JPEG',\n  'test/images/test_1870.JPEG',\n  'test/images/test_1871.JPEG',\n  'test/images/test_1872.JPEG',\n  'test/images/test_1873.JPEG',\n  'test/images/test_1874.JPEG',\n  'test/images/test_1875.JPEG',\n  'test/images/test_1876.JPEG',\n  'test/images/test_1877.JPEG',\n  'test/images/test_1878.JPEG',\n  'test/images/test_1879.JPEG',\n  'test/images/test_188.JPEG',\n  'test/images/test_1880.JPEG',\n  'test/images/test_1881.JPEG',\n  'test/images/test_1882.JPEG',\n  'test/images/test_1883.JPEG',\n  'test/images/test_1884.JPEG',\n  'test/images/test_1885.JPEG',\n  'test/images/test_1886.JPEG',\n  'test/images/test_1887.JPEG',\n  'test/images/test_1888.JPEG',\n  'test/images/test_1889.JPEG',\n  'test/images/test_189.JPEG',\n  'test/images/test_1890.JPEG',\n  'test/images/test_1891.JPEG',\n  'test/images/test_1892.JPEG',\n  'test/images/test_1893.JPEG',\n  'test/images/test_1894.JPEG',\n  'test/images/test_1895.JPEG',\n  'test/images/test_1896.JPEG',\n  'test/images/test_1897.JPEG',\n  'test/images/test_1898.JPEG',\n  ...],\n 'clsnames_train': ['n01443537',\n  'n01443537',\n  'n01443537',\n  'n01443537',\n  'n01443537',\n  'n01443537',\n  'n01443537',\n  'n01443537',\n  'n01443537',\n  'n01443537',\n  'n01443537',\n  'n01443537',\n  'n01443537',\n  'n01443537',\n  'n01443537',\n  'n01443537',\n  'n01443537',\n  'n01443537',\n  'n01443537',\n  'n01443537',\n  'n01443537',\n  'n01443537',\n  'n01443537',\n  'n01443537',\n  'n01443537',\n  'n01443537',\n  'n01443537',\n  'n01443537',\n  'n01443537',\n  'n01443537',\n  'n01443537',\n  'n01443537',\n  'n01443537',\n  'n01443537',\n  'n01443537',\n  'n01443537',\n  'n01443537',\n  'n01443537',\n  'n01443537',\n  'n01443537',\n  'n01443537',\n  'n01443537',\n  'n01443537',\n  'n01443537',\n  'n01443537',\n  'n01443537',\n  'n01443537',\n  'n01443537',\n  'n01443537',\n  'n01443537',\n  'n01443537',\n  'n01443537',\n  'n01443537',\n  'n01443537',\n  'n01443537',\n  'n01443537',\n  'n01443537',\n  'n01443537',\n  'n01443537',\n  'n01443537',\n  'n01443537',\n  'n01443537',\n  'n01443537',\n  'n01443537',\n  'n01443537',\n  'n01443537',\n  'n01443537',\n  'n01443537',\n  'n01443537',\n  'n01443537',\n  'n01443537',\n  'n01443537',\n  'n01443537',\n  'n01443537',\n  'n01443537',\n  'n01443537',\n  'n01443537',\n  'n01443537',\n  'n01443537',\n  'n01443537',\n  'n01443537',\n  'n01443537',\n  'n01443537',\n  'n01443537',\n  'n01443537',\n  'n01443537',\n  'n01443537',\n  'n01443537',\n  'n01443537',\n  'n01443537',\n  'n01443537',\n  'n01443537',\n  'n01443537',\n  'n01443537',\n  'n01443537',\n  'n01443537',\n  'n01443537',\n  'n01443537',\n  'n01443537',\n  'n01443537',\n  'n01443537',\n  'n01443537',\n  'n01443537',\n  'n01443537',\n  'n01443537',\n  'n01443537',\n  'n01443537',\n  'n01443537',\n  'n01443537',\n  'n01443537',\n  'n01443537',\n  'n01443537',\n  'n01443537',\n  'n01443537',\n  'n01443537',\n  'n01443537',\n  'n01443537',\n  'n01443537',\n  'n01443537',\n  'n01443537',\n  'n01443537',\n  'n01443537',\n  'n01443537',\n  'n01443537',\n  'n01443537',\n  'n01443537',\n  'n01443537',\n  'n01443537',\n  'n01443537',\n  'n01443537',\n  'n01443537',\n  'n01443537',\n  'n01443537',\n  'n01443537',\n  'n01443537',\n  'n01443537',\n  'n01443537',\n  'n01443537',\n  'n01443537',\n  'n01443537',\n  'n01443537',\n  'n01443537',\n  'n01443537',\n  'n01443537',\n  'n01443537',\n  'n01443537',\n  'n01443537',\n  'n01443537',\n  'n01443537',\n  'n01443537',\n  'n01443537',\n  'n01443537',\n  'n01443537',\n  'n01443537',\n  'n01443537',\n  'n01443537',\n  'n01443537',\n  'n01443537',\n  'n01443537',\n  'n01443537',\n  'n01443537',\n  'n01443537',\n  'n01443537',\n  'n01443537',\n  'n01443537',\n  'n01443537',\n  'n01443537',\n  'n01443537',\n  'n01443537',\n  'n01443537',\n  'n01443537',\n  'n01443537',\n  'n01443537',\n  'n01443537',\n  'n01443537',\n  'n01443537',\n  'n01443537',\n  'n01443537',\n  'n01443537',\n  'n01443537',\n  'n01443537',\n  'n01443537',\n  'n01443537',\n  'n01443537',\n  'n01443537',\n  'n01443537',\n  'n01443537',\n  'n01443537',\n  'n01443537',\n  'n01443537',\n  'n01443537',\n  'n01443537',\n  'n01443537',\n  'n01443537',\n  'n01443537',\n  'n01443537',\n  'n01443537',\n  'n01443537',\n  'n01443537',\n  'n01443537',\n  'n01443537',\n  'n01443537',\n  'n01443537',\n  'n01443537',\n  'n01443537',\n  'n01443537',\n  'n01443537',\n  'n01443537',\n  'n01443537',\n  'n01443537',\n  'n01443537',\n  'n01443537',\n  'n01443537',\n  'n01443537',\n  'n01443537',\n  'n01443537',\n  'n01443537',\n  'n01443537',\n  'n01443537',\n  'n01443537',\n  'n01443537',\n  'n01443537',\n  'n01443537',\n  'n01443537',\n  'n01443537',\n  'n01443537',\n  'n01443537',\n  'n01443537',\n  'n01443537',\n  'n01443537',\n  'n01443537',\n  'n01443537',\n  'n01443537',\n  'n01443537',\n  'n01443537',\n  'n01443537',\n  'n01443537',\n  'n01443537',\n  'n01443537',\n  'n01443537',\n  'n01443537',\n  'n01443537',\n  'n01443537',\n  'n01443537',\n  'n01443537',\n  'n01443537',\n  'n01443537',\n  'n01443537',\n  'n01443537',\n  'n01443537',\n  'n01443537',\n  'n01443537',\n  'n01443537',\n  'n01443537',\n  'n01443537',\n  'n01443537',\n  'n01443537',\n  'n01443537',\n  'n01443537',\n  'n01443537',\n  'n01443537',\n  'n01443537',\n  'n01443537',\n  'n01443537',\n  'n01443537',\n  'n01443537',\n  'n01443537',\n  'n01443537',\n  'n01443537',\n  'n01443537',\n  'n01443537',\n  'n01443537',\n  'n01443537',\n  'n01443537',\n  'n01443537',\n  'n01443537',\n  'n01443537',\n  'n01443537',\n  'n01443537',\n  'n01443537',\n  'n01443537',\n  'n01443537',\n  'n01443537',\n  'n01443537',\n  'n01443537',\n  'n01443537',\n  'n01443537',\n  'n01443537',\n  'n01443537',\n  'n01443537',\n  'n01443537',\n  'n01443537',\n  'n01443537',\n  'n01443537',\n  'n01443537',\n  'n01443537',\n  'n01443537',\n  'n01443537',\n  'n01443537',\n  'n01443537',\n  'n01443537',\n  'n01443537',\n  'n01443537',\n  'n01443537',\n  'n01443537',\n  'n01443537',\n  'n01443537',\n  'n01443537',\n  'n01443537',\n  'n01443537',\n  'n01443537',\n  'n01443537',\n  'n01443537',\n  'n01443537',\n  'n01443537',\n  'n01443537',\n  'n01443537',\n  'n01443537',\n  'n01443537',\n  'n01443537',\n  'n01443537',\n  'n01443537',\n  'n01443537',\n  'n01443537',\n  'n01443537',\n  'n01443537',\n  'n01443537',\n  'n01443537',\n  'n01443537',\n  'n01443537',\n  'n01443537',\n  'n01443537',\n  'n01443537',\n  'n01443537',\n  'n01443537',\n  'n01443537',\n  'n01443537',\n  'n01443537',\n  'n01443537',\n  'n01443537',\n  'n01443537',\n  'n01443537',\n  'n01443537',\n  'n01443537',\n  'n01443537',\n  'n01443537',\n  'n01443537',\n  'n01443537',\n  'n01443537',\n  'n01443537',\n  'n01443537',\n  'n01443537',\n  'n01443537',\n  'n01443537',\n  'n01443537',\n  'n01443537',\n  'n01443537',\n  'n01443537',\n  'n01443537',\n  'n01443537',\n  'n01443537',\n  'n01443537',\n  'n01443537',\n  'n01443537',\n  'n01443537',\n  'n01443537',\n  'n01443537',\n  'n01443537',\n  'n01443537',\n  'n01443537',\n  'n01443537',\n  'n01443537',\n  'n01443537',\n  'n01443537',\n  'n01443537',\n  'n01443537',\n  'n01443537',\n  'n01443537',\n  'n01443537',\n  'n01443537',\n  'n01443537',\n  'n01443537',\n  'n01443537',\n  'n01443537',\n  'n01443537',\n  'n01443537',\n  'n01443537',\n  'n01443537',\n  'n01443537',\n  'n01443537',\n  'n01443537',\n  'n01443537',\n  'n01443537',\n  'n01443537',\n  'n01443537',\n  'n01443537',\n  'n01443537',\n  'n01443537',\n  'n01443537',\n  'n01443537',\n  'n01443537',\n  'n01443537',\n  'n01443537',\n  'n01443537',\n  'n01443537',\n  'n01443537',\n  'n01443537',\n  'n01443537',\n  'n01443537',\n  'n01443537',\n  'n01443537',\n  'n01443537',\n  'n01443537',\n  'n01443537',\n  'n01443537',\n  'n01443537',\n  'n01443537',\n  'n01443537',\n  'n01443537',\n  'n01443537',\n  'n01443537',\n  'n01443537',\n  'n01443537',\n  'n01443537',\n  'n01443537',\n  'n01443537',\n  'n01443537',\n  'n01443537',\n  'n01443537',\n  'n01443537',\n  'n01443537',\n  'n01443537',\n  'n01443537',\n  'n01443537',\n  'n01443537',\n  'n01443537',\n  'n01443537',\n  'n01443537',\n  'n01443537',\n  'n01443537',\n  'n01443537',\n  'n01443537',\n  'n01443537',\n  'n01443537',\n  'n01443537',\n  'n01443537',\n  'n01443537',\n  'n01443537',\n  'n01443537',\n  'n01443537',\n  'n01443537',\n  'n01443537',\n  'n01443537',\n  'n01443537',\n  'n01443537',\n  'n01443537',\n  'n01443537',\n  'n01443537',\n  'n01443537',\n  'n01443537',\n  'n01443537',\n  'n01443537',\n  'n01443537',\n  'n01443537',\n  'n01443537',\n  'n01443537',\n  'n01443537',\n  'n01443537',\n  'n01443537',\n  'n01443537',\n  'n01443537',\n  'n01443537',\n  'n01443537',\n  'n01443537',\n  'n01443537',\n  'n01443537',\n  'n01443537',\n  'n01443537',\n  'n01443537',\n  'n01443537',\n  'n01443537',\n  'n01443537',\n  'n01443537',\n  'n01443537',\n  'n01443537',\n  'n01443537',\n  'n01443537',\n  'n01443537',\n  'n01443537',\n  'n01443537',\n  'n01443537',\n  'n01443537',\n  'n01443537',\n  'n01443537',\n  'n01443537',\n  'n01443537',\n  'n01443537',\n  'n01443537',\n  'n01443537',\n  'n01443537',\n  'n01629819',\n  'n01629819',\n  'n01629819',\n  'n01629819',\n  'n01629819',\n  'n01629819',\n  'n01629819',\n  'n01629819',\n  'n01629819',\n  'n01629819',\n  'n01629819',\n  'n01629819',\n  'n01629819',\n  'n01629819',\n  'n01629819',\n  'n01629819',\n  'n01629819',\n  'n01629819',\n  'n01629819',\n  'n01629819',\n  'n01629819',\n  'n01629819',\n  'n01629819',\n  'n01629819',\n  'n01629819',\n  'n01629819',\n  'n01629819',\n  'n01629819',\n  'n01629819',\n  'n01629819',\n  'n01629819',\n  'n01629819',\n  'n01629819',\n  'n01629819',\n  'n01629819',\n  'n01629819',\n  'n01629819',\n  'n01629819',\n  'n01629819',\n  'n01629819',\n  'n01629819',\n  'n01629819',\n  'n01629819',\n  'n01629819',\n  'n01629819',\n  'n01629819',\n  'n01629819',\n  'n01629819',\n  'n01629819',\n  'n01629819',\n  'n01629819',\n  'n01629819',\n  'n01629819',\n  'n01629819',\n  'n01629819',\n  'n01629819',\n  'n01629819',\n  'n01629819',\n  'n01629819',\n  'n01629819',\n  'n01629819',\n  'n01629819',\n  'n01629819',\n  'n01629819',\n  'n01629819',\n  'n01629819',\n  'n01629819',\n  'n01629819',\n  'n01629819',\n  'n01629819',\n  'n01629819',\n  'n01629819',\n  'n01629819',\n  'n01629819',\n  'n01629819',\n  'n01629819',\n  'n01629819',\n  'n01629819',\n  'n01629819',\n  'n01629819',\n  'n01629819',\n  'n01629819',\n  'n01629819',\n  'n01629819',\n  'n01629819',\n  'n01629819',\n  'n01629819',\n  'n01629819',\n  'n01629819',\n  'n01629819',\n  'n01629819',\n  'n01629819',\n  'n01629819',\n  'n01629819',\n  'n01629819',\n  'n01629819',\n  'n01629819',\n  'n01629819',\n  'n01629819',\n  'n01629819',\n  'n01629819',\n  'n01629819',\n  'n01629819',\n  'n01629819',\n  'n01629819',\n  'n01629819',\n  'n01629819',\n  'n01629819',\n  'n01629819',\n  'n01629819',\n  'n01629819',\n  'n01629819',\n  'n01629819',\n  'n01629819',\n  'n01629819',\n  'n01629819',\n  'n01629819',\n  'n01629819',\n  'n01629819',\n  'n01629819',\n  'n01629819',\n  'n01629819',\n  'n01629819',\n  'n01629819',\n  'n01629819',\n  'n01629819',\n  'n01629819',\n  'n01629819',\n  'n01629819',\n  'n01629819',\n  'n01629819',\n  'n01629819',\n  'n01629819',\n  'n01629819',\n  'n01629819',\n  'n01629819',\n  'n01629819',\n  'n01629819',\n  'n01629819',\n  'n01629819',\n  'n01629819',\n  'n01629819',\n  'n01629819',\n  'n01629819',\n  'n01629819',\n  'n01629819',\n  'n01629819',\n  'n01629819',\n  'n01629819',\n  'n01629819',\n  'n01629819',\n  'n01629819',\n  'n01629819',\n  'n01629819',\n  'n01629819',\n  'n01629819',\n  'n01629819',\n  'n01629819',\n  'n01629819',\n  'n01629819',\n  'n01629819',\n  'n01629819',\n  'n01629819',\n  'n01629819',\n  'n01629819',\n  'n01629819',\n  'n01629819',\n  'n01629819',\n  'n01629819',\n  'n01629819',\n  'n01629819',\n  'n01629819',\n  'n01629819',\n  'n01629819',\n  'n01629819',\n  'n01629819',\n  'n01629819',\n  'n01629819',\n  'n01629819',\n  'n01629819',\n  'n01629819',\n  'n01629819',\n  'n01629819',\n  'n01629819',\n  'n01629819',\n  'n01629819',\n  'n01629819',\n  'n01629819',\n  'n01629819',\n  'n01629819',\n  'n01629819',\n  'n01629819',\n  'n01629819',\n  'n01629819',\n  'n01629819',\n  'n01629819',\n  'n01629819',\n  'n01629819',\n  'n01629819',\n  'n01629819',\n  'n01629819',\n  'n01629819',\n  'n01629819',\n  'n01629819',\n  'n01629819',\n  'n01629819',\n  'n01629819',\n  'n01629819',\n  'n01629819',\n  'n01629819',\n  'n01629819',\n  'n01629819',\n  'n01629819',\n  'n01629819',\n  'n01629819',\n  'n01629819',\n  'n01629819',\n  'n01629819',\n  'n01629819',\n  'n01629819',\n  'n01629819',\n  'n01629819',\n  'n01629819',\n  'n01629819',\n  'n01629819',\n  'n01629819',\n  'n01629819',\n  'n01629819',\n  'n01629819',\n  'n01629819',\n  'n01629819',\n  'n01629819',\n  'n01629819',\n  'n01629819',\n  'n01629819',\n  'n01629819',\n  'n01629819',\n  'n01629819',\n  'n01629819',\n  'n01629819',\n  'n01629819',\n  'n01629819',\n  'n01629819',\n  'n01629819',\n  'n01629819',\n  'n01629819',\n  'n01629819',\n  'n01629819',\n  'n01629819',\n  'n01629819',\n  'n01629819',\n  'n01629819',\n  'n01629819',\n  'n01629819',\n  'n01629819',\n  'n01629819',\n  'n01629819',\n  'n01629819',\n  'n01629819',\n  'n01629819',\n  'n01629819',\n  'n01629819',\n  'n01629819',\n  'n01629819',\n  'n01629819',\n  'n01629819',\n  'n01629819',\n  'n01629819',\n  'n01629819',\n  'n01629819',\n  'n01629819',\n  'n01629819',\n  'n01629819',\n  'n01629819',\n  'n01629819',\n  'n01629819',\n  'n01629819',\n  'n01629819',\n  'n01629819',\n  'n01629819',\n  'n01629819',\n  'n01629819',\n  'n01629819',\n  'n01629819',\n  'n01629819',\n  'n01629819',\n  'n01629819',\n  'n01629819',\n  'n01629819',\n  'n01629819',\n  'n01629819',\n  'n01629819',\n  'n01629819',\n  'n01629819',\n  'n01629819',\n  'n01629819',\n  'n01629819',\n  'n01629819',\n  'n01629819',\n  'n01629819',\n  'n01629819',\n  'n01629819',\n  'n01629819',\n  'n01629819',\n  'n01629819',\n  'n01629819',\n  'n01629819',\n  'n01629819',\n  'n01629819',\n  'n01629819',\n  'n01629819',\n  'n01629819',\n  'n01629819',\n  'n01629819',\n  'n01629819',\n  'n01629819',\n  'n01629819',\n  'n01629819',\n  'n01629819',\n  'n01629819',\n  'n01629819',\n  'n01629819',\n  'n01629819',\n  'n01629819',\n  'n01629819',\n  'n01629819',\n  'n01629819',\n  'n01629819',\n  'n01629819',\n  'n01629819',\n  'n01629819',\n  'n01629819',\n  'n01629819',\n  'n01629819',\n  'n01629819',\n  'n01629819',\n  'n01629819',\n  'n01629819',\n  'n01629819',\n  'n01629819',\n  'n01629819',\n  'n01629819',\n  'n01629819',\n  'n01629819',\n  'n01629819',\n  'n01629819',\n  'n01629819',\n  'n01629819',\n  'n01629819',\n  'n01629819',\n  'n01629819',\n  'n01629819',\n  'n01629819',\n  'n01629819',\n  'n01629819',\n  'n01629819',\n  'n01629819',\n  'n01629819',\n  'n01629819',\n  'n01629819',\n  'n01629819',\n  'n01629819',\n  'n01629819',\n  'n01629819',\n  'n01629819',\n  'n01629819',\n  'n01629819',\n  'n01629819',\n  'n01629819',\n  'n01629819',\n  'n01629819',\n  'n01629819',\n  'n01629819',\n  'n01629819',\n  'n01629819',\n  'n01629819',\n  'n01629819',\n  'n01629819',\n  'n01629819',\n  'n01629819',\n  'n01629819',\n  'n01629819',\n  'n01629819',\n  'n01629819',\n  'n01629819',\n  'n01629819',\n  'n01629819',\n  'n01629819',\n  'n01629819',\n  'n01629819',\n  'n01629819',\n  'n01629819',\n  'n01629819',\n  'n01629819',\n  'n01629819',\n  'n01629819',\n  'n01629819',\n  'n01629819',\n  'n01629819',\n  'n01629819',\n  'n01629819',\n  'n01629819',\n  'n01629819',\n  'n01629819',\n  'n01629819',\n  'n01629819',\n  'n01629819',\n  'n01629819',\n  'n01629819',\n  'n01629819',\n  'n01629819',\n  'n01629819',\n  'n01629819',\n  'n01629819',\n  'n01629819',\n  'n01629819',\n  'n01629819',\n  'n01629819',\n  'n01629819',\n  'n01629819',\n  'n01629819',\n  'n01629819',\n  'n01629819',\n  'n01629819',\n  'n01629819',\n  'n01629819',\n  'n01629819',\n  'n01629819',\n  'n01629819',\n  'n01629819',\n  'n01629819',\n  'n01629819',\n  'n01629819',\n  'n01629819',\n  'n01629819',\n  'n01629819',\n  'n01629819',\n  'n01629819',\n  'n01629819',\n  'n01629819',\n  'n01629819',\n  'n01629819',\n  'n01629819',\n  'n01629819',\n  'n01629819',\n  'n01629819',\n  'n01629819',\n  'n01629819',\n  'n01629819',\n  'n01629819',\n  'n01629819',\n  'n01629819',\n  'n01629819',\n  'n01629819',\n  'n01629819',\n  'n01629819',\n  'n01629819',\n  'n01629819',\n  'n01629819',\n  'n01629819',\n  'n01629819',\n  'n01629819',\n  'n01629819',\n  'n01629819',\n  'n01629819',\n  'n01629819',\n  'n01629819',\n  'n01629819',\n  'n01629819',\n  'n01629819',\n  'n01629819',\n  'n01629819',\n  'n01629819',\n  'n01629819',\n  'n01629819',\n  'n01629819',\n  'n01629819',\n  'n01629819',\n  'n01629819',\n  'n01629819',\n  'n01629819',\n  'n01629819',\n  'n01629819',\n  'n01629819',\n  'n01629819',\n  'n01629819',\n  'n01629819',\n  'n01629819',\n  'n01629819',\n  'n01629819',\n  'n01629819',\n  'n01629819',\n  'n01629819',\n  'n01629819',\n  'n01629819',\n  'n01629819',\n  'n01629819',\n  'n01629819',\n  'n01629819',\n  'n01629819',\n  ...],\n 'clsnames_val': ['n03444034',\n  'n04067472',\n  'n04371430',\n  'n03026506',\n  'n04023962',\n  'n02795169',\n  'n03983396',\n  'n09428293',\n  'n02206856',\n  'n02999410',\n  'n02769748',\n  'n03444034',\n  'n03444034',\n  'n01855672',\n  'n02236044',\n  'n02415577',\n  'n02074367',\n  'n04501370',\n  'n02892201',\n  'n09246464',\n  'n03980874',\n  'n04417672',\n  'n02099712',\n  'n04532670',\n  'n09332890',\n  'n02206856',\n  'n02814860',\n  'n02132136',\n  'n02808440',\n  'n02415577',\n  'n02948072',\n  'n03400231',\n  'n07875152',\n  'n02132136',\n  'n03179701',\n  'n02909870',\n  'n03937543',\n  'n03670208',\n  'n02002724',\n  'n02423022',\n  'n03983396',\n  'n04486054',\n  'n02125311',\n  'n02802426',\n  'n03250847',\n  'n01950731',\n  'n04487081',\n  'n03584254',\n  'n04597913',\n  'n04597913',\n  'n07875152',\n  'n04067472',\n  'n03355925',\n  'n02226429',\n  'n02231487',\n  'n03089624',\n  'n03891332',\n  'n02132136',\n  'n02165456',\n  'n01983481',\n  'n04501370',\n  'n01855672',\n  'n01910747',\n  'n01629819',\n  'n04376876',\n  'n01742172',\n  'n04532106',\n  'n03400231',\n  'n04465501',\n  'n09193705',\n  'n03980874',\n  'n02124075',\n  'n02132136',\n  'n07871810',\n  'n01742172',\n  'n02437312',\n  'n03400231',\n  'n07747607',\n  'n02132136',\n  'n02321529',\n  'n03733131',\n  'n04486054',\n  'n04285008',\n  'n03649909',\n  'n02056570',\n  'n03976657',\n  'n02423022',\n  'n02999410',\n  'n03814639',\n  'n03250847',\n  'n01917289',\n  'n02124075',\n  'n03854065',\n  'n03089624',\n  'n09256479',\n  'n01882714',\n  'n02279972',\n  'n02395406',\n  'n01910747',\n  'n07875152',\n  'n01768244',\n  'n07768694',\n  'n04265275',\n  'n02815834',\n  'n03400231',\n  'n04596742',\n  'n09256479',\n  'n07875152',\n  'n02950826',\n  'n07715103',\n  'n04146614',\n  'n04179913',\n  'n03388043',\n  'n07753592',\n  'n04596742',\n  'n02486410',\n  'n03770439',\n  'n03854065',\n  'n02321529',\n  'n03014705',\n  'n07615774',\n  'n09256479',\n  'n01742172',\n  'n04540053',\n  'n02437312',\n  'n02795169',\n  'n07753592',\n  'n02841315',\n  'n07747607',\n  'n01784675',\n  'n02423022',\n  'n02793495',\n  'n09256479',\n  'n02843684',\n  'n03404251',\n  'n09332890',\n  'n03544143',\n  'n02002724',\n  'n02841315',\n  'n07871810',\n  'n02058221',\n  'n01774384',\n  'n03089624',\n  'n01882714',\n  'n01774750',\n  'n04398044',\n  'n02823428',\n  'n04560804',\n  'n02666196',\n  'n02815834',\n  'n03930313',\n  'n04596742',\n  'n01770393',\n  'n03937543',\n  'n03930313',\n  'n04275548',\n  'n03544143',\n  'n02802426',\n  'n04023962',\n  'n02099712',\n  'n01742172',\n  'n02364673',\n  'n02906734',\n  'n01641577',\n  'n04398044',\n  'n03126707',\n  'n01983481',\n  'n02669723',\n  'n04371430',\n  'n02437312',\n  'n03042490',\n  'n03447447',\n  'n04399382',\n  'n02963159',\n  'n04179913',\n  'n03980874',\n  'n02279972',\n  'n03388043',\n  'n02437312',\n  'n07873807',\n  'n02504458',\n  'n03649909',\n  'n03992509',\n  'n03388043',\n  'n02730930',\n  'n07614500',\n  'n02699494',\n  'n02883205',\n  'n01629819',\n  'n02395406',\n  'n04356056',\n  'n03355925',\n  'n03179701',\n  'n02085620',\n  'n02206856',\n  'n02281406',\n  'n03796401',\n  'n04417672',\n  'n02125311',\n  'n07768694',\n  'n02883205',\n  'n03930313',\n  'n02190166',\n  'n02106662',\n  'n01944390',\n  'n04146614',\n  'n01698640',\n  'n04099969',\n  'n02769748',\n  'n03706229',\n  'n02403003',\n  'n03014705',\n  'n02948072',\n  'n03970156',\n  'n04532106',\n  'n07747607',\n  'n02094433',\n  'n07579787',\n  'n02132136',\n  'n02509815',\n  'n02106662',\n  'n03970156',\n  'n03388043',\n  'n04501370',\n  'n02226429',\n  'n03201208',\n  'n04149813',\n  'n04133789',\n  'n04070727',\n  'n01950731',\n  'n07614500',\n  'n04008634',\n  'n01770393',\n  'n03649909',\n  'n02795169',\n  'n02403003',\n  'n02909870',\n  'n02699494',\n  'n02056570',\n  'n04149813',\n  'n03891332',\n  'n03100240',\n  'n02509815',\n  'n04023962',\n  'n02129165',\n  'n01917289',\n  'n03617480',\n  'n03838899',\n  'n02808440',\n  'n04366367',\n  'n03937543',\n  'n03838899',\n  'n06596364',\n  'n04507155',\n  'n03796401',\n  'n02791270',\n  'n02058221',\n  'n02206856',\n  'n02410509',\n  'n01443537',\n  'n02823428',\n  'n04532106',\n  'n02395406',\n  'n01698640',\n  'n02056570',\n  'n07873807',\n  'n02437312',\n  'n03400231',\n  'n03662601',\n  'n02823428',\n  'n01882714',\n  'n02504458',\n  'n03160309',\n  'n07749582',\n  'n03388043',\n  'n03662601',\n  'n02486410',\n  'n03814639',\n  'n03355925',\n  'n02948072',\n  'n04560804',\n  'n07747607',\n  'n01641577',\n  'n09428293',\n  'n04399382',\n  'n01784675',\n  'n02769748',\n  'n02123394',\n  'n04149813',\n  'n03085013',\n  'n04417672',\n  'n09256479',\n  'n04417672',\n  'n04008634',\n  'n03444034',\n  'n03649909',\n  'n03706229',\n  'n07695742',\n  'n04465501',\n  'n01443537',\n  'n04532670',\n  'n03637318',\n  'n04465501',\n  'n04507155',\n  'n03902125',\n  'n07695742',\n  'n03902125',\n  'n03544143',\n  'n02279972',\n  'n02814860',\n  'n09193705',\n  'n04597913',\n  'n04366367',\n  'n04067472',\n  'n03937543',\n  'n07875152',\n  'n04070727',\n  'n04417672',\n  'n01443537',\n  'n02977058',\n  'n03838899',\n  'n02814533',\n  'n02364673',\n  'n03854065',\n  'n02892201',\n  'n03026506',\n  'n02481823',\n  'n01944390',\n  'n02699494',\n  'n02788148',\n  'n09256479',\n  'n03662601',\n  'n03837869',\n  'n04465501',\n  'n04465501',\n  'n03770439',\n  'n01641577',\n  'n02123045',\n  'n03042490',\n  'n03706229',\n  'n02231487',\n  'n04070727',\n  'n02802426',\n  'n07920052',\n  'n01984695',\n  'n01917289',\n  'n02837789',\n  'n07871810',\n  'n07695742',\n  'n02094433',\n  'n07753592',\n  'n02509815',\n  'n02906734',\n  'n03937543',\n  'n04487081',\n  'n04465501',\n  'n03976657',\n  'n01644900',\n  'n03770439',\n  'n03179701',\n  'n02099601',\n  'n04562935',\n  'n02843684',\n  'n02410509',\n  'n03976657',\n  'n02486410',\n  'n07614500',\n  'n02793495',\n  'n02395406',\n  'n04486054',\n  'n04532670',\n  'n03804744',\n  'n04259630',\n  'n02788148',\n  'n04251144',\n  'n02129165',\n  'n09428293',\n  'n01917289',\n  'n02124075',\n  'n09193705',\n  'n07734744',\n  'n03814639',\n  'n04532670',\n  'n02233338',\n  'n04487081',\n  'n01774750',\n  'n03089624',\n  'n03649909',\n  'n04398044',\n  'n07920052',\n  'n02165456',\n  'n04328186',\n  'n03599486',\n  'n12267677',\n  'n01641577',\n  'n01698640',\n  'n07615774',\n  'n02124075',\n  'n02123045',\n  'n02808440',\n  'n03970156',\n  'n03404251',\n  'n04067472',\n  'n02190166',\n  'n02988304',\n  'n04398044',\n  'n02099712',\n  'n03733131',\n  'n02883205',\n  'n02085620',\n  'n03838899',\n  'n07720875',\n  'n04417672',\n  'n03970156',\n  'n01784675',\n  'n03617480',\n  'n01950731',\n  'n02699494',\n  'n07583066',\n  'n02837789',\n  'n01910747',\n  'n03706229',\n  'n02892201',\n  'n04067472',\n  'n02364673',\n  'n04074963',\n  'n06596364',\n  'n01984695',\n  'n01774384',\n  'n03447447',\n  'n03814639',\n  'n06596364',\n  'n04259630',\n  'n03617480',\n  'n02669723',\n  'n01784675',\n  'n03355925',\n  'n01950731',\n  'n03250847',\n  'n02814533',\n  'n04399382',\n  'n07720875',\n  'n02321529',\n  'n03902125',\n  'n01950731',\n  'n02123045',\n  'n02056570',\n  'n04532670',\n  'n03970156',\n  'n02281406',\n  'n07875152',\n  'n02226429',\n  'n03085013',\n  'n01641577',\n  'n03670208',\n  'n03447447',\n  'n01950731',\n  'n02132136',\n  'n01944390',\n  'n07720875',\n  'n09428293',\n  'n03400231',\n  'n02123394',\n  'n03970156',\n  'n04399382',\n  'n02231487',\n  'n09193705',\n  'n02129165',\n  'n12267677',\n  'n02950826',\n  'n07749582',\n  'n02481823',\n  'n04328186',\n  'n07614500',\n  'n03796401',\n  'n03649909',\n  'n02123394',\n  'n02132136',\n  'n02999410',\n  'n02948072',\n  'n04562935',\n  'n01644900',\n  'n04560804',\n  'n06596364',\n  'n04487081',\n  'n07749582',\n  'n03706229',\n  'n03544143',\n  'n01768244',\n  'n04562935',\n  'n07583066',\n  'n02085620',\n  'n04356056',\n  'n02058221',\n  'n02917067',\n  'n03980874',\n  'n03089624',\n  'n04398044',\n  'n02074367',\n  'n04366367',\n  'n02988304',\n  'n02977058',\n  'n04008634',\n  'n04371430',\n  'n02950826',\n  'n04311004',\n  'n03126707',\n  'n07579787',\n  'n02415577',\n  'n03085013',\n  'n09428293',\n  'n02206856',\n  'n03814639',\n  'n07615774',\n  'n03447447',\n  'n09332890',\n  'n02106662',\n  'n12267677',\n  'n02950826',\n  'n04532670',\n  'n04417672',\n  'n02268443',\n  'n02099601',\n  'n03393912',\n  'n03837869',\n  'n04501370',\n  'n07920052',\n  'n02437312',\n  'n02950826',\n  'n02927161',\n  'n04532106',\n  'n03584254',\n  'n03447447',\n  'n02125311',\n  'n03983396',\n  'n04371430',\n  'n02281406',\n  'n02795169',\n  'n02233338',\n  'n01882714',\n  'n02808440',\n  'n02113799',\n  'n02504458',\n  'n07749582',\n  'n07873807',\n  'n02769748',\n  'n02123045',\n  'n03014705',\n  'n02999410',\n  'n02841315',\n  'n02808440',\n  'n03637318',\n  'n09246464',\n  'n03255030',\n  'n07875152',\n  'n03770439',\n  'n03980874',\n  'n02906734',\n  'n03042490',\n  'n02509815',\n  'n04074963',\n  'n07873807',\n  'n03126707',\n  'n07583066',\n  'n02002724',\n  'n02268443',\n  'n04285008',\n  'n02988304',\n  'n03026506',\n  'n07768694',\n  'n02988304',\n  'n04371430',\n  'n02085620',\n  'n01742172',\n  'n01770393',\n  'n04376876',\n  'n03930313',\n  'n02793495',\n  'n02666196',\n  'n03770439',\n  'n02113799',\n  'n04133789',\n  'n02236044',\n  'n04540053',\n  'n02395406',\n  'n03599486',\n  'n03400231',\n  'n07720875',\n  'n02129165',\n  'n03930313',\n  'n02099601',\n  'n03796401',\n  'n03854065',\n  'n01641577',\n  'n03662601',\n  'n03649909',\n  'n04597913',\n  'n01629819',\n  'n02793495',\n  'n03804744',\n  'n01768244',\n  'n04532670',\n  'n02481823',\n  'n04023962',\n  'n01950731',\n  'n02883205',\n  'n02395406',\n  'n02788148',\n  'n02094433',\n  'n03854065',\n  'n07695742',\n  'n04265275',\n  'n02423022',\n  'n03599486',\n  'n02988304',\n  'n01443537',\n  'n02206856',\n  'n04074963',\n  'n03814639',\n  'n04507155',\n  'n04285008',\n  'n02094433',\n  'n02279972',\n  'n03891332',\n  'n02415577',\n  'n01742172',\n  'n02883205',\n  'n02099601',\n  'n04118538',\n  'n02190166',\n  'n01768244',\n  'n02486410',\n  'n04179913',\n  'n03976657',\n  'n02321529',\n  'n04311004',\n  'n04254777',\n  'n02123394',\n  'n03179701',\n  'n02504458',\n  'n01944390',\n  'n07583066',\n  'n02423022',\n  'n12267677',\n  'n03393912',\n  'n04398044',\n  'n03355925',\n  'n01768244',\n  'n07720875',\n  'n03355925',\n  'n03891332',\n  'n03649909',\n  'n02058221',\n  'n03796401',\n  'n02410509',\n  'n04008634',\n  'n03902125',\n  'n02666196',\n  'n07873807',\n  'n02236044',\n  'n04099969',\n  'n03393912',\n  'n04023962',\n  'n01983481',\n  'n02917067',\n  'n03977966',\n  'n04376876',\n  'n03983396',\n  'n02125311',\n  'n02056570',\n  'n03042490',\n  'n04179913',\n  'n07920052',\n  'n06596364',\n  'n03388043',\n  'n02231487',\n  'n02106662',\n  'n04311004',\n  'n07579787',\n  'n03201208',\n  'n07720875',\n  'n02099712',\n  'n03637318',\n  'n02730930',\n  'n04540053',\n  'n02190166',\n  'n04311004',\n  'n02788148',\n  'n02281406',\n  'n03983396',\n  'n04074963',\n  'n01917289',\n  'n01770393',\n  'n04251144',\n  'n04285008',\n  'n04501370',\n  'n04356056',\n  'n04099969',\n  'n03649909',\n  'n02233338',\n  'n04265275',\n  'n04275548',\n  'n02364673',\n  'n03085013',\n  'n03838899',\n  'n01774384',\n  'n02099712',\n  'n02190166',\n  'n03930313',\n  'n04507155',\n  'n03393912',\n  'n04311004',\n  'n03770439',\n  'n04417672',\n  'n01443537',\n  'n02509815',\n  'n03250847',\n  'n04074963',\n  'n03854065',\n  'n03838899',\n  'n02666196',\n  'n02321529',\n  'n04251144',\n  'n03424325',\n  'n02769748',\n  'n02948072',\n  'n02206856',\n  'n02666196',\n  'n07875152',\n  'n04507155',\n  'n07871810',\n  'n03160309',\n  'n04074963',\n  'n02927161',\n  'n03992509',\n  'n07695742',\n  'n03404251',\n  'n01774750',\n  'n04070727',\n  'n02814533',\n  'n04149813',\n  'n03977966',\n  'n04532106',\n  'n03854065',\n  'n03085013',\n  'n04067472',\n  'n02795169',\n  'n07734744',\n  'n06596364',\n  'n02977058',\n  'n04179913',\n  'n04149813',\n  'n02410509',\n  'n02509815',\n  'n02395406',\n  'n02423022',\n  'n03902125',\n  'n02841315',\n  'n04398044',\n  'n09428293',\n  'n02281406',\n  'n02950826',\n  'n01774384',\n  'n03902125',\n  'n02988304',\n  'n04275548',\n  'n04465501',\n  'n02113799',\n  'n03970156',\n  'n09256479',\n  'n02814533',\n  'n04540053',\n  'n01770393',\n  'n02074367',\n  'n01910747',\n  'n12267677',\n  'n01917289',\n  'n02769748',\n  'n04562935',\n  'n04486054',\n  'n03930313',\n  'n04285008',\n  'n02669723',\n  'n02841315',\n  'n02403003',\n  'n03100240',\n  'n02113799',\n  'n09428293',\n  'n03902125',\n  'n03085013',\n  'n03837869',\n  'n07734744',\n  'n02909870',\n  'n01770393',\n  'n09332890',\n  'n03970156',\n  'n02395406',\n  'n07579787',\n  'n04486054',\n  'n02999410',\n  'n01984695',\n  'n02815834',\n  'n04465501',\n  'n02906734',\n  'n04532106',\n  'n03763968',\n  'n02808440',\n  'n02165456',\n  'n03544143',\n  'n04254777',\n  'n01742172',\n  'n02226429',\n  'n01855672',\n  'n04376876',\n  'n04328186',\n  'n03250847',\n  'n07875152',\n  'n09332890',\n  'n02509815',\n  'n02321529',\n  'n02909870',\n  'n02841315',\n  'n03042490',\n  'n02892201',\n  'n03637318',\n  'n03976657',\n  'n03160309',\n  'n01855672',\n  'n02190166',\n  'n09246464',\n  'n07749582',\n  'n02395406',\n  'n03444034',\n  'n02165456',\n  'n07720875',\n  'n03393912',\n  'n02666196',\n  'n02099601',\n  'n02843684',\n  'n03085013',\n  'n09246464',\n  'n03670208',\n  'n02977058',\n  'n02129165',\n  'n07614500',\n  'n07711569',\n  'n02403003',\n  'n09332890',\n  'n02999410',\n  'n02843684',\n  'n02892201',\n  'n03796401',\n  'n03444034',\n  'n12267677',\n  'n03617480',\n  'n01784675',\n  'n04597913',\n  'n03838899',\n  'n02231487',\n  'n02788148',\n  'n02236044',\n  'n04023962',\n  'n02074367',\n  'n03838899',\n  'n09256479',\n  'n02206856',\n  'n03424325',\n  'n02815834',\n  'n04099969',\n  'n04562935',\n  'n03250847',\n  'n01855672',\n  'n03424325',\n  'n04265275',\n  'n03649909',\n  'n04501370',\n  'n07614500',\n  'n04532670',\n  'n07747607',\n  'n02123045',\n  'n02099601',\n  'n02321529',\n  'n04465501',\n  'n02669723',\n  'n03042490',\n  'n02808440',\n  'n02099712',\n  'n02837789',\n  'n03804744',\n  'n02099601',\n  'n04285008',\n  'n02125311',\n  'n01774384',\n  'n03355925',\n  'n03404251',\n  'n03544143',\n  'n02837789',\n  'n03400231',\n  'n02129165',\n  'n02509815',\n  'n07695742',\n  'n02056570',\n  'n03662601',\n  'n02236044',\n  'n02791270',\n  'n01641577',\n  'n03599486',\n  'n02085620',\n  'n04146614',\n  'n04371430',\n  'n02730930',\n  'n04149813',\n  'n02504458',\n  'n02321529',\n  'n02129165',\n  'n04540053',\n  'n02233338',\n  'n04067472',\n  'n02815834',\n  'n04487081',\n  'n02113799',\n  'n02814860',\n  'n02113799',\n  'n03355925',\n  'n04560804',\n  'n02769748',\n  'n02125311',\n  'n01774384',\n  'n03255030',\n  'n02226429',\n  'n04311004',\n  'n09332890',\n  'n04398044',\n  'n03970156',\n  'n07583066',\n  'n04254777',\n  'n02906734',\n  'n03649909',\n  'n02058221',\n  'n02480495',\n  'n03126707',\n  'n04023962',\n  'n02480495',\n  'n02963159',\n  'n07583066',\n  'n02917067',\n  'n03637318',\n  'n04532106',\n  'n02843684',\n  'n04560804',\n  'n01644900',\n  'n03089624',\n  'n09193705',\n  'n02906734',\n  'n03126707',\n  'n02113799',\n  'n02486410',\n  'n03992509',\n  'n03599486',\n  'n02099601',\n  'n03814639',\n  'n03393912',\n  'n03814639',\n  'n03014705',\n  'n04371430',\n  'n01945685',\n  'n07873807',\n  'n09246464',\n  'n02504458',\n  'n07615774',\n  'n01768244',\n  'n01945685',\n  'n07871810',\n  'n02892201',\n  'n03854065',\n  'n01698640',\n  'n07734744',\n  'n02395406',\n  'n02802426',\n  'n02233338',\n  'n02056570',\n  'n02892201',\n  'n03662601',\n  'n02395406',\n  'n07720875',\n  'n04311004',\n  'n02094433',\n  'n02085620',\n  'n04417672',\n  'n02099601',\n  'n01950731',\n  'n03930313',\n  'n03160309',\n  'n02106662',\n  'n03179701',\n  'n01770393',\n  'n03983396',\n  'n04259630',\n  'n04417672',\n  'n03970156',\n  ...],\n 'clsnames_test': [-1,\n  -1,\n  -1,\n  -1,\n  -1,\n  -1,\n  -1,\n  -1,\n  -1,\n  -1,\n  -1,\n  -1,\n  -1,\n  -1,\n  -1,\n  -1,\n  -1,\n  -1,\n  -1,\n  -1,\n  -1,\n  -1,\n  -1,\n  -1,\n  -1,\n  -1,\n  -1,\n  -1,\n  -1,\n  -1,\n  -1,\n  -1,\n  -1,\n  -1,\n  -1,\n  -1,\n  -1,\n  -1,\n  -1,\n  -1,\n  -1,\n  -1,\n  -1,\n  -1,\n  -1,\n  -1,\n  -1,\n  -1,\n  -1,\n  -1,\n  -1,\n  -1,\n  -1,\n  -1,\n  -1,\n  -1,\n  -1,\n  -1,\n  -1,\n  -1,\n  -1,\n  -1,\n  -1,\n  -1,\n  -1,\n  -1,\n  -1,\n  -1,\n  -1,\n  -1,\n  -1,\n  -1,\n  -1,\n  -1,\n  -1,\n  -1,\n  -1,\n  -1,\n  -1,\n  -1,\n  -1,\n  -1,\n  -1,\n  -1,\n  -1,\n  -1,\n  -1,\n  -1,\n  -1,\n  -1,\n  -1,\n  -1,\n  -1,\n  -1,\n  -1,\n  -1,\n  -1,\n  -1,\n  -1,\n  -1,\n  -1,\n  -1,\n  -1,\n  -1,\n  -1,\n  -1,\n  -1,\n  -1,\n  -1,\n  -1,\n  -1,\n  -1,\n  -1,\n  -1,\n  -1,\n  -1,\n  -1,\n  -1,\n  -1,\n  -1,\n  -1,\n  -1,\n  -1,\n  -1,\n  -1,\n  -1,\n  -1,\n  -1,\n  -1,\n  -1,\n  -1,\n  -1,\n  -1,\n  -1,\n  -1,\n  -1,\n  -1,\n  -1,\n  -1,\n  -1,\n  -1,\n  -1,\n  -1,\n  -1,\n  -1,\n  -1,\n  -1,\n  -1,\n  -1,\n  -1,\n  -1,\n  -1,\n  -1,\n  -1,\n  -1,\n  -1,\n  -1,\n  -1,\n  -1,\n  -1,\n  -1,\n  -1,\n  -1,\n  -1,\n  -1,\n  -1,\n  -1,\n  -1,\n  -1,\n  -1,\n  -1,\n  -1,\n  -1,\n  -1,\n  -1,\n  -1,\n  -1,\n  -1,\n  -1,\n  -1,\n  -1,\n  -1,\n  -1,\n  -1,\n  -1,\n  -1,\n  -1,\n  -1,\n  -1,\n  -1,\n  -1,\n  -1,\n  -1,\n  -1,\n  -1,\n  -1,\n  -1,\n  -1,\n  -1,\n  -1,\n  -1,\n  -1,\n  -1,\n  -1,\n  -1,\n  -1,\n  -1,\n  -1,\n  -1,\n  -1,\n  -1,\n  -1,\n  -1,\n  -1,\n  -1,\n  -1,\n  -1,\n  -1,\n  -1,\n  -1,\n  -1,\n  -1,\n  -1,\n  -1,\n  -1,\n  -1,\n  -1,\n  -1,\n  -1,\n  -1,\n  -1,\n  -1,\n  -1,\n  -1,\n  -1,\n  -1,\n  -1,\n  -1,\n  -1,\n  -1,\n  -1,\n  -1,\n  -1,\n  -1,\n  -1,\n  -1,\n  -1,\n  -1,\n  -1,\n  -1,\n  -1,\n  -1,\n  -1,\n  -1,\n  -1,\n  -1,\n  -1,\n  -1,\n  -1,\n  -1,\n  -1,\n  -1,\n  -1,\n  -1,\n  -1,\n  -1,\n  -1,\n  -1,\n  -1,\n  -1,\n  -1,\n  -1,\n  -1,\n  -1,\n  -1,\n  -1,\n  -1,\n  -1,\n  -1,\n  -1,\n  -1,\n  -1,\n  -1,\n  -1,\n  -1,\n  -1,\n  -1,\n  -1,\n  -1,\n  -1,\n  -1,\n  -1,\n  -1,\n  -1,\n  -1,\n  -1,\n  -1,\n  -1,\n  -1,\n  -1,\n  -1,\n  -1,\n  -1,\n  -1,\n  -1,\n  -1,\n  -1,\n  -1,\n  -1,\n  -1,\n  -1,\n  -1,\n  -1,\n  -1,\n  -1,\n  -1,\n  -1,\n  -1,\n  -1,\n  -1,\n  -1,\n  -1,\n  -1,\n  -1,\n  -1,\n  -1,\n  -1,\n  -1,\n  -1,\n  -1,\n  -1,\n  -1,\n  -1,\n  -1,\n  -1,\n  -1,\n  -1,\n  -1,\n  -1,\n  -1,\n  -1,\n  -1,\n  -1,\n  -1,\n  -1,\n  -1,\n  -1,\n  -1,\n  -1,\n  -1,\n  -1,\n  -1,\n  -1,\n  -1,\n  -1,\n  -1,\n  -1,\n  -1,\n  -1,\n  -1,\n  -1,\n  -1,\n  -1,\n  -1,\n  -1,\n  -1,\n  -1,\n  -1,\n  -1,\n  -1,\n  -1,\n  -1,\n  -1,\n  -1,\n  -1,\n  -1,\n  -1,\n  -1,\n  -1,\n  -1,\n  -1,\n  -1,\n  -1,\n  -1,\n  -1,\n  -1,\n  -1,\n  -1,\n  -1,\n  -1,\n  -1,\n  -1,\n  -1,\n  -1,\n  -1,\n  -1,\n  -1,\n  -1,\n  -1,\n  -1,\n  -1,\n  -1,\n  -1,\n  -1,\n  -1,\n  -1,\n  -1,\n  -1,\n  -1,\n  -1,\n  -1,\n  -1,\n  -1,\n  -1,\n  -1,\n  -1,\n  -1,\n  -1,\n  -1,\n  -1,\n  -1,\n  -1,\n  -1,\n  -1,\n  -1,\n  -1,\n  -1,\n  -1,\n  -1,\n  -1,\n  -1,\n  -1,\n  -1,\n  -1,\n  -1,\n  -1,\n  -1,\n  -1,\n  -1,\n  -1,\n  -1,\n  -1,\n  -1,\n  -1,\n  -1,\n  -1,\n  -1,\n  -1,\n  -1,\n  -1,\n  -1,\n  -1,\n  -1,\n  -1,\n  -1,\n  -1,\n  -1,\n  -1,\n  -1,\n  -1,\n  -1,\n  -1,\n  -1,\n  -1,\n  -1,\n  -1,\n  -1,\n  -1,\n  -1,\n  -1,\n  -1,\n  -1,\n  -1,\n  -1,\n  -1,\n  -1,\n  -1,\n  -1,\n  -1,\n  -1,\n  -1,\n  -1,\n  -1,\n  -1,\n  -1,\n  -1,\n  -1,\n  -1,\n  -1,\n  -1,\n  -1,\n  -1,\n  -1,\n  -1,\n  -1,\n  -1,\n  -1,\n  -1,\n  -1,\n  -1,\n  -1,\n  -1,\n  -1,\n  -1,\n  -1,\n  -1,\n  -1,\n  -1,\n  -1,\n  -1,\n  -1,\n  -1,\n  -1,\n  -1,\n  -1,\n  -1,\n  -1,\n  -1,\n  -1,\n  -1,\n  -1,\n  -1,\n  -1,\n  -1,\n  -1,\n  -1,\n  -1,\n  -1,\n  -1,\n  -1,\n  -1,\n  -1,\n  -1,\n  -1,\n  -1,\n  -1,\n  -1,\n  -1,\n  -1,\n  -1,\n  -1,\n  -1,\n  -1,\n  -1,\n  -1,\n  -1,\n  -1,\n  -1,\n  -1,\n  -1,\n  -1,\n  -1,\n  -1,\n  -1,\n  -1,\n  -1,\n  -1,\n  -1,\n  -1,\n  -1,\n  -1,\n  -1,\n  -1,\n  -1,\n  -1,\n  -1,\n  -1,\n  -1,\n  -1,\n  -1,\n  -1,\n  -1,\n  -1,\n  -1,\n  -1,\n  -1,\n  -1,\n  -1,\n  -1,\n  -1,\n  -1,\n  -1,\n  -1,\n  -1,\n  -1,\n  -1,\n  -1,\n  -1,\n  -1,\n  -1,\n  -1,\n  -1,\n  -1,\n  -1,\n  -1,\n  -1,\n  -1,\n  -1,\n  -1,\n  -1,\n  -1,\n  -1,\n  -1,\n  -1,\n  -1,\n  -1,\n  -1,\n  -1,\n  -1,\n  -1,\n  -1,\n  -1,\n  -1,\n  -1,\n  -1,\n  -1,\n  -1,\n  -1,\n  -1,\n  -1,\n  -1,\n  -1,\n  -1,\n  -1,\n  -1,\n  -1,\n  -1,\n  -1,\n  -1,\n  -1,\n  -1,\n  -1,\n  -1,\n  -1,\n  -1,\n  -1,\n  -1,\n  -1,\n  -1,\n  -1,\n  -1,\n  -1,\n  -1,\n  -1,\n  -1,\n  -1,\n  -1,\n  -1,\n  -1,\n  -1,\n  -1,\n  -1,\n  -1,\n  -1,\n  -1,\n  -1,\n  -1,\n  -1,\n  -1,\n  -1,\n  -1,\n  -1,\n  -1,\n  -1,\n  -1,\n  -1,\n  -1,\n  -1,\n  -1,\n  -1,\n  -1,\n  -1,\n  -1,\n  -1,\n  -1,\n  -1,\n  -1,\n  -1,\n  -1,\n  -1,\n  -1,\n  -1,\n  -1,\n  -1,\n  -1,\n  -1,\n  -1,\n  -1,\n  -1,\n  -1,\n  -1,\n  -1,\n  -1,\n  -1,\n  -1,\n  -1,\n  -1,\n  -1,\n  -1,\n  -1,\n  -1,\n  -1,\n  -1,\n  -1,\n  -1,\n  -1,\n  -1,\n  -1,\n  -1,\n  -1,\n  -1,\n  -1,\n  -1,\n  -1,\n  -1,\n  -1,\n  -1,\n  -1,\n  -1,\n  -1,\n  -1,\n  -1,\n  -1,\n  -1,\n  -1,\n  -1,\n  -1,\n  -1,\n  -1,\n  -1,\n  -1,\n  -1,\n  -1,\n  -1,\n  -1,\n  -1,\n  -1,\n  -1,\n  -1,\n  -1,\n  -1,\n  -1,\n  -1,\n  -1,\n  -1,\n  -1,\n  -1,\n  -1,\n  -1,\n  -1,\n  -1,\n  -1,\n  -1,\n  -1,\n  -1,\n  -1,\n  -1,\n  -1,\n  -1,\n  -1,\n  -1,\n  -1,\n  -1,\n  -1,\n  -1,\n  -1,\n  -1,\n  -1,\n  -1,\n  -1,\n  -1,\n  -1,\n  -1,\n  -1,\n  -1,\n  -1,\n  -1,\n  -1,\n  -1,\n  -1,\n  -1,\n  -1,\n  -1,\n  -1,\n  -1,\n  -1,\n  -1,\n  -1,\n  -1,\n  -1,\n  -1,\n  -1,\n  -1,\n  -1,\n  -1,\n  -1,\n  -1,\n  -1,\n  -1,\n  -1,\n  -1,\n  -1,\n  -1,\n  -1,\n  -1,\n  -1,\n  -1,\n  -1,\n  -1,\n  -1,\n  -1,\n  -1,\n  -1,\n  -1,\n  -1,\n  -1,\n  -1,\n  -1,\n  -1,\n  -1,\n  -1,\n  -1,\n  -1,\n  -1,\n  -1,\n  -1,\n  -1,\n  -1,\n  -1,\n  -1,\n  -1,\n  -1,\n  -1,\n  -1,\n  -1,\n  -1,\n  -1,\n  -1,\n  -1,\n  -1,\n  -1,\n  -1,\n  -1,\n  -1,\n  -1,\n  -1,\n  -1,\n  -1,\n  -1,\n  -1,\n  -1,\n  -1,\n  -1,\n  -1,\n  -1,\n  -1,\n  -1,\n  -1,\n  -1,\n  -1,\n  -1,\n  -1,\n  -1,\n  -1,\n  -1,\n  -1,\n  -1,\n  -1,\n  -1,\n  -1,\n  -1,\n  -1,\n  -1,\n  -1,\n  -1,\n  -1,\n  -1,\n  -1,\n  -1,\n  -1,\n  -1,\n  -1,\n  -1,\n  -1,\n  -1,\n  -1,\n  -1,\n  -1,\n  -1,\n  -1,\n  -1,\n  -1,\n  -1,\n  -1,\n  -1,\n  -1,\n  -1,\n  -1,\n  -1,\n  -1,\n  -1,\n  -1,\n  -1,\n  -1,\n  -1,\n  -1,\n  -1,\n  -1,\n  -1,\n  -1,\n  -1,\n  -1,\n  -1,\n  -1,\n  -1,\n  -1,\n  -1,\n  -1,\n  -1,\n  -1,\n  -1,\n  -1,\n  -1,\n  -1,\n  -1,\n  -1,\n  -1,\n  -1,\n  -1,\n  -1,\n  -1,\n  -1,\n  -1,\n  -1,\n  -1,\n  -1,\n  -1,\n  -1,\n  -1,\n  -1,\n  -1,\n  -1,\n  -1,\n  -1,\n  -1,\n  -1,\n  -1,\n  -1,\n  -1,\n  -1,\n  -1,\n  -1,\n  -1,\n  -1,\n  -1,\n  -1,\n  -1,\n  -1,\n  -1,\n  -1,\n  -1,\n  -1,\n  -1,\n  -1,\n  -1,\n  -1,\n  -1,\n  -1,\n  -1,\n  -1,\n  -1,\n  -1,\n  -1,\n  -1,\n  -1,\n  -1,\n  -1,\n  -1,\n  -1,\n  -1,\n  -1,\n  -1,\n  -1,\n  -1,\n  -1,\n  -1,\n  -1,\n  -1,\n  -1,\n  -1,\n  -1,\n  -1,\n  -1,\n  -1,\n  -1,\n  -1,\n  -1,\n  -1,\n  -1,\n  -1,\n  ...],\n 'classes': ['n01443537',\n  'n01629819',\n  'n01641577',\n  'n01644900',\n  'n01698640',\n  'n01742172',\n  'n01768244',\n  'n01770393',\n  'n01774384',\n  'n01774750',\n  'n01784675',\n  'n01855672',\n  'n01882714',\n  'n01910747',\n  'n01917289',\n  'n01944390',\n  'n01945685',\n  'n01950731',\n  'n01983481',\n  'n01984695',\n  'n02002724',\n  'n02056570',\n  'n02058221',\n  'n02074367',\n  'n02085620',\n  'n02094433',\n  'n02099601',\n  'n02099712',\n  'n02106662',\n  'n02113799',\n  'n02123045',\n  'n02123394',\n  'n02124075',\n  'n02125311',\n  'n02129165',\n  'n02132136',\n  'n02165456',\n  'n02190166',\n  'n02206856',\n  'n02226429',\n  'n02231487',\n  'n02233338',\n  'n02236044',\n  'n02268443',\n  'n02279972',\n  'n02281406',\n  'n02321529',\n  'n02364673',\n  'n02395406',\n  'n02403003',\n  'n02410509',\n  'n02415577',\n  'n02423022',\n  'n02437312',\n  'n02480495',\n  'n02481823',\n  'n02486410',\n  'n02504458',\n  'n02509815',\n  'n02666196',\n  'n02669723',\n  'n02699494',\n  'n02730930',\n  'n02769748',\n  'n02788148',\n  'n02791270',\n  'n02793495',\n  'n02795169',\n  'n02802426',\n  'n02808440',\n  'n02814533',\n  'n02814860',\n  'n02815834',\n  'n02823428',\n  'n02837789',\n  'n02841315',\n  'n02843684',\n  'n02883205',\n  'n02892201',\n  'n02906734',\n  'n02909870',\n  'n02917067',\n  'n02927161',\n  'n02948072',\n  'n02950826',\n  'n02963159',\n  'n02977058',\n  'n02988304',\n  'n02999410',\n  'n03014705',\n  'n03026506',\n  'n03042490',\n  'n03085013',\n  'n03089624',\n  'n03100240',\n  'n03126707',\n  'n03160309',\n  'n03179701',\n  'n03201208',\n  'n03250847',\n  'n03255030',\n  'n03355925',\n  'n03388043',\n  'n03393912',\n  'n03400231',\n  'n03404251',\n  'n03424325',\n  'n03444034',\n  'n03447447',\n  'n03544143',\n  'n03584254',\n  'n03599486',\n  'n03617480',\n  'n03637318',\n  'n03649909',\n  'n03662601',\n  'n03670208',\n  'n03706229',\n  'n03733131',\n  'n03763968',\n  'n03770439',\n  'n03796401',\n  'n03804744',\n  'n03814639',\n  'n03837869',\n  'n03838899',\n  'n03854065',\n  'n03891332',\n  'n03902125',\n  'n03930313',\n  'n03937543',\n  'n03970156',\n  'n03976657',\n  'n03977966',\n  'n03980874',\n  'n03983396',\n  'n03992509',\n  'n04008634',\n  'n04023962',\n  'n04067472',\n  'n04070727',\n  'n04074963',\n  'n04099969',\n  'n04118538',\n  'n04133789',\n  'n04146614',\n  'n04149813',\n  'n04179913',\n  'n04251144',\n  'n04254777',\n  'n04259630',\n  'n04265275',\n  'n04275548',\n  'n04285008',\n  'n04311004',\n  'n04328186',\n  'n04356056',\n  'n04366367',\n  'n04371430',\n  'n04376876',\n  'n04398044',\n  'n04399382',\n  'n04417672',\n  'n04456115',\n  'n04465501',\n  'n04486054',\n  'n04487081',\n  'n04501370',\n  'n04507155',\n  'n04532106',\n  'n04532670',\n  'n04540053',\n  'n04560804',\n  'n04562935',\n  'n04596742',\n  'n04597913',\n  'n06596364',\n  'n07579787',\n  'n07583066',\n  'n07614500',\n  'n07615774',\n  'n07695742',\n  'n07711569',\n  'n07715103',\n  'n07720875',\n  'n07734744',\n  'n07747607',\n  'n07749582',\n  'n07753592',\n  'n07768694',\n  'n07871810',\n  'n07873807',\n  'n07875152',\n  'n07920052',\n  'n09193705',\n  'n09246464',\n  'n09256479',\n  'n09332890',\n  'n09428293',\n  'n12267677']}"
     },
     "execution_count": 3,
     "metadata": {},
     "output_type": "execute_result"
    }
   ],
   "source": [
    "data"
   ],
   "metadata": {
    "collapsed": false,
    "ExecuteTime": {
     "end_time": "2024-03-03T17:55:18.689536365Z",
     "start_time": "2024-03-03T17:55:18.636338425Z"
    }
   }
  },
  {
   "cell_type": "code",
   "execution_count": 4,
   "outputs": [
    {
     "data": {
      "text/plain": "dict_keys(['images_train', 'images_val', 'images_test', 'labels_train', 'labels_val', 'labels_test', 'fnames_train', 'fnames_val', 'fnames_test', 'clsnames_train', 'clsnames_val', 'clsnames_test', 'classes'])"
     },
     "execution_count": 4,
     "metadata": {},
     "output_type": "execute_result"
    }
   ],
   "source": [
    "data.keys()"
   ],
   "metadata": {
    "collapsed": false,
    "ExecuteTime": {
     "end_time": "2024-03-03T17:55:33.077100160Z",
     "start_time": "2024-03-03T17:55:33.070386846Z"
    }
   }
  },
  {
   "cell_type": "code",
   "execution_count": 6,
   "outputs": [
    {
     "data": {
      "text/plain": "torch.Size([10000, 3, 64, 64])"
     },
     "execution_count": 6,
     "metadata": {},
     "output_type": "execute_result"
    }
   ],
   "source": [
    "data['images_val'].shape"
   ],
   "metadata": {
    "collapsed": false,
    "ExecuteTime": {
     "end_time": "2024-03-03T17:56:47.793194924Z",
     "start_time": "2024-03-03T17:56:47.790231563Z"
    }
   }
  },
  {
   "cell_type": "code",
   "execution_count": 8,
   "outputs": [
    {
     "data": {
      "text/plain": "tensor([  0,   0,   0,  ..., 199, 199, 199])"
     },
     "execution_count": 8,
     "metadata": {},
     "output_type": "execute_result"
    }
   ],
   "source": [
    "data['labels_train']"
   ],
   "metadata": {
    "collapsed": false,
    "ExecuteTime": {
     "end_time": "2024-03-03T17:57:04.917475605Z",
     "start_time": "2024-03-03T17:57:04.914546117Z"
    }
   }
  },
  {
   "cell_type": "code",
   "execution_count": 10,
   "outputs": [
    {
     "data": {
      "text/plain": "torch.Size([10000])"
     },
     "execution_count": 10,
     "metadata": {},
     "output_type": "execute_result"
    }
   ],
   "source": [
    "data['labels_test'].shape"
   ],
   "metadata": {
    "collapsed": false,
    "ExecuteTime": {
     "end_time": "2024-03-03T17:57:34.332870955Z",
     "start_time": "2024-03-03T17:57:34.314959420Z"
    }
   }
  },
  {
   "cell_type": "code",
   "execution_count": null,
   "outputs": [],
   "source": [],
   "metadata": {
    "collapsed": false
   }
  }
 ],
 "metadata": {
  "kernelspec": {
   "display_name": "Python 3",
   "language": "python",
   "name": "python3"
  },
  "language_info": {
   "codemirror_mode": {
    "name": "ipython",
    "version": 2
   },
   "file_extension": ".py",
   "mimetype": "text/x-python",
   "name": "python",
   "nbconvert_exporter": "python",
   "pygments_lexer": "ipython2",
   "version": "2.7.6"
  }
 },
 "nbformat": 4,
 "nbformat_minor": 0
}
